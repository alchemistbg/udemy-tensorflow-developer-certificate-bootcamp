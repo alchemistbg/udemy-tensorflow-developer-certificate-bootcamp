{
 "cells": [
  {
   "cell_type": "markdown",
   "id": "8f76aa6b-4133-44cc-aa8f-aba1850660d4",
   "metadata": {},
   "source": [
    "# **Introduction to TensorFlow**"
   ]
  },
  {
   "cell_type": "markdown",
   "id": "27953169-7241-4e3f-9326-abceceebedd2",
   "metadata": {},
   "source": [
    "## **Creating tensors**"
   ]
  },
  {
   "cell_type": "markdown",
   "id": "f0bb88d7-6cff-480c-8d8a-e7858a93cb6c",
   "metadata": {},
   "source": [
    "#### **Using tf.constant()**"
   ]
  },
  {
   "cell_type": "code",
   "execution_count": 1,
   "id": "e3e4cae3-a424-45b2-a756-a31756d50800",
   "metadata": {},
   "outputs": [
    {
     "name": "stderr",
     "output_type": "stream",
     "text": [
      "2024-07-02 10:18:58.659323: I tensorflow/stream_executor/platform/default/dso_loader.cc:49] Successfully opened dynamic library libcudart.so.10.1\n"
     ]
    },
    {
     "name": "stdout",
     "output_type": "stream",
     "text": [
      "2.4.1\n"
     ]
    }
   ],
   "source": [
    "import numpy as np\n",
    "import pandas as pd\n",
    "import tensorflow as tf\n",
    "print(tf.__version__)"
   ]
  },
  {
   "cell_type": "code",
   "execution_count": 2,
   "id": "2d46079e-ba75-4969-b15e-ccb1f36257b5",
   "metadata": {},
   "outputs": [
    {
     "name": "stderr",
     "output_type": "stream",
     "text": [
      "2024-07-02 10:19:00.365909: I tensorflow/compiler/jit/xla_cpu_device.cc:41] Not creating XLA devices, tf_xla_enable_xla_devices not set\n",
      "2024-07-02 10:19:00.370439: I tensorflow/stream_executor/platform/default/dso_loader.cc:49] Successfully opened dynamic library libcuda.so.1\n",
      "2024-07-02 10:19:00.602526: E tensorflow/stream_executor/cuda/cuda_gpu_executor.cc:927] could not open file to read NUMA node: /sys/bus/pci/devices/0000:01:00.0/numa_node\n",
      "Your kernel may have been built without NUMA support.\n",
      "2024-07-02 10:19:00.602575: I tensorflow/core/common_runtime/gpu/gpu_device.cc:1720] Found device 0 with properties: \n",
      "pciBusID: 0000:01:00.0 name: NVIDIA GeForce RTX 3060 computeCapability: 8.6\n",
      "coreClock: 1.837GHz coreCount: 28 deviceMemorySize: 12.00GiB deviceMemoryBandwidth: 335.32GiB/s\n",
      "2024-07-02 10:19:00.602588: I tensorflow/stream_executor/platform/default/dso_loader.cc:49] Successfully opened dynamic library libcudart.so.10.1\n",
      "2024-07-02 10:19:00.632830: I tensorflow/stream_executor/platform/default/dso_loader.cc:49] Successfully opened dynamic library libcublas.so.10\n",
      "2024-07-02 10:19:00.632875: I tensorflow/stream_executor/platform/default/dso_loader.cc:49] Successfully opened dynamic library libcublasLt.so.10\n",
      "2024-07-02 10:19:00.650244: I tensorflow/stream_executor/platform/default/dso_loader.cc:49] Successfully opened dynamic library libcufft.so.10\n",
      "2024-07-02 10:19:00.654707: I tensorflow/stream_executor/platform/default/dso_loader.cc:49] Successfully opened dynamic library libcurand.so.10\n",
      "2024-07-02 10:19:00.686246: I tensorflow/stream_executor/platform/default/dso_loader.cc:49] Successfully opened dynamic library libcusolver.so.10\n",
      "2024-07-02 10:19:00.690558: I tensorflow/stream_executor/platform/default/dso_loader.cc:49] Successfully opened dynamic library libcusparse.so.10\n",
      "2024-07-02 10:19:00.741572: I tensorflow/stream_executor/platform/default/dso_loader.cc:49] Successfully opened dynamic library libcudnn.so.7\n",
      "2024-07-02 10:19:00.741675: E tensorflow/stream_executor/cuda/cuda_gpu_executor.cc:927] could not open file to read NUMA node: /sys/bus/pci/devices/0000:01:00.0/numa_node\n",
      "Your kernel may have been built without NUMA support.\n",
      "2024-07-02 10:19:00.741711: E tensorflow/stream_executor/cuda/cuda_gpu_executor.cc:927] could not open file to read NUMA node: /sys/bus/pci/devices/0000:01:00.0/numa_node\n",
      "Your kernel may have been built without NUMA support.\n",
      "2024-07-02 10:19:00.741718: I tensorflow/core/common_runtime/gpu/gpu_device.cc:1862] Adding visible gpu devices: 0\n",
      "2024-07-02 10:19:00.743118: I tensorflow/core/platform/cpu_feature_guard.cc:142] This TensorFlow binary is optimized with oneAPI Deep Neural Network Library (oneDNN) to use the following CPU instructions in performance-critical operations:  SSE4.1 SSE4.2 AVX AVX2 AVX512F FMA\n",
      "To enable them in other operations, rebuild TensorFlow with the appropriate compiler flags.\n",
      "2024-07-02 10:19:00.745238: I tensorflow/compiler/jit/xla_gpu_device.cc:99] Not creating XLA devices, tf_xla_enable_xla_devices not set\n",
      "2024-07-02 10:19:00.745301: E tensorflow/stream_executor/cuda/cuda_gpu_executor.cc:927] could not open file to read NUMA node: /sys/bus/pci/devices/0000:01:00.0/numa_node\n",
      "Your kernel may have been built without NUMA support.\n",
      "2024-07-02 10:19:00.745314: I tensorflow/core/common_runtime/gpu/gpu_device.cc:1720] Found device 0 with properties: \n",
      "pciBusID: 0000:01:00.0 name: NVIDIA GeForce RTX 3060 computeCapability: 8.6\n",
      "coreClock: 1.837GHz coreCount: 28 deviceMemorySize: 12.00GiB deviceMemoryBandwidth: 335.32GiB/s\n",
      "2024-07-02 10:19:00.745323: I tensorflow/stream_executor/platform/default/dso_loader.cc:49] Successfully opened dynamic library libcudart.so.10.1\n",
      "2024-07-02 10:19:00.745331: I tensorflow/stream_executor/platform/default/dso_loader.cc:49] Successfully opened dynamic library libcublas.so.10\n",
      "2024-07-02 10:19:00.745337: I tensorflow/stream_executor/platform/default/dso_loader.cc:49] Successfully opened dynamic library libcublasLt.so.10\n",
      "2024-07-02 10:19:00.745342: I tensorflow/stream_executor/platform/default/dso_loader.cc:49] Successfully opened dynamic library libcufft.so.10\n",
      "2024-07-02 10:19:00.745347: I tensorflow/stream_executor/platform/default/dso_loader.cc:49] Successfully opened dynamic library libcurand.so.10\n",
      "2024-07-02 10:19:00.745371: I tensorflow/stream_executor/platform/default/dso_loader.cc:49] Successfully opened dynamic library libcusolver.so.10\n",
      "2024-07-02 10:19:00.745380: I tensorflow/stream_executor/platform/default/dso_loader.cc:49] Successfully opened dynamic library libcusparse.so.10\n",
      "2024-07-02 10:19:00.745387: I tensorflow/stream_executor/platform/default/dso_loader.cc:49] Successfully opened dynamic library libcudnn.so.7\n",
      "2024-07-02 10:19:00.745413: E tensorflow/stream_executor/cuda/cuda_gpu_executor.cc:927] could not open file to read NUMA node: /sys/bus/pci/devices/0000:01:00.0/numa_node\n",
      "Your kernel may have been built without NUMA support.\n",
      "2024-07-02 10:19:00.745435: E tensorflow/stream_executor/cuda/cuda_gpu_executor.cc:927] could not open file to read NUMA node: /sys/bus/pci/devices/0000:01:00.0/numa_node\n",
      "Your kernel may have been built without NUMA support.\n",
      "2024-07-02 10:19:00.745439: I tensorflow/core/common_runtime/gpu/gpu_device.cc:1862] Adding visible gpu devices: 0\n",
      "2024-07-02 10:19:00.745921: I tensorflow/stream_executor/platform/default/dso_loader.cc:49] Successfully opened dynamic library libcudart.so.10.1\n",
      "2024-07-02 10:19:03.036922: I tensorflow/core/common_runtime/gpu/gpu_device.cc:1261] Device interconnect StreamExecutor with strength 1 edge matrix:\n",
      "2024-07-02 10:19:03.036943: I tensorflow/core/common_runtime/gpu/gpu_device.cc:1267]      0 \n",
      "2024-07-02 10:19:03.036948: I tensorflow/core/common_runtime/gpu/gpu_device.cc:1280] 0:   N \n",
      "2024-07-02 10:19:03.037689: E tensorflow/stream_executor/cuda/cuda_gpu_executor.cc:927] could not open file to read NUMA node: /sys/bus/pci/devices/0000:01:00.0/numa_node\n",
      "Your kernel may have been built without NUMA support.\n",
      "2024-07-02 10:19:03.037702: I tensorflow/core/common_runtime/gpu/gpu_device.cc:1489] Could not identify NUMA node of platform GPU id 0, defaulting to 0.  Your kernel may not have been built with NUMA support.\n",
      "2024-07-02 10:19:03.037732: E tensorflow/stream_executor/cuda/cuda_gpu_executor.cc:927] could not open file to read NUMA node: /sys/bus/pci/devices/0000:01:00.0/numa_node\n",
      "Your kernel may have been built without NUMA support.\n",
      "2024-07-02 10:19:03.037755: E tensorflow/stream_executor/cuda/cuda_gpu_executor.cc:927] could not open file to read NUMA node: /sys/bus/pci/devices/0000:01:00.0/numa_node\n",
      "Your kernel may have been built without NUMA support.\n",
      "2024-07-02 10:19:03.037773: I tensorflow/core/common_runtime/gpu/gpu_device.cc:1406] Created TensorFlow device (/job:localhost/replica:0/task:0/device:GPU:0 with 10436 MB memory) -> physical GPU (device: 0, name: NVIDIA GeForce RTX 3060, pci bus id: 0000:01:00.0, compute capability: 8.6)\n"
     ]
    }
   ],
   "source": [
    "scalar = tf.constant(7)"
   ]
  },
  {
   "cell_type": "code",
   "execution_count": 3,
   "id": "1982b92e-b9f9-48aa-9fd3-bf59991bd5e7",
   "metadata": {},
   "outputs": [
    {
     "data": {
      "text/plain": [
       "<tf.Tensor: shape=(), dtype=int32, numpy=7>"
      ]
     },
     "execution_count": 3,
     "metadata": {},
     "output_type": "execute_result"
    }
   ],
   "source": [
    "scalar"
   ]
  },
  {
   "cell_type": "code",
   "execution_count": 4,
   "id": "6cad468f-bdfe-4d6a-b0db-e8c2b41e8ac0",
   "metadata": {},
   "outputs": [
    {
     "data": {
      "text/plain": [
       "0"
      ]
     },
     "execution_count": 4,
     "metadata": {},
     "output_type": "execute_result"
    }
   ],
   "source": [
    "scalar.ndim"
   ]
  },
  {
   "cell_type": "code",
   "execution_count": 5,
   "id": "527305a9-06e5-4cea-bf9b-14da30bf6e25",
   "metadata": {},
   "outputs": [],
   "source": [
    "vector = tf.constant([42, 42])"
   ]
  },
  {
   "cell_type": "code",
   "execution_count": 6,
   "id": "4db81bcf-9bee-44e8-9c81-03733fcbf938",
   "metadata": {},
   "outputs": [
    {
     "data": {
      "text/plain": [
       "<tf.Tensor: shape=(2,), dtype=int32, numpy=array([42, 42], dtype=int32)>"
      ]
     },
     "execution_count": 6,
     "metadata": {},
     "output_type": "execute_result"
    }
   ],
   "source": [
    "vector"
   ]
  },
  {
   "cell_type": "code",
   "execution_count": 7,
   "id": "1902cbad-e193-4c22-9ca5-5787aa275bb6",
   "metadata": {},
   "outputs": [
    {
     "data": {
      "text/plain": [
       "1"
      ]
     },
     "execution_count": 7,
     "metadata": {},
     "output_type": "execute_result"
    }
   ],
   "source": [
    "vector.ndim"
   ]
  },
  {
   "cell_type": "code",
   "execution_count": 8,
   "id": "31fdb5c0-6ece-4f7f-89ce-eaedcd720fef",
   "metadata": {},
   "outputs": [],
   "source": [
    "matrix = tf.constant([[42, 24],\n",
    "                      [42, 24]])"
   ]
  },
  {
   "cell_type": "code",
   "execution_count": 9,
   "id": "0e8ba204-64a6-4f0b-9eef-1ac4dcdcdfe5",
   "metadata": {},
   "outputs": [
    {
     "data": {
      "text/plain": [
       "<tf.Tensor: shape=(2, 2), dtype=int32, numpy=\n",
       "array([[42, 24],\n",
       "       [42, 24]], dtype=int32)>"
      ]
     },
     "execution_count": 9,
     "metadata": {},
     "output_type": "execute_result"
    }
   ],
   "source": [
    "matrix"
   ]
  },
  {
   "cell_type": "code",
   "execution_count": 10,
   "id": "07671768-9b0a-4e8d-9c3a-ba97b2d21ea6",
   "metadata": {},
   "outputs": [
    {
     "data": {
      "text/plain": [
       "2"
      ]
     },
     "execution_count": 10,
     "metadata": {},
     "output_type": "execute_result"
    }
   ],
   "source": [
    "matrix.ndim"
   ]
  },
  {
   "cell_type": "code",
   "execution_count": 11,
   "id": "06f592ac-f328-4069-8e41-1c8dc325e882",
   "metadata": {},
   "outputs": [],
   "source": [
    "matrix_2 = tf.constant([[42, 24],\n",
    "                        [42, 24],\n",
    "                        [12, 21]], dtype = tf.float16)"
   ]
  },
  {
   "cell_type": "code",
   "execution_count": 12,
   "id": "872e195d-7e30-41f1-a38e-7a43ce1064f8",
   "metadata": {},
   "outputs": [
    {
     "data": {
      "text/plain": [
       "<tf.Tensor: shape=(3, 2), dtype=float16, numpy=\n",
       "array([[42., 24.],\n",
       "       [42., 24.],\n",
       "       [12., 21.]], dtype=float16)>"
      ]
     },
     "execution_count": 12,
     "metadata": {},
     "output_type": "execute_result"
    }
   ],
   "source": [
    "matrix_2"
   ]
  },
  {
   "cell_type": "code",
   "execution_count": 13,
   "id": "fa363f28-cb7c-45f6-94ec-8ef3d9b0f2f4",
   "metadata": {},
   "outputs": [
    {
     "data": {
      "text/plain": [
       "2"
      ]
     },
     "execution_count": 13,
     "metadata": {},
     "output_type": "execute_result"
    }
   ],
   "source": [
    "matrix_2.ndim"
   ]
  },
  {
   "cell_type": "code",
   "execution_count": 14,
   "id": "70255187-3511-46ff-9ea4-81841ef4fe96",
   "metadata": {},
   "outputs": [],
   "source": [
    "tensor = tf.constant([[[1, 2], [3, 4]],\n",
    "                      [[5, 6], [7, 8]],\n",
    "                      [[9, 10], [11, 12]]])"
   ]
  },
  {
   "cell_type": "code",
   "execution_count": 15,
   "id": "22342c9a-c91c-4974-b7f9-dcf03956f13d",
   "metadata": {},
   "outputs": [
    {
     "data": {
      "text/plain": [
       "<tf.Tensor: shape=(3, 2, 2), dtype=int32, numpy=\n",
       "array([[[ 1,  2],\n",
       "        [ 3,  4]],\n",
       "\n",
       "       [[ 5,  6],\n",
       "        [ 7,  8]],\n",
       "\n",
       "       [[ 9, 10],\n",
       "        [11, 12]]], dtype=int32)>"
      ]
     },
     "execution_count": 15,
     "metadata": {},
     "output_type": "execute_result"
    }
   ],
   "source": [
    "tensor"
   ]
  },
  {
   "cell_type": "code",
   "execution_count": 16,
   "id": "4807fc3d-48d0-465c-955b-7fe0909c643b",
   "metadata": {},
   "outputs": [
    {
     "data": {
      "text/plain": [
       "3"
      ]
     },
     "execution_count": 16,
     "metadata": {},
     "output_type": "execute_result"
    }
   ],
   "source": [
    "tensor.ndim"
   ]
  },
  {
   "cell_type": "markdown",
   "id": "379a1b22-a4e4-4ecf-9470-8da1a0c72520",
   "metadata": {},
   "source": [
    "#### **Using tf.variable()**"
   ]
  },
  {
   "cell_type": "code",
   "execution_count": 17,
   "id": "f931d064-89ae-4f5c-9df7-06a91aa6d5b6",
   "metadata": {},
   "outputs": [
    {
     "data": {
      "text/plain": [
       "<tf.Variable 'Variable:0' shape=(2,) dtype=int32, numpy=array([42, 24], dtype=int32)>"
      ]
     },
     "execution_count": 17,
     "metadata": {},
     "output_type": "execute_result"
    }
   ],
   "source": [
    "changeable_tensor = tf.Variable([42, 24])\n",
    "changeable_tensor"
   ]
  },
  {
   "cell_type": "code",
   "execution_count": 18,
   "id": "3f5732d4-e40c-4990-851d-28ea89a4d7ae",
   "metadata": {},
   "outputs": [
    {
     "data": {
      "text/plain": [
       "<tf.Tensor: shape=(2,), dtype=int32, numpy=array([42, 24], dtype=int32)>"
      ]
     },
     "execution_count": 18,
     "metadata": {},
     "output_type": "execute_result"
    }
   ],
   "source": [
    "unchangeable_tensor = tf.constant([42, 24])\n",
    "unchangeable_tensor"
   ]
  },
  {
   "cell_type": "code",
   "execution_count": 19,
   "id": "d9ee6b40-b8ec-4c8a-bbee-8b7c385377e3",
   "metadata": {},
   "outputs": [
    {
     "data": {
      "text/plain": [
       "<tf.Tensor: shape=(), dtype=int32, numpy=42>"
      ]
     },
     "execution_count": 19,
     "metadata": {},
     "output_type": "execute_result"
    }
   ],
   "source": [
    "changeable_tensor[0]"
   ]
  },
  {
   "cell_type": "code",
   "execution_count": 20,
   "id": "6c2f62f3-9672-4e90-85d9-e4b05c440390",
   "metadata": {},
   "outputs": [],
   "source": [
    "# TypeError: 'ResourceVariable' object does not support item assignment\n",
    "# changeable_tensor[0] = 24"
   ]
  },
  {
   "cell_type": "code",
   "execution_count": 21,
   "id": "77ed592f-564c-4473-942b-74e2105dc707",
   "metadata": {},
   "outputs": [
    {
     "data": {
      "text/plain": [
       "<tf.Variable 'UnreadVariable' shape=(2,) dtype=int32, numpy=array([24, 24], dtype=int32)>"
      ]
     },
     "execution_count": 21,
     "metadata": {},
     "output_type": "execute_result"
    }
   ],
   "source": [
    "changeable_tensor[0].assign(24)"
   ]
  },
  {
   "cell_type": "code",
   "execution_count": 22,
   "id": "f0cafa71-e1f1-4d65-b13a-a55e4da7f081",
   "metadata": {},
   "outputs": [
    {
     "data": {
      "text/plain": [
       "<tf.Variable 'Variable:0' shape=(2,) dtype=int32, numpy=array([24, 24], dtype=int32)>"
      ]
     },
     "execution_count": 22,
     "metadata": {},
     "output_type": "execute_result"
    }
   ],
   "source": [
    "changeable_tensor"
   ]
  },
  {
   "cell_type": "code",
   "execution_count": 23,
   "id": "c8b17895-07e0-4216-81e0-50c9eed8f6a6",
   "metadata": {},
   "outputs": [
    {
     "data": {
      "text/plain": [
       "<tf.Tensor: shape=(), dtype=int32, numpy=42>"
      ]
     },
     "execution_count": 23,
     "metadata": {},
     "output_type": "execute_result"
    }
   ],
   "source": [
    "unchangeable_tensor[0]"
   ]
  },
  {
   "cell_type": "code",
   "execution_count": 24,
   "id": "b7ffa3c6-1671-4495-b02f-6ad987987fd4",
   "metadata": {},
   "outputs": [],
   "source": [
    "# TypeError: 'tensorflow.python.framework.ops.EagerTensor' object does not support item assignment\n",
    "# unchangeable_tensor[0] = 24"
   ]
  },
  {
   "cell_type": "code",
   "execution_count": 25,
   "id": "a4a70c5f-0994-468d-8c0a-523bc7e6fcea",
   "metadata": {},
   "outputs": [],
   "source": [
    "# AttributeError: 'tensorflow.python.framework.ops.EagerTensor' object has no attribute 'assign'\n",
    "# unchangeable_tensor[0].assign(24)"
   ]
  },
  {
   "cell_type": "markdown",
   "id": "bf3ad5dc-0760-4ba9-9e9c-5b2d9e33abae",
   "metadata": {},
   "source": [
    "#### **Creating random tensors**"
   ]
  },
  {
   "cell_type": "code",
   "execution_count": 26,
   "id": "6338f24a-34c9-4c17-b82f-4f6784d2ea95",
   "metadata": {},
   "outputs": [],
   "source": [
    "random_1 = tf.random.Generator.from_seed(42)"
   ]
  },
  {
   "cell_type": "code",
   "execution_count": 27,
   "id": "29109e63-4edd-4b8b-92f8-9c40b7b8627e",
   "metadata": {},
   "outputs": [
    {
     "data": {
      "text/plain": [
       "<tensorflow.python.ops.stateful_random_ops.Generator at 0x7f70744f5400>"
      ]
     },
     "execution_count": 27,
     "metadata": {},
     "output_type": "execute_result"
    }
   ],
   "source": [
    "random_1"
   ]
  },
  {
   "cell_type": "code",
   "execution_count": 28,
   "id": "b5ae73c1-e817-4044-834a-a156e4136a49",
   "metadata": {},
   "outputs": [],
   "source": [
    "random_1 = random_1.normal(shape = (3, 2))"
   ]
  },
  {
   "cell_type": "code",
   "execution_count": 29,
   "id": "29fca8dc-9da2-49db-8e28-82b3633ca8d1",
   "metadata": {},
   "outputs": [
    {
     "data": {
      "text/plain": [
       "<tf.Tensor: shape=(3, 2), dtype=float32, numpy=\n",
       "array([[-0.7565803 , -0.06854702],\n",
       "       [ 0.07595026, -1.2573844 ],\n",
       "       [-0.23193765, -1.8107855 ]], dtype=float32)>"
      ]
     },
     "execution_count": 29,
     "metadata": {},
     "output_type": "execute_result"
    }
   ],
   "source": [
    "random_1"
   ]
  },
  {
   "cell_type": "code",
   "execution_count": 30,
   "id": "d5dd2007-1e87-42b3-9523-240db2c7bb41",
   "metadata": {},
   "outputs": [],
   "source": [
    "random_2 = tf.random.Generator.from_seed(42)"
   ]
  },
  {
   "cell_type": "code",
   "execution_count": 31,
   "id": "a862f82f-c932-4361-8373-92b2a8f2ee00",
   "metadata": {},
   "outputs": [
    {
     "data": {
      "text/plain": [
       "<tensorflow.python.ops.stateful_random_ops.Generator at 0x7f7074494070>"
      ]
     },
     "execution_count": 31,
     "metadata": {},
     "output_type": "execute_result"
    }
   ],
   "source": [
    "random_2"
   ]
  },
  {
   "cell_type": "code",
   "execution_count": 32,
   "id": "d08e99a2-18fc-4917-8f06-508ccdd567c1",
   "metadata": {},
   "outputs": [],
   "source": [
    "random_2 = random_2.normal(shape = (3, 2))"
   ]
  },
  {
   "cell_type": "code",
   "execution_count": 33,
   "id": "0c530260-155a-4fb7-bb31-69d007948cf6",
   "metadata": {},
   "outputs": [
    {
     "data": {
      "text/plain": [
       "<tf.Tensor: shape=(3, 2), dtype=float32, numpy=\n",
       "array([[-0.7565803 , -0.06854702],\n",
       "       [ 0.07595026, -1.2573844 ],\n",
       "       [-0.23193765, -1.8107855 ]], dtype=float32)>"
      ]
     },
     "execution_count": 33,
     "metadata": {},
     "output_type": "execute_result"
    }
   ],
   "source": [
    "random_2"
   ]
  },
  {
   "cell_type": "code",
   "execution_count": 34,
   "id": "7e3708ec-75c3-435b-8d08-59708eb572a6",
   "metadata": {},
   "outputs": [
    {
     "data": {
      "text/plain": [
       "<tf.Tensor: shape=(3, 2), dtype=bool, numpy=\n",
       "array([[ True,  True],\n",
       "       [ True,  True],\n",
       "       [ True,  True]])>"
      ]
     },
     "execution_count": 34,
     "metadata": {},
     "output_type": "execute_result"
    }
   ],
   "source": [
    "random_1 == random_2"
   ]
  },
  {
   "cell_type": "code",
   "execution_count": 35,
   "id": "08e143de-9a62-4174-b964-f18389960831",
   "metadata": {},
   "outputs": [
    {
     "data": {
      "text/plain": [
       "<tf.Tensor: shape=(3, 2), dtype=float32, numpy=\n",
       "array([[-0.23193765, -1.8107855 ],\n",
       "       [-0.7565803 , -0.06854702],\n",
       "       [ 0.07595026, -1.2573844 ]], dtype=float32)>"
      ]
     },
     "execution_count": 35,
     "metadata": {},
     "output_type": "execute_result"
    }
   ],
   "source": [
    "tf.random.set_seed(42)\n",
    "tf.random.shuffle(random_1, seed = 24)"
   ]
  },
  {
   "cell_type": "markdown",
   "id": "cf689d3e-ec45-45a5-a377-1950daecf2f3",
   "metadata": {},
   "source": [
    "#### **Create tensors using numpy arrays and pandas dataframes**"
   ]
  },
  {
   "cell_type": "code",
   "execution_count": 36,
   "id": "fb644554-ec1b-4345-94cb-597139559b79",
   "metadata": {},
   "outputs": [
    {
     "data": {
      "text/plain": [
       "<tf.Tensor: shape=(4, 2), dtype=int32, numpy=\n",
       "array([[1, 1],\n",
       "       [1, 1],\n",
       "       [1, 1],\n",
       "       [1, 1]], dtype=int32)>"
      ]
     },
     "execution_count": 36,
     "metadata": {},
     "output_type": "execute_result"
    }
   ],
   "source": [
    "tf.ones(shape = (4, 2), dtype = 'int32')"
   ]
  },
  {
   "cell_type": "code",
   "execution_count": 37,
   "id": "a0e76de6-ba8f-473c-9f0b-d7c8b7e3f348",
   "metadata": {},
   "outputs": [
    {
     "data": {
      "text/plain": [
       "<tf.Tensor: shape=(4, 2), dtype=int32, numpy=\n",
       "array([[0, 0],\n",
       "       [0, 0],\n",
       "       [0, 0],\n",
       "       [0, 0]], dtype=int32)>"
      ]
     },
     "execution_count": 37,
     "metadata": {},
     "output_type": "execute_result"
    }
   ],
   "source": [
    "tf.zeros(shape = (4, 2), dtype = 'int32')"
   ]
  },
  {
   "cell_type": "code",
   "execution_count": 38,
   "id": "416d76c3-a182-4987-853f-d06a8d7d51db",
   "metadata": {},
   "outputs": [],
   "source": [
    "numpy_A = np.arange(1, 25, dtype = np.int32)"
   ]
  },
  {
   "cell_type": "code",
   "execution_count": 39,
   "id": "4bb78a8b-710e-44e9-9ef4-681fc158a988",
   "metadata": {},
   "outputs": [
    {
     "data": {
      "text/plain": [
       "array([ 1,  2,  3,  4,  5,  6,  7,  8,  9, 10, 11, 12, 13, 14, 15, 16, 17,\n",
       "       18, 19, 20, 21, 22, 23, 24], dtype=int32)"
      ]
     },
     "execution_count": 39,
     "metadata": {},
     "output_type": "execute_result"
    }
   ],
   "source": [
    "numpy_A"
   ]
  },
  {
   "cell_type": "code",
   "execution_count": 40,
   "id": "b2f8ba9c-f425-43e5-9e5f-3869c6ae2b93",
   "metadata": {},
   "outputs": [],
   "source": [
    "numpy_A = numpy_A.reshape((4, 6))"
   ]
  },
  {
   "cell_type": "code",
   "execution_count": 41,
   "id": "3e614c1e-b32a-460a-881f-8ea1a82392a4",
   "metadata": {},
   "outputs": [],
   "source": [
    "n_A = tf.constant(numpy_A)"
   ]
  },
  {
   "cell_type": "code",
   "execution_count": 42,
   "id": "6199afb4-d9c2-4d5d-9656-cd1ea6266691",
   "metadata": {},
   "outputs": [
    {
     "data": {
      "text/plain": [
       "<tf.Tensor: shape=(4, 6), dtype=int32, numpy=\n",
       "array([[ 1,  2,  3,  4,  5,  6],\n",
       "       [ 7,  8,  9, 10, 11, 12],\n",
       "       [13, 14, 15, 16, 17, 18],\n",
       "       [19, 20, 21, 22, 23, 24]], dtype=int32)>"
      ]
     },
     "execution_count": 42,
     "metadata": {},
     "output_type": "execute_result"
    }
   ],
   "source": [
    "n_A"
   ]
  },
  {
   "cell_type": "code",
   "execution_count": 43,
   "id": "30539bd0-f1bb-49af-8913-54511087debf",
   "metadata": {},
   "outputs": [],
   "source": [
    "n_B = tf.constant(numpy_A, shape = (2, 3, 4))"
   ]
  },
  {
   "cell_type": "code",
   "execution_count": 44,
   "id": "97ede666-943f-4a63-9d00-152169d0d1e2",
   "metadata": {},
   "outputs": [
    {
     "data": {
      "text/plain": [
       "<tf.Tensor: shape=(2, 3, 4), dtype=int32, numpy=\n",
       "array([[[ 1,  2,  3,  4],\n",
       "        [ 5,  6,  7,  8],\n",
       "        [ 9, 10, 11, 12]],\n",
       "\n",
       "       [[13, 14, 15, 16],\n",
       "        [17, 18, 19, 20],\n",
       "        [21, 22, 23, 24]]], dtype=int32)>"
      ]
     },
     "execution_count": 44,
     "metadata": {},
     "output_type": "execute_result"
    }
   ],
   "source": [
    "n_B"
   ]
  },
  {
   "cell_type": "code",
   "execution_count": 45,
   "id": "ca31689d-908c-4bb3-886f-5264a179f42d",
   "metadata": {},
   "outputs": [],
   "source": [
    "pandas_A = pd.DataFrame(numpy_A)"
   ]
  },
  {
   "cell_type": "code",
   "execution_count": 46,
   "id": "1538ea45-546d-467c-acda-d498620b6164",
   "metadata": {},
   "outputs": [
    {
     "data": {
      "text/html": [
       "<div>\n",
       "<style scoped>\n",
       "    .dataframe tbody tr th:only-of-type {\n",
       "        vertical-align: middle;\n",
       "    }\n",
       "\n",
       "    .dataframe tbody tr th {\n",
       "        vertical-align: top;\n",
       "    }\n",
       "\n",
       "    .dataframe thead th {\n",
       "        text-align: right;\n",
       "    }\n",
       "</style>\n",
       "<table border=\"1\" class=\"dataframe\">\n",
       "  <thead>\n",
       "    <tr style=\"text-align: right;\">\n",
       "      <th></th>\n",
       "      <th>0</th>\n",
       "      <th>1</th>\n",
       "      <th>2</th>\n",
       "      <th>3</th>\n",
       "      <th>4</th>\n",
       "      <th>5</th>\n",
       "    </tr>\n",
       "  </thead>\n",
       "  <tbody>\n",
       "    <tr>\n",
       "      <th>0</th>\n",
       "      <td>1</td>\n",
       "      <td>2</td>\n",
       "      <td>3</td>\n",
       "      <td>4</td>\n",
       "      <td>5</td>\n",
       "      <td>6</td>\n",
       "    </tr>\n",
       "    <tr>\n",
       "      <th>1</th>\n",
       "      <td>7</td>\n",
       "      <td>8</td>\n",
       "      <td>9</td>\n",
       "      <td>10</td>\n",
       "      <td>11</td>\n",
       "      <td>12</td>\n",
       "    </tr>\n",
       "    <tr>\n",
       "      <th>2</th>\n",
       "      <td>13</td>\n",
       "      <td>14</td>\n",
       "      <td>15</td>\n",
       "      <td>16</td>\n",
       "      <td>17</td>\n",
       "      <td>18</td>\n",
       "    </tr>\n",
       "    <tr>\n",
       "      <th>3</th>\n",
       "      <td>19</td>\n",
       "      <td>20</td>\n",
       "      <td>21</td>\n",
       "      <td>22</td>\n",
       "      <td>23</td>\n",
       "      <td>24</td>\n",
       "    </tr>\n",
       "  </tbody>\n",
       "</table>\n",
       "</div>"
      ],
      "text/plain": [
       "    0   1   2   3   4   5\n",
       "0   1   2   3   4   5   6\n",
       "1   7   8   9  10  11  12\n",
       "2  13  14  15  16  17  18\n",
       "3  19  20  21  22  23  24"
      ]
     },
     "execution_count": 46,
     "metadata": {},
     "output_type": "execute_result"
    }
   ],
   "source": [
    "pandas_A"
   ]
  },
  {
   "cell_type": "code",
   "execution_count": 47,
   "id": "cfd78f62-9b3b-4c4e-8ebd-391604071d63",
   "metadata": {},
   "outputs": [],
   "source": [
    "p_A = tf.constant(pandas_A)"
   ]
  },
  {
   "cell_type": "code",
   "execution_count": 48,
   "id": "e03b62ab-b784-4d65-859e-5c8d37917a6e",
   "metadata": {},
   "outputs": [
    {
     "data": {
      "text/plain": [
       "<tf.Tensor: shape=(4, 6), dtype=int32, numpy=\n",
       "array([[ 1,  2,  3,  4,  5,  6],\n",
       "       [ 7,  8,  9, 10, 11, 12],\n",
       "       [13, 14, 15, 16, 17, 18],\n",
       "       [19, 20, 21, 22, 23, 24]], dtype=int32)>"
      ]
     },
     "execution_count": 48,
     "metadata": {},
     "output_type": "execute_result"
    }
   ],
   "source": [
    "p_A"
   ]
  },
  {
   "cell_type": "code",
   "execution_count": 49,
   "id": "9c897ddc-aee8-4856-aa68-82425430302c",
   "metadata": {},
   "outputs": [],
   "source": [
    "p_B = tf.constant(pandas_A, shape = (2, 3, 4))"
   ]
  },
  {
   "cell_type": "code",
   "execution_count": 50,
   "id": "e413986c-a710-4c26-9376-f9c08a4a15da",
   "metadata": {},
   "outputs": [
    {
     "data": {
      "text/plain": [
       "<tf.Tensor: shape=(2, 3, 4), dtype=int32, numpy=\n",
       "array([[[ 1,  2,  3,  4],\n",
       "        [ 5,  6,  7,  8],\n",
       "        [ 9, 10, 11, 12]],\n",
       "\n",
       "       [[13, 14, 15, 16],\n",
       "        [17, 18, 19, 20],\n",
       "        [21, 22, 23, 24]]], dtype=int32)>"
      ]
     },
     "execution_count": 50,
     "metadata": {},
     "output_type": "execute_result"
    }
   ],
   "source": [
    "p_B"
   ]
  },
  {
   "cell_type": "code",
   "execution_count": 51,
   "id": "2eca5268-0b37-47a2-9351-6064e3163a31",
   "metadata": {},
   "outputs": [
    {
     "data": {
      "text/plain": [
       "3"
      ]
     },
     "execution_count": 51,
     "metadata": {},
     "output_type": "execute_result"
    }
   ],
   "source": [
    "p_B.ndim"
   ]
  },
  {
   "cell_type": "markdown",
   "id": "06ed910d-9177-42e0-b97c-494ffc9aab35",
   "metadata": {},
   "source": [
    "## **Getting information from tensors**"
   ]
  },
  {
   "cell_type": "code",
   "execution_count": 52,
   "id": "30d1bd4f-6253-400e-b8f9-556d0b7699a9",
   "metadata": {},
   "outputs": [
    {
     "name": "stdout",
     "output_type": "stream",
     "text": [
      "Shape: (4, 6), Rank: 2, Size: 24\n"
     ]
    }
   ],
   "source": [
    "print(f'Shape: {p_A.shape}, Rank: {p_A.ndim}, Size: {tf.size(p_A)}')"
   ]
  },
  {
   "cell_type": "code",
   "execution_count": 53,
   "id": "13a41203-bbe3-4b0f-a569-c4ce4908cebc",
   "metadata": {},
   "outputs": [],
   "source": [
    "import re\n",
    "def get_tensor_attributes(tensor):\n",
    "    shape = tensor.shape\n",
    "    rank = tensor.ndim\n",
    "    size = tf.size(tensor)\n",
    "    d_type = f'{tensor.dtype}'.split(':')[1]\n",
    "    d_type = re.sub(r'[\\W]', '', d_type)\n",
    "    \n",
    "    return shape, rank, size, d_type"
   ]
  },
  {
   "cell_type": "code",
   "execution_count": 54,
   "id": "d86c0ed9-4041-4595-94ac-60605d696941",
   "metadata": {},
   "outputs": [
    {
     "name": "stdout",
     "output_type": "stream",
     "text": [
      "Shape: (4, 6), Rank: 2, Size: 24, Datatype: int32\n"
     ]
    }
   ],
   "source": [
    "shape, rank, size, d_type = get_tensor_attributes(p_A)\n",
    "print(f'Shape: {shape}, Rank: {rank}, Size: {size}, Datatype: {d_type}')"
   ]
  },
  {
   "cell_type": "markdown",
   "id": "002ebded-6b37-4666-ab66-0cafd39f0daf",
   "metadata": {},
   "source": [
    "## **Indexing tensors**"
   ]
  },
  {
   "cell_type": "code",
   "execution_count": 55,
   "id": "590fa7ae-6de3-4af8-8506-5d813fc708cd",
   "metadata": {},
   "outputs": [],
   "source": [
    "rank_4_tensor = tf.constant(np.arange(1, 121), shape = (2, 3, 4, 5))"
   ]
  },
  {
   "cell_type": "code",
   "execution_count": 56,
   "id": "8583ee1d-5e17-422d-847f-3b2ac5be8eaf",
   "metadata": {},
   "outputs": [
    {
     "data": {
      "text/plain": [
       "<tf.Tensor: shape=(2, 3, 4, 5), dtype=int64, numpy=\n",
       "array([[[[  1,   2,   3,   4,   5],\n",
       "         [  6,   7,   8,   9,  10],\n",
       "         [ 11,  12,  13,  14,  15],\n",
       "         [ 16,  17,  18,  19,  20]],\n",
       "\n",
       "        [[ 21,  22,  23,  24,  25],\n",
       "         [ 26,  27,  28,  29,  30],\n",
       "         [ 31,  32,  33,  34,  35],\n",
       "         [ 36,  37,  38,  39,  40]],\n",
       "\n",
       "        [[ 41,  42,  43,  44,  45],\n",
       "         [ 46,  47,  48,  49,  50],\n",
       "         [ 51,  52,  53,  54,  55],\n",
       "         [ 56,  57,  58,  59,  60]]],\n",
       "\n",
       "\n",
       "       [[[ 61,  62,  63,  64,  65],\n",
       "         [ 66,  67,  68,  69,  70],\n",
       "         [ 71,  72,  73,  74,  75],\n",
       "         [ 76,  77,  78,  79,  80]],\n",
       "\n",
       "        [[ 81,  82,  83,  84,  85],\n",
       "         [ 86,  87,  88,  89,  90],\n",
       "         [ 91,  92,  93,  94,  95],\n",
       "         [ 96,  97,  98,  99, 100]],\n",
       "\n",
       "        [[101, 102, 103, 104, 105],\n",
       "         [106, 107, 108, 109, 110],\n",
       "         [111, 112, 113, 114, 115],\n",
       "         [116, 117, 118, 119, 120]]]])>"
      ]
     },
     "execution_count": 56,
     "metadata": {},
     "output_type": "execute_result"
    }
   ],
   "source": [
    "rank_4_tensor"
   ]
  },
  {
   "cell_type": "code",
   "execution_count": 57,
   "id": "1eb826f6-b114-40c4-93be-65c577e15f31",
   "metadata": {},
   "outputs": [
    {
     "data": {
      "text/plain": [
       "<tf.Tensor: shape=(2, 2, 2, 2), dtype=int64, numpy=\n",
       "array([[[[ 1,  2],\n",
       "         [ 6,  7]],\n",
       "\n",
       "        [[21, 22],\n",
       "         [26, 27]]],\n",
       "\n",
       "\n",
       "       [[[61, 62],\n",
       "         [66, 67]],\n",
       "\n",
       "        [[81, 82],\n",
       "         [86, 87]]]])>"
      ]
     },
     "execution_count": 57,
     "metadata": {},
     "output_type": "execute_result"
    }
   ],
   "source": [
    "rank_4_tensor[:2, :2, :2, :2]"
   ]
  },
  {
   "cell_type": "code",
   "execution_count": 58,
   "id": "5ba56723-649c-4a3a-868e-fb5f32a50fee",
   "metadata": {},
   "outputs": [
    {
     "data": {
      "text/plain": [
       "<tf.Tensor: shape=(1, 1, 1, 5), dtype=int64, numpy=array([[[[1, 2, 3, 4, 5]]]])>"
      ]
     },
     "execution_count": 58,
     "metadata": {},
     "output_type": "execute_result"
    }
   ],
   "source": [
    "rank_4_tensor[:1, :1, :1, :]"
   ]
  },
  {
   "cell_type": "code",
   "execution_count": 59,
   "id": "2e096470-2fdc-46c0-9c2a-3891933cf4e6",
   "metadata": {},
   "outputs": [
    {
     "data": {
      "text/plain": [
       "<tf.Tensor: shape=(1, 1, 4, 1), dtype=int64, numpy=\n",
       "array([[[[ 1],\n",
       "         [ 6],\n",
       "         [11],\n",
       "         [16]]]])>"
      ]
     },
     "execution_count": 59,
     "metadata": {},
     "output_type": "execute_result"
    }
   ],
   "source": [
    "rank_4_tensor[:1, :1, :, :1]"
   ]
  },
  {
   "cell_type": "code",
   "execution_count": 60,
   "id": "8ae6d3be-2b28-43b5-9fec-a5ee7f54567a",
   "metadata": {},
   "outputs": [
    {
     "data": {
      "text/plain": [
       "<tf.Tensor: shape=(1, 3, 1, 1), dtype=int64, numpy=\n",
       "array([[[[ 1]],\n",
       "\n",
       "        [[21]],\n",
       "\n",
       "        [[41]]]])>"
      ]
     },
     "execution_count": 60,
     "metadata": {},
     "output_type": "execute_result"
    }
   ],
   "source": [
    "rank_4_tensor[:1, :, :1, :1]"
   ]
  },
  {
   "cell_type": "code",
   "execution_count": 61,
   "id": "24206d1e-e80b-4ade-a817-c7612d7b1b8e",
   "metadata": {},
   "outputs": [
    {
     "data": {
      "text/plain": [
       "<tf.Tensor: shape=(2, 1, 1, 1), dtype=int64, numpy=\n",
       "array([[[[ 1]]],\n",
       "\n",
       "\n",
       "       [[[61]]]])>"
      ]
     },
     "execution_count": 61,
     "metadata": {},
     "output_type": "execute_result"
    }
   ],
   "source": [
    "rank_4_tensor[:, :1, :1, :1]"
   ]
  },
  {
   "cell_type": "code",
   "execution_count": 62,
   "id": "0d0df55c-ee3e-4b85-9313-6560bfd1ca48",
   "metadata": {},
   "outputs": [],
   "source": [
    "rank_2_tensor = tf.reshape(rank_4_tensor, shape = (8, 15))"
   ]
  },
  {
   "cell_type": "code",
   "execution_count": 63,
   "id": "c1566327-b385-4220-86bc-5c0eb2251350",
   "metadata": {},
   "outputs": [
    {
     "data": {
      "text/plain": [
       "<tf.Tensor: shape=(8, 15), dtype=int64, numpy=\n",
       "array([[  1,   2,   3,   4,   5,   6,   7,   8,   9,  10,  11,  12,  13,\n",
       "         14,  15],\n",
       "       [ 16,  17,  18,  19,  20,  21,  22,  23,  24,  25,  26,  27,  28,\n",
       "         29,  30],\n",
       "       [ 31,  32,  33,  34,  35,  36,  37,  38,  39,  40,  41,  42,  43,\n",
       "         44,  45],\n",
       "       [ 46,  47,  48,  49,  50,  51,  52,  53,  54,  55,  56,  57,  58,\n",
       "         59,  60],\n",
       "       [ 61,  62,  63,  64,  65,  66,  67,  68,  69,  70,  71,  72,  73,\n",
       "         74,  75],\n",
       "       [ 76,  77,  78,  79,  80,  81,  82,  83,  84,  85,  86,  87,  88,\n",
       "         89,  90],\n",
       "       [ 91,  92,  93,  94,  95,  96,  97,  98,  99, 100, 101, 102, 103,\n",
       "        104, 105],\n",
       "       [106, 107, 108, 109, 110, 111, 112, 113, 114, 115, 116, 117, 118,\n",
       "        119, 120]])>"
      ]
     },
     "execution_count": 63,
     "metadata": {},
     "output_type": "execute_result"
    }
   ],
   "source": [
    "rank_2_tensor"
   ]
  },
  {
   "cell_type": "code",
   "execution_count": 64,
   "id": "e6e3a25d-599d-48de-9ee6-c308e7d84251",
   "metadata": {},
   "outputs": [
    {
     "data": {
      "text/plain": [
       "<tf.Tensor: shape=(8, 5), dtype=int64, numpy=\n",
       "array([[  1,   2,   3,   4,   5],\n",
       "       [ 16,  17,  18,  19,  20],\n",
       "       [ 31,  32,  33,  34,  35],\n",
       "       [ 46,  47,  48,  49,  50],\n",
       "       [ 61,  62,  63,  64,  65],\n",
       "       [ 76,  77,  78,  79,  80],\n",
       "       [ 91,  92,  93,  94,  95],\n",
       "       [106, 107, 108, 109, 110]])>"
      ]
     },
     "execution_count": 64,
     "metadata": {},
     "output_type": "execute_result"
    }
   ],
   "source": [
    "rank_2_tensor[:, :5]"
   ]
  },
  {
   "cell_type": "code",
   "execution_count": 65,
   "id": "b0115552-b8dc-4580-89ea-5f47b6bf7523",
   "metadata": {},
   "outputs": [],
   "source": [
    "rank_2_tensor_1 = tf.constant([[42, 24], [21, 12]])"
   ]
  },
  {
   "cell_type": "code",
   "execution_count": 66,
   "id": "ced51a12-c06a-4f01-a0d4-04d256978900",
   "metadata": {},
   "outputs": [
    {
     "data": {
      "text/plain": [
       "<tf.Tensor: shape=(2, 2), dtype=int32, numpy=\n",
       "array([[42, 24],\n",
       "       [21, 12]], dtype=int32)>"
      ]
     },
     "execution_count": 66,
     "metadata": {},
     "output_type": "execute_result"
    }
   ],
   "source": [
    "rank_2_tensor_1"
   ]
  },
  {
   "cell_type": "code",
   "execution_count": 67,
   "id": "518f8600-aa5b-41b3-98dc-457d95ee3d3b",
   "metadata": {},
   "outputs": [
    {
     "data": {
      "text/plain": [
       "<tf.Tensor: shape=(2,), dtype=int32, numpy=array([24, 12], dtype=int32)>"
      ]
     },
     "execution_count": 67,
     "metadata": {},
     "output_type": "execute_result"
    }
   ],
   "source": [
    "rank_2_tensor_1[:, -1]"
   ]
  },
  {
   "cell_type": "code",
   "execution_count": 68,
   "id": "d51be9d8-9950-47d7-81e7-2ad4a8bc2ec3",
   "metadata": {},
   "outputs": [],
   "source": [
    "rank_3_tensor = rank_2_tensor_1[..., tf.newaxis]"
   ]
  },
  {
   "cell_type": "code",
   "execution_count": 69,
   "id": "0f141ba0-916d-4ce1-9e7e-2a34bc991d1d",
   "metadata": {},
   "outputs": [
    {
     "data": {
      "text/plain": [
       "<tf.Tensor: shape=(2, 2, 1), dtype=int32, numpy=\n",
       "array([[[42],\n",
       "        [24]],\n",
       "\n",
       "       [[21],\n",
       "        [12]]], dtype=int32)>"
      ]
     },
     "execution_count": 69,
     "metadata": {},
     "output_type": "execute_result"
    }
   ],
   "source": [
    "rank_3_tensor"
   ]
  },
  {
   "cell_type": "code",
   "execution_count": 70,
   "id": "45966aa3-0381-4275-bd35-af02298f4354",
   "metadata": {},
   "outputs": [
    {
     "data": {
      "text/plain": [
       "<tf.Tensor: shape=(2, 2, 1), dtype=int32, numpy=\n",
       "array([[[42],\n",
       "        [24]],\n",
       "\n",
       "       [[21],\n",
       "        [12]]], dtype=int32)>"
      ]
     },
     "execution_count": 70,
     "metadata": {},
     "output_type": "execute_result"
    }
   ],
   "source": [
    "tf.expand_dims(rank_2_tensor_1, axis = -1)"
   ]
  },
  {
   "cell_type": "markdown",
   "id": "96817879-143c-41c1-a9b3-49dcbec9cdba",
   "metadata": {},
   "source": [
    "## **Manupilating tensors**"
   ]
  },
  {
   "cell_type": "code",
   "execution_count": 71,
   "id": "ade6b4cf-69b2-4023-a4a2-510037c9ca87",
   "metadata": {},
   "outputs": [],
   "source": [
    "some_tensor = tf.constant([[42, 24], [21, 12]])"
   ]
  },
  {
   "cell_type": "code",
   "execution_count": 72,
   "id": "0f46166d-3deb-4939-a9b1-97a0f54afff6",
   "metadata": {},
   "outputs": [
    {
     "data": {
      "text/plain": [
       "<tf.Tensor: shape=(2, 2), dtype=int32, numpy=\n",
       "array([[42, 24],\n",
       "       [21, 12]], dtype=int32)>"
      ]
     },
     "execution_count": 72,
     "metadata": {},
     "output_type": "execute_result"
    }
   ],
   "source": [
    "some_tensor"
   ]
  },
  {
   "cell_type": "code",
   "execution_count": 73,
   "id": "82ca0cbd-6cf8-439f-84a1-af4bbdf6798e",
   "metadata": {},
   "outputs": [],
   "source": [
    "some_tensor = some_tensor + 42"
   ]
  },
  {
   "cell_type": "code",
   "execution_count": 74,
   "id": "997e6e9a-848d-47bf-a2b7-0fbeea505608",
   "metadata": {},
   "outputs": [
    {
     "data": {
      "text/plain": [
       "<tf.Tensor: shape=(2, 2), dtype=int32, numpy=\n",
       "array([[84, 66],\n",
       "       [63, 54]], dtype=int32)>"
      ]
     },
     "execution_count": 74,
     "metadata": {},
     "output_type": "execute_result"
    }
   ],
   "source": [
    "some_tensor"
   ]
  },
  {
   "cell_type": "code",
   "execution_count": 75,
   "id": "ac4080f3-5f53-4d52-884f-fc48f40ec05a",
   "metadata": {},
   "outputs": [],
   "source": [
    "some_tensor = some_tensor - 42"
   ]
  },
  {
   "cell_type": "code",
   "execution_count": 76,
   "id": "7332ae79-9570-404b-be6b-60eae40153fb",
   "metadata": {},
   "outputs": [
    {
     "data": {
      "text/plain": [
       "<tf.Tensor: shape=(2, 2), dtype=int32, numpy=\n",
       "array([[42, 24],\n",
       "       [21, 12]], dtype=int32)>"
      ]
     },
     "execution_count": 76,
     "metadata": {},
     "output_type": "execute_result"
    }
   ],
   "source": [
    "some_tensor"
   ]
  },
  {
   "cell_type": "code",
   "execution_count": 77,
   "id": "fada2859-036e-4ef0-8d75-e4780c656f2c",
   "metadata": {},
   "outputs": [],
   "source": [
    "some_tensor = some_tensor * 4"
   ]
  },
  {
   "cell_type": "code",
   "execution_count": 78,
   "id": "78e5e0b7-0360-41c1-9cc1-dde32eab8803",
   "metadata": {},
   "outputs": [
    {
     "data": {
      "text/plain": [
       "<tf.Tensor: shape=(2, 2), dtype=int32, numpy=\n",
       "array([[168,  96],\n",
       "       [ 84,  48]], dtype=int32)>"
      ]
     },
     "execution_count": 78,
     "metadata": {},
     "output_type": "execute_result"
    }
   ],
   "source": [
    "some_tensor"
   ]
  },
  {
   "cell_type": "code",
   "execution_count": 79,
   "id": "a26dcf1a-1f96-4b44-a8ba-ca97f457eed2",
   "metadata": {},
   "outputs": [],
   "source": [
    "some_tensor = some_tensor // 4"
   ]
  },
  {
   "cell_type": "code",
   "execution_count": 80,
   "id": "19024950-0c25-4768-b79e-f8b1f82fb217",
   "metadata": {},
   "outputs": [
    {
     "data": {
      "text/plain": [
       "<tf.Tensor: shape=(2, 2), dtype=int32, numpy=\n",
       "array([[42, 24],\n",
       "       [21, 12]], dtype=int32)>"
      ]
     },
     "execution_count": 80,
     "metadata": {},
     "output_type": "execute_result"
    }
   ],
   "source": [
    "some_tensor"
   ]
  },
  {
   "cell_type": "code",
   "execution_count": 81,
   "id": "72c1ba62-1486-4aff-bf79-ca20f405d960",
   "metadata": {},
   "outputs": [],
   "source": [
    "some_tensor = some_tensor / 2"
   ]
  },
  {
   "cell_type": "code",
   "execution_count": 82,
   "id": "e40a56a8-a9b4-490f-bbc4-635fa7dca36f",
   "metadata": {},
   "outputs": [
    {
     "data": {
      "text/plain": [
       "<tf.Tensor: shape=(2, 2), dtype=float64, numpy=\n",
       "array([[21. , 12. ],\n",
       "       [10.5,  6. ]])>"
      ]
     },
     "execution_count": 82,
     "metadata": {},
     "output_type": "execute_result"
    }
   ],
   "source": [
    "some_tensor"
   ]
  },
  {
   "cell_type": "code",
   "execution_count": 83,
   "id": "954f8cb6-c309-414c-b34e-f85174378456",
   "metadata": {},
   "outputs": [],
   "source": [
    "import numpy as np"
   ]
  },
  {
   "cell_type": "code",
   "execution_count": 84,
   "id": "c1533f3f-4e5c-470c-af4a-f60dc391b0e3",
   "metadata": {},
   "outputs": [],
   "source": [
    "some_tensor = np.sqrt(some_tensor)"
   ]
  },
  {
   "cell_type": "code",
   "execution_count": 85,
   "id": "ae81c216-f8ef-43a1-ab31-e13c5510ac36",
   "metadata": {},
   "outputs": [
    {
     "data": {
      "text/plain": [
       "array([[4.58257569, 3.46410162],\n",
       "       [3.24037035, 2.44948974]])"
      ]
     },
     "execution_count": 85,
     "metadata": {},
     "output_type": "execute_result"
    }
   ],
   "source": [
    "some_tensor"
   ]
  },
  {
   "cell_type": "code",
   "execution_count": 86,
   "id": "63ce59db-8b96-4724-be34-362872186f75",
   "metadata": {},
   "outputs": [],
   "source": [
    "some_tensor = pow(some_tensor, 2)"
   ]
  },
  {
   "cell_type": "code",
   "execution_count": 87,
   "id": "43739528-b75f-419e-b7b6-dffd48edd5c7",
   "metadata": {},
   "outputs": [
    {
     "data": {
      "text/plain": [
       "array([[21. , 12. ],\n",
       "       [10.5,  6. ]])"
      ]
     },
     "execution_count": 87,
     "metadata": {},
     "output_type": "execute_result"
    }
   ],
   "source": [
    "some_tensor"
   ]
  },
  {
   "cell_type": "code",
   "execution_count": 88,
   "id": "9efa06b9-c740-4bfe-a4fa-0daea8fd1d8a",
   "metadata": {},
   "outputs": [],
   "source": [
    "some_tensor = some_tensor * 2 "
   ]
  },
  {
   "cell_type": "code",
   "execution_count": 89,
   "id": "47e94b71-62df-4e0d-a7e0-9a562698b3e8",
   "metadata": {},
   "outputs": [
    {
     "data": {
      "text/plain": [
       "array([[42., 24.],\n",
       "       [21., 12.]])"
      ]
     },
     "execution_count": 89,
     "metadata": {},
     "output_type": "execute_result"
    }
   ],
   "source": [
    "some_tensor"
   ]
  },
  {
   "cell_type": "code",
   "execution_count": 90,
   "id": "8d59b66e-656e-4b33-b3da-46e469d765a5",
   "metadata": {},
   "outputs": [],
   "source": [
    "some_tensor = tf.cast(some_tensor, 'int32')"
   ]
  },
  {
   "cell_type": "code",
   "execution_count": 91,
   "id": "608cc8aa-2832-4f13-b0d3-b00968617e0c",
   "metadata": {},
   "outputs": [
    {
     "data": {
      "text/plain": [
       "<tf.Tensor: shape=(2, 2), dtype=int32, numpy=\n",
       "array([[42, 23],\n",
       "       [21, 11]], dtype=int32)>"
      ]
     },
     "execution_count": 91,
     "metadata": {},
     "output_type": "execute_result"
    }
   ],
   "source": [
    "some_tensor"
   ]
  },
  {
   "cell_type": "code",
   "execution_count": 92,
   "id": "09c49eff-dc35-40fe-bd25-a0d6bd7886ac",
   "metadata": {},
   "outputs": [
    {
     "data": {
      "text/plain": [
       "<tf.Tensor: shape=(2, 2), dtype=int32, numpy=\n",
       "array([[50, 31],\n",
       "       [29, 19]], dtype=int32)>"
      ]
     },
     "execution_count": 92,
     "metadata": {},
     "output_type": "execute_result"
    }
   ],
   "source": [
    "tf.math.add(some_tensor, 8)"
   ]
  },
  {
   "cell_type": "code",
   "execution_count": 93,
   "id": "ecf86685-d295-4a3b-8cf4-917c1f8764fe",
   "metadata": {},
   "outputs": [
    {
     "data": {
      "text/plain": [
       "<tf.Tensor: shape=(2, 2), dtype=int32, numpy=\n",
       "array([[29, 10],\n",
       "       [ 8, -2]], dtype=int32)>"
      ]
     },
     "execution_count": 93,
     "metadata": {},
     "output_type": "execute_result"
    }
   ],
   "source": [
    "tf.math.subtract(some_tensor, 13)"
   ]
  },
  {
   "cell_type": "code",
   "execution_count": 94,
   "id": "c9096b59-77a3-4aff-ba57-1f03a214b3ff",
   "metadata": {},
   "outputs": [
    {
     "data": {
      "text/plain": [
       "<tf.Tensor: shape=(2, 2), dtype=int32, numpy=\n",
       "array([[168,  92],\n",
       "       [ 84,  44]], dtype=int32)>"
      ]
     },
     "execution_count": 94,
     "metadata": {},
     "output_type": "execute_result"
    }
   ],
   "source": [
    "tf.math.multiply(some_tensor, 4)"
   ]
  },
  {
   "cell_type": "code",
   "execution_count": 95,
   "id": "f9b61579-7e69-4ac7-9758-6d6108f01ec0",
   "metadata": {},
   "outputs": [
    {
     "data": {
      "text/plain": [
       "<tf.Tensor: shape=(2, 2), dtype=float64, numpy=\n",
       "array([[14.        ,  7.66666667],\n",
       "       [ 7.        ,  3.66666667]])>"
      ]
     },
     "execution_count": 95,
     "metadata": {},
     "output_type": "execute_result"
    }
   ],
   "source": [
    "tf.math.divide(some_tensor, 3)"
   ]
  },
  {
   "cell_type": "markdown",
   "id": "856539a4-ce46-42f4-b6ef-872536eb6187",
   "metadata": {},
   "source": [
    "## **Matrix multiplication**"
   ]
  },
  {
   "cell_type": "code",
   "execution_count": 96,
   "id": "19d02bea-bfae-4652-b99a-9d63c6484497",
   "metadata": {},
   "outputs": [
    {
     "data": {
      "text/plain": [
       "<tf.Tensor: shape=(2, 2), dtype=int32, numpy=\n",
       "array([[42, 23],\n",
       "       [21, 11]], dtype=int32)>"
      ]
     },
     "execution_count": 96,
     "metadata": {},
     "output_type": "execute_result"
    }
   ],
   "source": [
    "some_tensor"
   ]
  },
  {
   "cell_type": "code",
   "execution_count": 97,
   "id": "c35db161-5c46-4f45-8813-5d7efe99702c",
   "metadata": {},
   "outputs": [],
   "source": [
    "some_tensor_t = tf.transpose(some_tensor)"
   ]
  },
  {
   "cell_type": "code",
   "execution_count": 98,
   "id": "d81985e6-8f41-4003-8389-e6a3f855842c",
   "metadata": {},
   "outputs": [
    {
     "data": {
      "text/plain": [
       "<tf.Tensor: shape=(2, 2), dtype=int32, numpy=\n",
       "array([[42, 21],\n",
       "       [23, 11]], dtype=int32)>"
      ]
     },
     "execution_count": 98,
     "metadata": {},
     "output_type": "execute_result"
    }
   ],
   "source": [
    "some_tensor_t"
   ]
  },
  {
   "cell_type": "code",
   "execution_count": 99,
   "id": "82065094-833b-44c0-beeb-87f974981292",
   "metadata": {},
   "outputs": [
    {
     "data": {
      "text/plain": [
       "<tf.Tensor: shape=(2, 2), dtype=int32, numpy=\n",
       "array([[1764,  483],\n",
       "       [ 483,  121]], dtype=int32)>"
      ]
     },
     "execution_count": 99,
     "metadata": {},
     "output_type": "execute_result"
    }
   ],
   "source": [
    "tf.math.multiply(some_tensor, some_tensor_t)"
   ]
  },
  {
   "cell_type": "code",
   "execution_count": 100,
   "id": "a42db989-f49c-4ed4-9f03-cf9c9bcbffd3",
   "metadata": {},
   "outputs": [
    {
     "data": {
      "text/plain": [
       "<tf.Tensor: shape=(2, 2), dtype=int32, numpy=\n",
       "array([[2293, 1135],\n",
       "       [1135,  562]], dtype=int32)>"
      ]
     },
     "execution_count": 100,
     "metadata": {},
     "output_type": "execute_result"
    }
   ],
   "source": [
    "tf.linalg.matmul(some_tensor, some_tensor_t)"
   ]
  },
  {
   "cell_type": "code",
   "execution_count": 101,
   "id": "68146488-a761-4d11-9ed9-e08084c12741",
   "metadata": {},
   "outputs": [],
   "source": [
    "matrix1 = tf.constant([\n",
    "    [1, 2, 3],\n",
    "    [4, 5, 6]\n",
    "])"
   ]
  },
  {
   "cell_type": "code",
   "execution_count": 102,
   "id": "82f5db23-20f1-4e50-ba18-730bdfd66736",
   "metadata": {},
   "outputs": [],
   "source": [
    "matrix2 = tf.constant([\n",
    "    [7, 8],\n",
    "    [10, 11],\n",
    "    [13, 14]\n",
    "])"
   ]
  },
  {
   "cell_type": "code",
   "execution_count": 103,
   "id": "c2433a12-50c2-456e-93a4-bd54bcc0db1f",
   "metadata": {},
   "outputs": [
    {
     "data": {
      "text/plain": [
       "<tf.Tensor: shape=(2, 2), dtype=int32, numpy=\n",
       "array([[ 66,  72],\n",
       "       [156, 171]], dtype=int32)>"
      ]
     },
     "execution_count": 103,
     "metadata": {},
     "output_type": "execute_result"
    }
   ],
   "source": [
    "tf.linalg.matmul(matrix1, matrix2)"
   ]
  },
  {
   "cell_type": "code",
   "execution_count": 104,
   "id": "76d4ced6-979d-4c54-bf90-4f8c89fa1308",
   "metadata": {},
   "outputs": [],
   "source": [
    "matrix3 = tf.constant(np.random.randint(1, 100, 12).reshape(3, 4))"
   ]
  },
  {
   "cell_type": "code",
   "execution_count": 105,
   "id": "a0b1cbb9-6478-4e34-88a1-e20bb57bae3c",
   "metadata": {},
   "outputs": [
    {
     "data": {
      "text/plain": [
       "<tf.Tensor: shape=(3, 4), dtype=int64, numpy=\n",
       "array([[21, 65, 71, 94],\n",
       "       [76, 29, 21, 22],\n",
       "       [23, 99, 88,  2]])>"
      ]
     },
     "execution_count": 105,
     "metadata": {},
     "output_type": "execute_result"
    }
   ],
   "source": [
    "matrix3"
   ]
  },
  {
   "cell_type": "code",
   "execution_count": 106,
   "id": "6827697c-a78d-4ee8-b959-bb09778e52b6",
   "metadata": {},
   "outputs": [],
   "source": [
    "matrix4 = tf.constant(np.random.randint(1, 100, 8).reshape(4, 2))"
   ]
  },
  {
   "cell_type": "code",
   "execution_count": 107,
   "id": "ec5d92fb-2ca7-4048-8a0b-e07457d998a7",
   "metadata": {},
   "outputs": [
    {
     "data": {
      "text/plain": [
       "<tf.Tensor: shape=(4, 2), dtype=int64, numpy=\n",
       "array([[36, 41],\n",
       "       [47, 95],\n",
       "       [ 9,  6],\n",
       "       [18, 46]])>"
      ]
     },
     "execution_count": 107,
     "metadata": {},
     "output_type": "execute_result"
    }
   ],
   "source": [
    "matrix4"
   ]
  },
  {
   "cell_type": "code",
   "execution_count": 108,
   "id": "6c35c531-a8ca-499b-a7d3-a384c695cdd4",
   "metadata": {},
   "outputs": [
    {
     "data": {
      "text/plain": [
       "<tf.Tensor: shape=(3, 2), dtype=int64, numpy=\n",
       "array([[ 6142, 11786],\n",
       "       [ 4684,  7009],\n",
       "       [ 6309, 10968]])>"
      ]
     },
     "execution_count": 108,
     "metadata": {},
     "output_type": "execute_result"
    }
   ],
   "source": [
    "tf.tensordot(matrix3, matrix4, axes = 1)"
   ]
  },
  {
   "cell_type": "code",
   "execution_count": 109,
   "id": "1c8f17db-d8de-444f-909c-96742abb0457",
   "metadata": {},
   "outputs": [
    {
     "data": {
      "text/plain": [
       "<tf.Tensor: shape=(3, 2), dtype=int64, numpy=\n",
       "array([[ 6142, 11786],\n",
       "       [ 4684,  7009],\n",
       "       [ 6309, 10968]])>"
      ]
     },
     "execution_count": 109,
     "metadata": {},
     "output_type": "execute_result"
    }
   ],
   "source": [
    "tf.matmul(matrix3, matrix4)"
   ]
  },
  {
   "cell_type": "markdown",
   "id": "9fd678ff-b106-483f-a652-2c0f0b282730",
   "metadata": {},
   "source": [
    "## **Changing tensors datatype**"
   ]
  },
  {
   "cell_type": "code",
   "execution_count": 110,
   "id": "e5ee0299-b536-4c2e-a3aa-c46f04d8f62f",
   "metadata": {},
   "outputs": [],
   "source": [
    "matrix3 = tf.cast(matrix3, dtype = tf.int32)"
   ]
  },
  {
   "cell_type": "code",
   "execution_count": 111,
   "id": "8d467cea-9064-4301-a4da-88401487258c",
   "metadata": {},
   "outputs": [],
   "source": [
    "matrix4 = tf.cast(matrix4, dtype = tf.int32)"
   ]
  },
  {
   "cell_type": "code",
   "execution_count": 112,
   "id": "cbddf252-7182-45fa-a873-6c29b178609e",
   "metadata": {},
   "outputs": [
    {
     "data": {
      "text/plain": [
       "<tf.Tensor: shape=(3, 2), dtype=int32, numpy=\n",
       "array([[ 6142, 11786],\n",
       "       [ 4684,  7009],\n",
       "       [ 6309, 10968]], dtype=int32)>"
      ]
     },
     "execution_count": 112,
     "metadata": {},
     "output_type": "execute_result"
    }
   ],
   "source": [
    "tf.matmul(matrix3, matrix4)"
   ]
  },
  {
   "cell_type": "markdown",
   "id": "0f51e2d4-69fc-497c-bb48-79e905876426",
   "metadata": {},
   "source": [
    "## **Aggregating the tensor**"
   ]
  },
  {
   "cell_type": "code",
   "execution_count": 113,
   "id": "33b7cd20-e215-4887-bb33-8eee76a90b4f",
   "metadata": {},
   "outputs": [
    {
     "data": {
      "text/plain": [
       "<tf.Tensor: shape=(), dtype=int32, numpy=95>"
      ]
     },
     "execution_count": 113,
     "metadata": {},
     "output_type": "execute_result"
    }
   ],
   "source": [
    "tf.reduce_max(matrix4)"
   ]
  },
  {
   "cell_type": "code",
   "execution_count": 114,
   "id": "dbda046b-9013-440c-8fdf-82a0278d18bc",
   "metadata": {},
   "outputs": [
    {
     "data": {
      "text/plain": [
       "<tf.Tensor: shape=(), dtype=int32, numpy=6>"
      ]
     },
     "execution_count": 114,
     "metadata": {},
     "output_type": "execute_result"
    }
   ],
   "source": [
    "tf.reduce_min(matrix4)"
   ]
  },
  {
   "cell_type": "code",
   "execution_count": 115,
   "id": "52de7ad9-961d-440f-b6fc-7ecc424c2305",
   "metadata": {},
   "outputs": [
    {
     "data": {
      "text/plain": [
       "<tf.Tensor: shape=(), dtype=int32, numpy=37>"
      ]
     },
     "execution_count": 115,
     "metadata": {},
     "output_type": "execute_result"
    }
   ],
   "source": [
    "tf.reduce_mean(matrix4)"
   ]
  },
  {
   "cell_type": "code",
   "execution_count": 116,
   "id": "2fefd741-4d42-4acd-b114-0c90b54b1be7",
   "metadata": {},
   "outputs": [
    {
     "data": {
      "text/plain": [
       "<tf.Tensor: shape=(), dtype=int32, numpy=298>"
      ]
     },
     "execution_count": 116,
     "metadata": {},
     "output_type": "execute_result"
    }
   ],
   "source": [
    "tf.reduce_sum(matrix4)"
   ]
  },
  {
   "cell_type": "code",
   "execution_count": 117,
   "id": "f3a442d3-e8c5-48ee-a4d8-4c121e302a9e",
   "metadata": {},
   "outputs": [
    {
     "data": {
      "text/plain": [
       "<tf.Tensor: shape=(), dtype=int32, numpy=298>"
      ]
     },
     "execution_count": 117,
     "metadata": {},
     "output_type": "execute_result"
    }
   ],
   "source": [
    "sum(sum(matrix4))"
   ]
  },
  {
   "cell_type": "code",
   "execution_count": 118,
   "id": "8115b646-8256-4912-8c5a-78ac548bff88",
   "metadata": {},
   "outputs": [
    {
     "data": {
      "text/plain": [
       "<tf.Tensor: shape=(), dtype=int32, numpy=-1685461344>"
      ]
     },
     "execution_count": 118,
     "metadata": {},
     "output_type": "execute_result"
    }
   ],
   "source": [
    "tf.reduce_prod(matrix4)"
   ]
  },
  {
   "cell_type": "code",
   "execution_count": 119,
   "id": "bb87b61d-3b1e-43c0-8a1b-0ec56399318c",
   "metadata": {},
   "outputs": [],
   "source": [
    "std = tf.math.reduce_std(tf.cast(matrix4, dtype = 'float32'))"
   ]
  },
  {
   "cell_type": "code",
   "execution_count": 120,
   "id": "dbb4082c-028a-4834-9c23-eae7da3c92b3",
   "metadata": {},
   "outputs": [],
   "source": [
    "var = tf.math.reduce_variance(tf.cast(matrix4, dtype = 'float32'))"
   ]
  },
  {
   "cell_type": "code",
   "execution_count": 121,
   "id": "b3e8888e-7578-4b7f-9394-de403e4d5bc8",
   "metadata": {},
   "outputs": [
    {
     "data": {
      "text/plain": [
       "(<tf.Tensor: shape=(), dtype=float32, numpy=26.61649>,\n",
       " <tf.Tensor: shape=(), dtype=float32, numpy=708.4375>)"
      ]
     },
     "execution_count": 121,
     "metadata": {},
     "output_type": "execute_result"
    }
   ],
   "source": [
    "std, var"
   ]
  },
  {
   "cell_type": "code",
   "execution_count": 122,
   "id": "af1d0b92-92ec-468e-bca7-5415e8d36f04",
   "metadata": {},
   "outputs": [
    {
     "data": {
      "text/plain": [
       "26.61648925008706"
      ]
     },
     "execution_count": 122,
     "metadata": {},
     "output_type": "execute_result"
    }
   ],
   "source": [
    "np.std(matrix4)"
   ]
  },
  {
   "cell_type": "code",
   "execution_count": 123,
   "id": "5f83619d-0cea-4b82-8b01-6d6ac570e6e8",
   "metadata": {},
   "outputs": [
    {
     "data": {
      "text/plain": [
       "708.4375"
      ]
     },
     "execution_count": 123,
     "metadata": {},
     "output_type": "execute_result"
    }
   ],
   "source": [
    "np.var(matrix4)"
   ]
  },
  {
   "cell_type": "code",
   "execution_count": 124,
   "id": "e09753bb-4909-470c-88fd-75c426894557",
   "metadata": {},
   "outputs": [
    {
     "data": {
      "text/plain": [
       "<tf.Tensor: shape=(2,), dtype=int64, numpy=array([2, 2])>"
      ]
     },
     "execution_count": 124,
     "metadata": {},
     "output_type": "execute_result"
    }
   ],
   "source": [
    "tf.argmin(matrix4, axis = 0)"
   ]
  },
  {
   "cell_type": "code",
   "execution_count": 125,
   "id": "7498bd46-8091-4522-adfd-025496aa8c47",
   "metadata": {},
   "outputs": [
    {
     "data": {
      "text/plain": [
       "<tf.Tensor: shape=(4,), dtype=int64, numpy=array([0, 0, 1, 0])>"
      ]
     },
     "execution_count": 125,
     "metadata": {},
     "output_type": "execute_result"
    }
   ],
   "source": [
    "tf.argmin(matrix4, axis = 1)"
   ]
  },
  {
   "cell_type": "code",
   "execution_count": 126,
   "id": "fb83bfce-ec90-485a-b6b6-c338f16a3666",
   "metadata": {},
   "outputs": [
    {
     "data": {
      "text/plain": [
       "<tf.Tensor: shape=(4,), dtype=int64, numpy=array([0, 1, 1, 2])>"
      ]
     },
     "execution_count": 126,
     "metadata": {},
     "output_type": "execute_result"
    }
   ],
   "source": [
    "tf.argmin(matrix3, axis = 0)"
   ]
  },
  {
   "cell_type": "code",
   "execution_count": 127,
   "id": "a8e05d81-9a74-4463-bf34-df8266fbf347",
   "metadata": {},
   "outputs": [
    {
     "data": {
      "text/plain": [
       "<tf.Tensor: shape=(3,), dtype=int64, numpy=array([0, 2, 3])>"
      ]
     },
     "execution_count": 127,
     "metadata": {},
     "output_type": "execute_result"
    }
   ],
   "source": [
    "tf.argmin(matrix3, axis = 1)"
   ]
  },
  {
   "cell_type": "markdown",
   "id": "1594e212-89df-493d-b012-058f08d1b337",
   "metadata": {},
   "source": [
    "## **Squeezing tensors**"
   ]
  },
  {
   "cell_type": "code",
   "execution_count": 133,
   "id": "86213b9e-5b44-4657-ac03-7d75d0abebcf",
   "metadata": {},
   "outputs": [],
   "source": [
    "tf.random.set_seed(42)\n",
    "matrix5 = tf.constant(tf.random.uniform(shape = [50]), shape = (1, 1, 1, 1, 50))"
   ]
  },
  {
   "cell_type": "code",
   "execution_count": 134,
   "id": "393752c1-1ee4-426f-8b04-1deeb203ffe3",
   "metadata": {},
   "outputs": [
    {
     "data": {
      "text/plain": [
       "<tf.Tensor: shape=(1, 1, 1, 1, 50), dtype=float32, numpy=\n",
       "array([[[[[0.6645621 , 0.44100678, 0.3528825 , 0.46448255, 0.03366041,\n",
       "           0.68467236, 0.74011743, 0.8724445 , 0.22632635, 0.22319686,\n",
       "           0.3103881 , 0.7223358 , 0.13318717, 0.5480639 , 0.5746088 ,\n",
       "           0.8996835 , 0.00946367, 0.5212307 , 0.6345445 , 0.1993283 ,\n",
       "           0.72942245, 0.54583454, 0.10756552, 0.6767061 , 0.6602763 ,\n",
       "           0.33695042, 0.60141766, 0.21062577, 0.8527372 , 0.44062173,\n",
       "           0.9485276 , 0.23752594, 0.81179297, 0.5263394 , 0.494308  ,\n",
       "           0.21612847, 0.8457197 , 0.8718841 , 0.3083862 , 0.6868038 ,\n",
       "           0.23764038, 0.7817228 , 0.9671384 , 0.06870162, 0.79873943,\n",
       "           0.66028714, 0.5871513 , 0.16461694, 0.7381023 , 0.32054043]]]]],\n",
       "      dtype=float32)>"
      ]
     },
     "execution_count": 134,
     "metadata": {},
     "output_type": "execute_result"
    }
   ],
   "source": [
    "matrix5"
   ]
  },
  {
   "cell_type": "code",
   "execution_count": 135,
   "id": "1173473e-0fc3-42cc-9fc8-56f7a77c0b2d",
   "metadata": {},
   "outputs": [],
   "source": [
    "matrix5_squeezed = tf.squeeze(matrix5)"
   ]
  },
  {
   "cell_type": "code",
   "execution_count": 136,
   "id": "e63bfa9a-25dd-4429-b0f5-348769d0f753",
   "metadata": {},
   "outputs": [
    {
     "data": {
      "text/plain": [
       "<tf.Tensor: shape=(50,), dtype=float32, numpy=\n",
       "array([0.6645621 , 0.44100678, 0.3528825 , 0.46448255, 0.03366041,\n",
       "       0.68467236, 0.74011743, 0.8724445 , 0.22632635, 0.22319686,\n",
       "       0.3103881 , 0.7223358 , 0.13318717, 0.5480639 , 0.5746088 ,\n",
       "       0.8996835 , 0.00946367, 0.5212307 , 0.6345445 , 0.1993283 ,\n",
       "       0.72942245, 0.54583454, 0.10756552, 0.6767061 , 0.6602763 ,\n",
       "       0.33695042, 0.60141766, 0.21062577, 0.8527372 , 0.44062173,\n",
       "       0.9485276 , 0.23752594, 0.81179297, 0.5263394 , 0.494308  ,\n",
       "       0.21612847, 0.8457197 , 0.8718841 , 0.3083862 , 0.6868038 ,\n",
       "       0.23764038, 0.7817228 , 0.9671384 , 0.06870162, 0.79873943,\n",
       "       0.66028714, 0.5871513 , 0.16461694, 0.7381023 , 0.32054043],\n",
       "      dtype=float32)>"
      ]
     },
     "execution_count": 136,
     "metadata": {},
     "output_type": "execute_result"
    }
   ],
   "source": [
    "matrix5_squeezed"
   ]
  },
  {
   "cell_type": "markdown",
   "id": "d3933d1c-338d-4846-96c8-0670397a5482",
   "metadata": {},
   "source": [
    "## **One-hot encoding**"
   ]
  },
  {
   "cell_type": "code",
   "execution_count": 147,
   "id": "40f9ee50-adb6-42bf-816c-d2410a2b96b4",
   "metadata": {},
   "outputs": [],
   "source": [
    "colors = [0, 1, 2, 3]"
   ]
  },
  {
   "cell_type": "code",
   "execution_count": 152,
   "id": "01077a96-f8f6-481b-be74-af9ba7d98ab4",
   "metadata": {},
   "outputs": [
    {
     "data": {
      "text/plain": [
       "<tf.Tensor: shape=(4, 4), dtype=float32, numpy=\n",
       "array([[1., 0., 0., 0.],\n",
       "       [0., 1., 0., 0.],\n",
       "       [0., 0., 1., 0.],\n",
       "       [0., 0., 0., 1.]], dtype=float32)>"
      ]
     },
     "execution_count": 152,
     "metadata": {},
     "output_type": "execute_result"
    }
   ],
   "source": [
    "tf.one_hot(colors, depth = len(colors))"
   ]
  },
  {
   "cell_type": "markdown",
   "id": "43e8947b-0f4e-4882-b25d-827a55006ab6",
   "metadata": {},
   "source": [
    "## **Some math funtions**"
   ]
  },
  {
   "cell_type": "code",
   "execution_count": 154,
   "id": "e3d8ce80-7cac-488c-977b-ebe21c1b5e02",
   "metadata": {},
   "outputs": [],
   "source": [
    "matrix6 = tf.range(1, 13)"
   ]
  },
  {
   "cell_type": "code",
   "execution_count": 156,
   "id": "014b3c2d-5dcb-44e3-80aa-3b9f06c1dcce",
   "metadata": {},
   "outputs": [],
   "source": [
    "matrix6 = tf.reshape(matrix6, shape = (3, 4))"
   ]
  },
  {
   "cell_type": "code",
   "execution_count": 157,
   "id": "f8f9db06-9a1b-400b-832c-85f40f9651ac",
   "metadata": {},
   "outputs": [
    {
     "data": {
      "text/plain": [
       "<tf.Tensor: shape=(3, 4), dtype=int32, numpy=\n",
       "array([[ 1,  2,  3,  4],\n",
       "       [ 5,  6,  7,  8],\n",
       "       [ 9, 10, 11, 12]], dtype=int32)>"
      ]
     },
     "execution_count": 157,
     "metadata": {},
     "output_type": "execute_result"
    }
   ],
   "source": [
    "matrix6"
   ]
  },
  {
   "cell_type": "code",
   "execution_count": 158,
   "id": "b1d26965-d1a3-44f4-ad5d-f27bf3853065",
   "metadata": {},
   "outputs": [
    {
     "data": {
      "text/plain": [
       "<tf.Tensor: shape=(3, 4), dtype=int32, numpy=\n",
       "array([[  1,   4,   9,  16],\n",
       "       [ 25,  36,  49,  64],\n",
       "       [ 81, 100, 121, 144]], dtype=int32)>"
      ]
     },
     "execution_count": 158,
     "metadata": {},
     "output_type": "execute_result"
    }
   ],
   "source": [
    "tf.square(matrix6)"
   ]
  },
  {
   "cell_type": "code",
   "execution_count": 160,
   "id": "3e0df2c8-130b-4998-ada7-10dc01ec83bc",
   "metadata": {},
   "outputs": [
    {
     "data": {
      "text/plain": [
       "<tf.Tensor: shape=(3, 4), dtype=float32, numpy=\n",
       "array([[1.       , 1.4142135, 1.7320508, 2.       ],\n",
       "       [2.236068 , 2.4494898, 2.6457512, 2.828427 ],\n",
       "       [3.       , 3.1622777, 3.3166249, 3.4641016]], dtype=float32)>"
      ]
     },
     "execution_count": 160,
     "metadata": {},
     "output_type": "execute_result"
    }
   ],
   "source": [
    "tf.sqrt(tf.cast(matrix6, dtype = tf.float32))"
   ]
  },
  {
   "cell_type": "code",
   "execution_count": 162,
   "id": "dd579089-3fb0-4bad-8bbe-706105dbcc99",
   "metadata": {},
   "outputs": [
    {
     "data": {
      "text/plain": [
       "<tf.Tensor: shape=(3, 4), dtype=int32, numpy=\n",
       "array([[ 1,  3,  6, 10],\n",
       "       [ 5, 11, 18, 26],\n",
       "       [ 9, 19, 30, 42]], dtype=int32)>"
      ]
     },
     "execution_count": 162,
     "metadata": {},
     "output_type": "execute_result"
    }
   ],
   "source": [
    "tf.math.cumsum(matrix6, axis = 1)"
   ]
  },
  {
   "cell_type": "code",
   "execution_count": 164,
   "id": "158ea8f7-d9cb-47f6-a7ac-5abd1184acaa",
   "metadata": {},
   "outputs": [
    {
     "data": {
      "text/plain": [
       "<tf.Tensor: shape=(3, 4), dtype=float32, numpy=\n",
       "array([[0.       , 0.6931472, 1.0986123, 1.3862944],\n",
       "       [1.609438 , 1.7917595, 1.9459102, 2.0794415],\n",
       "       [2.1972246, 2.3025851, 2.3978953, 2.4849067]], dtype=float32)>"
      ]
     },
     "execution_count": 164,
     "metadata": {},
     "output_type": "execute_result"
    }
   ],
   "source": [
    "tf.math.log(tf.cast(matrix6, dtype = tf.float32))"
   ]
  },
  {
   "cell_type": "code",
   "execution_count": 169,
   "id": "b36b06ae-ac8c-4be7-af6e-7a359cc0322f",
   "metadata": {},
   "outputs": [
    {
     "data": {
      "text/plain": [
       "<tf.Tensor: shape=(3, 4), dtype=int32, numpy=\n",
       "array([[   1,    8,   27,   64],\n",
       "       [ 125,  216,  343,  512],\n",
       "       [ 729, 1000, 1331, 1728]], dtype=int32)>"
      ]
     },
     "execution_count": 169,
     "metadata": {},
     "output_type": "execute_result"
    }
   ],
   "source": [
    "tf.math.pow(matrix6, 3)"
   ]
  },
  {
   "cell_type": "markdown",
   "id": "5dd4dec4-7e51-438a-9420-43b3d25efbec",
   "metadata": {},
   "source": [
    "## **Tensorflow and numpy compatibility**"
   ]
  },
  {
   "cell_type": "code",
   "execution_count": 171,
   "id": "78f62b6c-ab6f-4cdf-b12b-2919b7d6168a",
   "metadata": {},
   "outputs": [],
   "source": [
    "matrix7 = tf.constant(np.array([42., 24., 12.]))"
   ]
  },
  {
   "cell_type": "code",
   "execution_count": 172,
   "id": "2bb841a1-64af-48d0-8636-66ab12e98e3e",
   "metadata": {},
   "outputs": [
    {
     "data": {
      "text/plain": [
       "<tf.Tensor: shape=(3,), dtype=float64, numpy=array([42., 24., 12.])>"
      ]
     },
     "execution_count": 172,
     "metadata": {},
     "output_type": "execute_result"
    }
   ],
   "source": [
    "matrix7"
   ]
  },
  {
   "cell_type": "code",
   "execution_count": 173,
   "id": "3a802fb2-3e44-4afe-8532-e078b2deacc3",
   "metadata": {},
   "outputs": [
    {
     "data": {
      "text/plain": [
       "tensorflow.python.framework.ops.EagerTensor"
      ]
     },
     "execution_count": 173,
     "metadata": {},
     "output_type": "execute_result"
    }
   ],
   "source": [
    "type(matrix7)"
   ]
  },
  {
   "cell_type": "code",
   "execution_count": 177,
   "id": "6495e994-10ff-4cd0-8e9b-1a992809a5ba",
   "metadata": {},
   "outputs": [],
   "source": [
    "matrix8 = np.array(matrix7)"
   ]
  },
  {
   "cell_type": "code",
   "execution_count": 178,
   "id": "fef6eac6-a673-4486-9dd1-9ae2fdbfd4d4",
   "metadata": {},
   "outputs": [
    {
     "data": {
      "text/plain": [
       "numpy.ndarray"
      ]
     },
     "execution_count": 178,
     "metadata": {},
     "output_type": "execute_result"
    }
   ],
   "source": [
    "type(matrix8)"
   ]
  },
  {
   "cell_type": "code",
   "execution_count": 179,
   "id": "be2698b7-2901-455f-a0a9-af5539678e66",
   "metadata": {},
   "outputs": [
    {
     "data": {
      "text/plain": [
       "tf.float64"
      ]
     },
     "execution_count": 179,
     "metadata": {},
     "output_type": "execute_result"
    }
   ],
   "source": [
    "matrix7.dtype"
   ]
  },
  {
   "cell_type": "code",
   "execution_count": 180,
   "id": "e9c70b9c-7206-4370-885c-faf039d308d0",
   "metadata": {},
   "outputs": [
    {
     "data": {
      "text/plain": [
       "tf.int32"
      ]
     },
     "execution_count": 180,
     "metadata": {},
     "output_type": "execute_result"
    }
   ],
   "source": [
    "matrix6.dtype"
   ]
  },
  {
   "cell_type": "code",
   "execution_count": 181,
   "id": "5de4bdcd-5abe-49fc-a642-bc35e3e8e4c9",
   "metadata": {},
   "outputs": [
    {
     "data": {
      "text/plain": [
       "<tf.Tensor: shape=(3, 4), dtype=float64, numpy=\n",
       "array([[ 1.,  2.,  3.,  4.],\n",
       "       [ 5.,  6.,  7.,  8.],\n",
       "       [ 9., 10., 11., 12.]])>"
      ]
     },
     "execution_count": 181,
     "metadata": {},
     "output_type": "execute_result"
    }
   ],
   "source": [
    "tf.cast(matrix6, dtype = matrix7.dtype)"
   ]
  },
  {
   "cell_type": "markdown",
   "id": "7f1c9ea4-4607-466c-a43a-08051321680b",
   "metadata": {},
   "source": [
    "## **Using GPU**"
   ]
  },
  {
   "cell_type": "code",
   "execution_count": 182,
   "id": "2cc48a2d-7c59-4431-aade-a03ba7f9bb6d",
   "metadata": {},
   "outputs": [
    {
     "data": {
      "text/plain": [
       "[PhysicalDevice(name='/physical_device:CPU:0', device_type='CPU'),\n",
       " PhysicalDevice(name='/physical_device:GPU:0', device_type='GPU')]"
      ]
     },
     "execution_count": 182,
     "metadata": {},
     "output_type": "execute_result"
    }
   ],
   "source": [
    "tf.config.list_physical_devices()"
   ]
  },
  {
   "cell_type": "code",
   "execution_count": 183,
   "id": "fbfe30e7-c3ab-48e7-bfd0-f38281c0c9ed",
   "metadata": {},
   "outputs": [
    {
     "data": {
      "text/plain": [
       "[PhysicalDevice(name='/physical_device:GPU:0', device_type='GPU')]"
      ]
     },
     "execution_count": 183,
     "metadata": {},
     "output_type": "execute_result"
    }
   ],
   "source": [
    "tf.config.list_physical_devices('GPU')"
   ]
  },
  {
   "cell_type": "code",
   "execution_count": 184,
   "id": "0d2ac8ae-6ee3-43a1-8ae3-a6ea01253e9b",
   "metadata": {},
   "outputs": [
    {
     "name": "stdout",
     "output_type": "stream",
     "text": [
      "Tue Jul  2 20:59:06 2024       \n",
      "+-----------------------------------------------------------------------------------------+\n",
      "| NVIDIA-SMI 555.52.01              Driver Version: 555.99         CUDA Version: 12.5     |\n",
      "|-----------------------------------------+------------------------+----------------------+\n",
      "| GPU  Name                 Persistence-M | Bus-Id          Disp.A | Volatile Uncorr. ECC |\n",
      "| Fan  Temp   Perf          Pwr:Usage/Cap |           Memory-Usage | GPU-Util  Compute M. |\n",
      "|                                         |                        |               MIG M. |\n",
      "|=========================================+========================+======================|\n",
      "|   0  NVIDIA GeForce RTX 3060        On  |   00000000:01:00.0  On |                  N/A |\n",
      "|  0%   42C    P8             14W /  170W |   11159MiB /  12288MiB |      3%      Default |\n",
      "|                                         |                        |                  N/A |\n",
      "+-----------------------------------------+------------------------+----------------------+\n",
      "                                                                                         \n",
      "+-----------------------------------------------------------------------------------------+\n",
      "| Processes:                                                                              |\n",
      "|  GPU   GI   CI        PID   Type   Process name                              GPU Memory |\n",
      "|        ID   ID                                                               Usage      |\n",
      "|=========================================================================================|\n",
      "|    0   N/A  N/A        37      G   /Xwayland                                   N/A      |\n",
      "|    0   N/A  N/A      2651      C   /python3.9                                  N/A      |\n",
      "+-----------------------------------------------------------------------------------------+\n"
     ]
    }
   ],
   "source": [
    "!nvidia-smi"
   ]
  },
  {
   "cell_type": "markdown",
   "id": "57d8da37-a71d-4b45-a055-5278f39389a3",
   "metadata": {},
   "source": [
    "## **EXERCISES**"
   ]
  },
  {
   "cell_type": "markdown",
   "id": "d1525a29-baf4-437f-b3c6-bef1d3724fb9",
   "metadata": {},
   "source": [
    "1. Create a vector, scalar, matrix and tensor with values of your choosing using tf.constant()."
   ]
  },
  {
   "cell_type": "code",
   "execution_count": 187,
   "id": "d7c3e632-e3c6-4c23-be5c-20d58c2d1d85",
   "metadata": {},
   "outputs": [],
   "source": [
    "ex_scalar = tf.constant(42)"
   ]
  },
  {
   "cell_type": "code",
   "execution_count": 190,
   "id": "af28249c-ac0e-4536-b991-d67f8338b502",
   "metadata": {},
   "outputs": [
    {
     "data": {
      "text/plain": [
       "<tf.Tensor: shape=(), dtype=int32, numpy=42>"
      ]
     },
     "execution_count": 190,
     "metadata": {},
     "output_type": "execute_result"
    }
   ],
   "source": [
    "ex_scalar"
   ]
  },
  {
   "cell_type": "code",
   "execution_count": 189,
   "id": "fd0b90bb-ef28-477d-b39c-a82845bcbca2",
   "metadata": {},
   "outputs": [],
   "source": [
    "ex_vector = tf.constant([42, 42])"
   ]
  },
  {
   "cell_type": "code",
   "execution_count": 191,
   "id": "20f1aca5-dfcd-4c20-bbe1-2b64b10f2c57",
   "metadata": {},
   "outputs": [
    {
     "data": {
      "text/plain": [
       "<tf.Tensor: shape=(2,), dtype=int32, numpy=array([42, 42], dtype=int32)>"
      ]
     },
     "execution_count": 191,
     "metadata": {},
     "output_type": "execute_result"
    }
   ],
   "source": [
    "ex_vector"
   ]
  },
  {
   "cell_type": "code",
   "execution_count": 192,
   "id": "0bcb0215-6889-4aee-9ec2-5a2969c4e758",
   "metadata": {},
   "outputs": [],
   "source": [
    "ex_matrix = tf.constant([[42, 24], [24, 42]])"
   ]
  },
  {
   "cell_type": "code",
   "execution_count": 193,
   "id": "0b8c9820-959a-4244-b987-df089713d83c",
   "metadata": {},
   "outputs": [
    {
     "data": {
      "text/plain": [
       "<tf.Tensor: shape=(2, 2), dtype=int32, numpy=\n",
       "array([[42, 24],\n",
       "       [24, 42]], dtype=int32)>"
      ]
     },
     "execution_count": 193,
     "metadata": {},
     "output_type": "execute_result"
    }
   ],
   "source": [
    "ex_matrix"
   ]
  },
  {
   "cell_type": "code",
   "execution_count": 194,
   "id": "8d1378ab-3c3f-478f-bc4c-e661e0916b40",
   "metadata": {},
   "outputs": [],
   "source": [
    "ex_tensor = tf.constant([\n",
    "    [[1, 2, 3], [4, 5, 6]],\n",
    "    [[7, 8, 9], [10, 11, 12]]\n",
    "])"
   ]
  },
  {
   "cell_type": "code",
   "execution_count": 195,
   "id": "83eb03c9-ceef-4da7-95d2-0981ca9b5524",
   "metadata": {},
   "outputs": [
    {
     "data": {
      "text/plain": [
       "<tf.Tensor: shape=(2, 2, 3), dtype=int32, numpy=\n",
       "array([[[ 1,  2,  3],\n",
       "        [ 4,  5,  6]],\n",
       "\n",
       "       [[ 7,  8,  9],\n",
       "        [10, 11, 12]]], dtype=int32)>"
      ]
     },
     "execution_count": 195,
     "metadata": {},
     "output_type": "execute_result"
    }
   ],
   "source": [
    "ex_tensor"
   ]
  },
  {
   "cell_type": "markdown",
   "id": "d67386b2-4365-4f2c-ad8f-7a3518a70880",
   "metadata": {},
   "source": [
    "2. Find the shape, rank and size of the tensors you created in 1."
   ]
  },
  {
   "cell_type": "code",
   "execution_count": 201,
   "id": "efab9f5f-dae1-4736-9514-4722a7d51b50",
   "metadata": {},
   "outputs": [
    {
     "data": {
      "text/plain": [
       "(TensorShape([]),\n",
       " 0,\n",
       " <tf.Tensor: shape=(0,), dtype=int32, numpy=array([], dtype=int32)>)"
      ]
     },
     "execution_count": 201,
     "metadata": {},
     "output_type": "execute_result"
    }
   ],
   "source": [
    "ex_scalar.shape, ex_scalar.ndim, tf.shape(ex_scalar)"
   ]
  },
  {
   "cell_type": "code",
   "execution_count": 202,
   "id": "e0b0059c-49d9-4b65-904a-0f074dd860d7",
   "metadata": {},
   "outputs": [
    {
     "data": {
      "text/plain": [
       "(TensorShape([2]),\n",
       " 1,\n",
       " <tf.Tensor: shape=(1,), dtype=int32, numpy=array([2], dtype=int32)>)"
      ]
     },
     "execution_count": 202,
     "metadata": {},
     "output_type": "execute_result"
    }
   ],
   "source": [
    "ex_vector.shape, ex_vector.ndim, tf.shape(ex_vector)"
   ]
  },
  {
   "cell_type": "code",
   "execution_count": 203,
   "id": "ca3409ea-0b24-4272-bf6b-610e42aa8845",
   "metadata": {},
   "outputs": [
    {
     "data": {
      "text/plain": [
       "(TensorShape([2, 2]),\n",
       " 2,\n",
       " <tf.Tensor: shape=(2,), dtype=int32, numpy=array([2, 2], dtype=int32)>)"
      ]
     },
     "execution_count": 203,
     "metadata": {},
     "output_type": "execute_result"
    }
   ],
   "source": [
    "ex_matrix.shape, ex_matrix.ndim, tf.shape(ex_matrix)"
   ]
  },
  {
   "cell_type": "code",
   "execution_count": 204,
   "id": "9a992b2e-e3d6-44c9-b17d-728cf0bba304",
   "metadata": {},
   "outputs": [
    {
     "data": {
      "text/plain": [
       "(TensorShape([2, 2, 3]),\n",
       " 3,\n",
       " <tf.Tensor: shape=(3,), dtype=int32, numpy=array([2, 2, 3], dtype=int32)>)"
      ]
     },
     "execution_count": 204,
     "metadata": {},
     "output_type": "execute_result"
    }
   ],
   "source": [
    "ex_tensor.shape, ex_tensor.ndim, tf.shape(ex_tensor)"
   ]
  },
  {
   "cell_type": "markdown",
   "id": "035c77e0-45a5-41d1-8c4b-150a634a9cb9",
   "metadata": {},
   "source": [
    "3. Create two tensors containing random values between 0 and 1 with shape [5, 300]."
   ]
  },
  {
   "cell_type": "code",
   "execution_count": 241,
   "id": "75b5ef3e-40bb-427b-84a6-49a4c7e602e8",
   "metadata": {},
   "outputs": [],
   "source": [
    "tf.random.set_seed(42)\n",
    "ex_tensor1 = tf.random.uniform(shape = (5, 300))"
   ]
  },
  {
   "cell_type": "code",
   "execution_count": 242,
   "id": "72ecb5a4-1bc1-4e4b-8f59-718970e9ac84",
   "metadata": {},
   "outputs": [
    {
     "data": {
      "text/plain": [
       "<tf.Tensor: shape=(5, 300), dtype=float32, numpy=\n",
       "array([[0.6645621 , 0.44100678, 0.3528825 , ..., 0.31410468, 0.7593535 ,\n",
       "        0.03699052],\n",
       "       [0.532024  , 0.29129946, 0.10571766, ..., 0.54052293, 0.31425726,\n",
       "        0.2200619 ],\n",
       "       [0.08404207, 0.03614604, 0.97732127, ..., 0.21516645, 0.9786098 ,\n",
       "        0.00726748],\n",
       "       [0.7396945 , 0.6653172 , 0.0787828 , ..., 0.7117733 , 0.07013571,\n",
       "        0.9409125 ],\n",
       "       [0.15861344, 0.12024033, 0.27218235, ..., 0.8824879 , 0.1432488 ,\n",
       "        0.44135118]], dtype=float32)>"
      ]
     },
     "execution_count": 242,
     "metadata": {},
     "output_type": "execute_result"
    }
   ],
   "source": [
    "ex_tensor1"
   ]
  },
  {
   "cell_type": "code",
   "execution_count": 243,
   "id": "f759a4f4-a369-4b51-85f0-5aba56e5a50f",
   "metadata": {},
   "outputs": [],
   "source": [
    "tf.random.set_seed(24)\n",
    "ex_tensor2 = tf.random.uniform(shape = (5, 300))"
   ]
  },
  {
   "cell_type": "code",
   "execution_count": 244,
   "id": "34f8d978-fdb3-49e8-bbf5-11bf85b23c48",
   "metadata": {},
   "outputs": [
    {
     "data": {
      "text/plain": [
       "<tf.Tensor: shape=(5, 300), dtype=float32, numpy=\n",
       "array([[0.10927987, 0.26020873, 0.7633631 , ..., 0.5732243 , 0.29622567,\n",
       "        0.5584904 ],\n",
       "       [0.40879428, 0.01851249, 0.06484127, ..., 0.74509406, 0.7762246 ,\n",
       "        0.49130988],\n",
       "       [0.37870276, 0.17573595, 0.01397479, ..., 0.41859305, 0.49424505,\n",
       "        0.3922186 ],\n",
       "       [0.545331  , 0.99168897, 0.69376755, ..., 0.35077906, 0.5223229 ,\n",
       "        0.68388844],\n",
       "       [0.37977195, 0.8442526 , 0.2177831 , ..., 0.42251897, 0.59477377,\n",
       "        0.38484502]], dtype=float32)>"
      ]
     },
     "execution_count": 244,
     "metadata": {},
     "output_type": "execute_result"
    }
   ],
   "source": [
    "ex_tensor2"
   ]
  },
  {
   "cell_type": "markdown",
   "id": "65f2221b-8716-408c-8085-9f8252ff903e",
   "metadata": {},
   "source": [
    "4. Multiply the two tensors you created in 3 using matrix multiplication."
   ]
  },
  {
   "cell_type": "code",
   "execution_count": 245,
   "id": "6085c975-f2d3-4d3a-a802-9c4cb519daea",
   "metadata": {},
   "outputs": [
    {
     "data": {
      "text/plain": [
       "<tf.Tensor: shape=(5, 300), dtype=float32, numpy=\n",
       "array([[0.07262326, 0.11475381, 0.2693775 , ..., 0.18005243, 0.22494   ,\n",
       "        0.02065885],\n",
       "       [0.21748838, 0.00539268, 0.00685487, ..., 0.40274042, 0.24393423,\n",
       "        0.10811859],\n",
       "       [0.03182697, 0.00635216, 0.01365786, ..., 0.09006718, 0.48367307,\n",
       "        0.00285044],\n",
       "       [0.40337834, 0.6597877 , 0.05465695, ..., 0.24967515, 0.03663349,\n",
       "        0.64347917],\n",
       "       [0.06023693, 0.10151321, 0.05927671, ..., 0.37286788, 0.08520063,\n",
       "        0.1698518 ]], dtype=float32)>"
      ]
     },
     "execution_count": 245,
     "metadata": {},
     "output_type": "execute_result"
    }
   ],
   "source": [
    "tf.math.multiply(ex_tensor1, ex_tensor2)"
   ]
  },
  {
   "cell_type": "markdown",
   "id": "018c0245-a7cb-4f12-a345-59e10da1da28",
   "metadata": {},
   "source": [
    "5. Multiply the two tensors you created in 3 using dot product."
   ]
  },
  {
   "cell_type": "code",
   "execution_count": 247,
   "id": "8ec4e156-b880-48d0-b836-5855fd41dba2",
   "metadata": {},
   "outputs": [
    {
     "data": {
      "text/plain": [
       "<tf.Tensor: shape=(5, 5), dtype=float32, numpy=\n",
       "array([[75.24629 , 73.54976 , 75.048546, 75.80545 , 78.960106],\n",
       "       [72.33918 , 71.40964 , 69.97695 , 72.64048 , 72.41999 ],\n",
       "       [77.53124 , 72.41772 , 72.69784 , 75.74254 , 73.69695 ],\n",
       "       [71.73841 , 68.16662 , 70.50826 , 74.89098 , 73.03289 ],\n",
       "       [76.57754 , 75.48809 , 75.52525 , 78.87166 , 75.993614]],\n",
       "      dtype=float32)>"
      ]
     },
     "execution_count": 247,
     "metadata": {},
     "output_type": "execute_result"
    }
   ],
   "source": [
    "tf.linalg.matmul(ex_tensor1, ex_tensor2, transpose_b = True)"
   ]
  },
  {
   "cell_type": "markdown",
   "id": "b4c01479-4256-438a-a1ed-0bfd9225b88f",
   "metadata": {},
   "source": [
    "6. Create a tensor with random values between 0 and 1 with shape [224, 224, 3]."
   ]
  },
  {
   "cell_type": "code",
   "execution_count": 248,
   "id": "e575ca01-bece-40e8-9614-8f2d180e1741",
   "metadata": {},
   "outputs": [],
   "source": [
    "ex_tensor3 = tf.random.uniform(shape = [224, 224, 3])"
   ]
  },
  {
   "cell_type": "code",
   "execution_count": 249,
   "id": "2dd667e6-d597-43c8-8bc2-5a42392569eb",
   "metadata": {},
   "outputs": [
    {
     "data": {
      "text/plain": [
       "<tf.Tensor: shape=(224, 224, 3), dtype=float32, numpy=\n",
       "array([[[0.8875979 , 0.0716151 , 0.38931954],\n",
       "        [0.52773523, 0.45418775, 0.4545952 ],\n",
       "        [0.40503561, 0.28862238, 0.20030463],\n",
       "        ...,\n",
       "        [0.621035  , 0.42020702, 0.04535997],\n",
       "        [0.36326027, 0.19628036, 0.86698043],\n",
       "        [0.16912591, 0.830595  , 0.93398035]],\n",
       "\n",
       "       [[0.10933232, 0.09066951, 0.95751274],\n",
       "        [0.88375163, 0.6928458 , 0.7869148 ],\n",
       "        [0.19057035, 0.19762087, 0.41778326],\n",
       "        ...,\n",
       "        [0.996876  , 0.05178726, 0.44400537],\n",
       "        [0.583006  , 0.6352681 , 0.8380282 ],\n",
       "        [0.19035923, 0.9259907 , 0.90589535]],\n",
       "\n",
       "       [[0.9468392 , 0.7157507 , 0.19773316],\n",
       "        [0.09060764, 0.81029534, 0.19365823],\n",
       "        [0.736907  , 0.14684665, 0.53045774],\n",
       "        ...,\n",
       "        [0.8397001 , 0.7393296 , 0.01585066],\n",
       "        [0.49944746, 0.66136146, 0.3419224 ],\n",
       "        [0.16901314, 0.26022243, 0.7991755 ]],\n",
       "\n",
       "       ...,\n",
       "\n",
       "       [[0.04374444, 0.08199811, 0.93804646],\n",
       "        [0.19743466, 0.49959755, 0.63265836],\n",
       "        [0.7415527 , 0.39709806, 0.24429584],\n",
       "        ...,\n",
       "        [0.02603185, 0.43984032, 0.4747187 ],\n",
       "        [0.7712908 , 0.46892107, 0.9120643 ],\n",
       "        [0.6503128 , 0.92805696, 0.2232809 ]],\n",
       "\n",
       "       [[0.30453038, 0.00588143, 0.24227571],\n",
       "        [0.797189  , 0.25588846, 0.73242116],\n",
       "        [0.68399894, 0.7355503 , 0.91791904],\n",
       "        ...,\n",
       "        [0.5399847 , 0.7245147 , 0.73833215],\n",
       "        [0.57907474, 0.9624156 , 0.52823114],\n",
       "        [0.32157123, 0.47766972, 0.40577722]],\n",
       "\n",
       "       [[0.35543084, 0.26068377, 0.81613946],\n",
       "        [0.5118035 , 0.27368784, 0.65962946],\n",
       "        [0.5575528 , 0.7701876 , 0.12733698],\n",
       "        ...,\n",
       "        [0.549276  , 0.41120505, 0.7477243 ],\n",
       "        [0.9877844 , 0.6537142 , 0.07734561],\n",
       "        [0.9859283 , 0.4438913 , 0.38736558]]], dtype=float32)>"
      ]
     },
     "execution_count": 249,
     "metadata": {},
     "output_type": "execute_result"
    }
   ],
   "source": [
    "ex_tensor3"
   ]
  },
  {
   "cell_type": "markdown",
   "id": "f08f2a99-60b1-4473-ad98-58109898b62a",
   "metadata": {},
   "source": [
    "7. Find the min and max values of the tensor you created in 6 along the first axis."
   ]
  },
  {
   "cell_type": "code",
   "execution_count": 276,
   "id": "9b75a97e-08b2-4699-ba34-a2469e1e5ce4",
   "metadata": {},
   "outputs": [
    {
     "data": {
      "text/plain": [
       "<tf.Tensor: shape=(), dtype=float32, numpy=3.33786e-06>"
      ]
     },
     "execution_count": 276,
     "metadata": {},
     "output_type": "execute_result"
    }
   ],
   "source": [
    "tf.reduce_min(ex_tensor3)"
   ]
  },
  {
   "cell_type": "code",
   "execution_count": 254,
   "id": "02bedcf3-0545-4290-b314-1279262b65b9",
   "metadata": {},
   "outputs": [
    {
     "data": {
      "text/plain": [
       "<tf.Tensor: shape=(224, 3), dtype=int64, numpy=\n",
       "array([[176, 188, 220],\n",
       "       [ 80, 119,  56],\n",
       "       [ 99, 218, 143],\n",
       "       [ 63, 157, 195],\n",
       "       [185, 160, 214],\n",
       "       [ 37, 164,  88],\n",
       "       [142, 207,  19],\n",
       "       [163,  87,  25],\n",
       "       [ 17, 222, 193],\n",
       "       [118,  67, 223],\n",
       "       [203,  60, 169],\n",
       "       [  1, 223,  10],\n",
       "       [ 85,  38,  43],\n",
       "       [ 32,   0,  60],\n",
       "       [ 92, 129,  45],\n",
       "       [217,   9, 111],\n",
       "       [113,  34, 208],\n",
       "       [ 17,  80, 188],\n",
       "       [164, 173, 131],\n",
       "       [  2,  86, 212],\n",
       "       [ 91,  92,  78],\n",
       "       [  2,  35, 165],\n",
       "       [ 35, 117, 133],\n",
       "       [ 84,  58,   9],\n",
       "       [ 39, 195, 176],\n",
       "       [  6, 171, 118],\n",
       "       [ 92, 211, 141],\n",
       "       [ 24, 120,  83],\n",
       "       [135,  56,  19],\n",
       "       [ 92, 105, 130],\n",
       "       [ 54, 134, 192],\n",
       "       [209, 195,  36],\n",
       "       [200,  37, 206],\n",
       "       [ 22,  80, 223],\n",
       "       [ 40, 151, 140],\n",
       "       [ 33, 108,  64],\n",
       "       [ 70,  58, 191],\n",
       "       [ 31, 153, 137],\n",
       "       [145, 192, 180],\n",
       "       [ 24, 159, 129],\n",
       "       [219, 215, 191],\n",
       "       [ 47, 158,  35],\n",
       "       [167, 110,  91],\n",
       "       [186,  18, 149],\n",
       "       [ 66, 181, 192],\n",
       "       [ 50,  25,  74],\n",
       "       [ 88,  20, 175],\n",
       "       [216, 141,  91],\n",
       "       [195,  91, 107],\n",
       "       [170, 194, 185],\n",
       "       [120, 102, 216],\n",
       "       [115, 165, 135],\n",
       "       [ 73, 155, 115],\n",
       "       [ 94,  31, 133],\n",
       "       [128, 159,  74],\n",
       "       [ 38,  96, 216],\n",
       "       [100, 208,  92],\n",
       "       [ 29,  83, 207],\n",
       "       [ 48,  22,  63],\n",
       "       [168,  83,  22],\n",
       "       [203,   0,   2],\n",
       "       [ 88,  41, 217],\n",
       "       [106, 188, 210],\n",
       "       [204, 219, 123],\n",
       "       [178, 190, 217],\n",
       "       [ 96, 117,  34],\n",
       "       [169, 112,  70],\n",
       "       [172,  95, 172],\n",
       "       [ 44,  78, 165],\n",
       "       [101, 134, 179],\n",
       "       [121,  44,  48],\n",
       "       [ 73, 163,  72],\n",
       "       [ 83, 102, 218],\n",
       "       [ 69,  99, 113],\n",
       "       [170,  25, 194],\n",
       "       [142, 161, 203],\n",
       "       [ 97, 197, 181],\n",
       "       [162,  16,  22],\n",
       "       [ 46, 107, 219],\n",
       "       [174,  53, 199],\n",
       "       [ 92,  81,  72],\n",
       "       [ 40, 116, 163],\n",
       "       [ 77, 215,   3],\n",
       "       [ 48,  46,  23],\n",
       "       [174, 200,  17],\n",
       "       [ 10,  90,  79],\n",
       "       [175,   9, 198],\n",
       "       [185, 135,  57],\n",
       "       [159, 223, 129],\n",
       "       [ 97, 220, 119],\n",
       "       [ 17, 140, 136],\n",
       "       [ 32, 198,  76],\n",
       "       [ 82,  22, 170],\n",
       "       [218, 146, 184],\n",
       "       [ 41, 126,  41],\n",
       "       [186, 115, 134],\n",
       "       [  8,  90,  65],\n",
       "       [ 98, 151,  38],\n",
       "       [134,  41,   2],\n",
       "       [ 54, 133,   0],\n",
       "       [ 88, 214,  31],\n",
       "       [136, 149, 156],\n",
       "       [ 86, 113,  49],\n",
       "       [182, 182,  91],\n",
       "       [155, 223, 138],\n",
       "       [146,  29,  80],\n",
       "       [219, 163, 193],\n",
       "       [ 72,  40, 110],\n",
       "       [151, 213,  75],\n",
       "       [185,   6, 203],\n",
       "       [192, 137,  56],\n",
       "       [174,  18, 162],\n",
       "       [ 39, 184, 122],\n",
       "       [167, 115,  13],\n",
       "       [155,  15,  44],\n",
       "       [170, 139, 142],\n",
       "       [ 56, 124, 111],\n",
       "       [176, 113,  57],\n",
       "       [167,  14, 208],\n",
       "       [201, 113, 153],\n",
       "       [ 92, 180, 156],\n",
       "       [ 15,  87,  98],\n",
       "       [ 45, 127,  63],\n",
       "       [138,  80, 175],\n",
       "       [209,  39, 188],\n",
       "       [176,  35,  55],\n",
       "       [ 94, 182, 139],\n",
       "       [118,  51, 132],\n",
       "       [ 47,  87,  67],\n",
       "       [ 47,  42,   7],\n",
       "       [118,  45,   5],\n",
       "       [ 81,  25, 123],\n",
       "       [189,  61, 188],\n",
       "       [ 62,  62, 161],\n",
       "       [  8,  22,  57],\n",
       "       [114, 187, 172],\n",
       "       [ 33, 132,  60],\n",
       "       [  3,   8, 223],\n",
       "       [152,  85,  76],\n",
       "       [150,  99,   6],\n",
       "       [ 93, 209,  24],\n",
       "       [ 94, 101, 186],\n",
       "       [121,  72, 116],\n",
       "       [201, 197, 205],\n",
       "       [179,   2, 157],\n",
       "       [156, 147, 139],\n",
       "       [212,   7, 112],\n",
       "       [ 22, 141,   0],\n",
       "       [161,  26, 121],\n",
       "       [186, 217,  50],\n",
       "       [181,  89, 146],\n",
       "       [131,   5, 104],\n",
       "       [137, 104, 191],\n",
       "       [ 75, 197, 193],\n",
       "       [ 17,  72,  54],\n",
       "       [206,  28, 122],\n",
       "       [204,  50,  63],\n",
       "       [207, 175,  99],\n",
       "       [149, 112, 150],\n",
       "       [221,  94,  21],\n",
       "       [ 90, 112,  25],\n",
       "       [ 67, 222, 184],\n",
       "       [142, 122, 128],\n",
       "       [ 42, 156, 206],\n",
       "       [ 18,  17, 208],\n",
       "       [184, 220,  74],\n",
       "       [ 81,  60,   1],\n",
       "       [ 92, 223,  43],\n",
       "       [145, 166,  77],\n",
       "       [ 34,  11,  51],\n",
       "       [198,  47,  42],\n",
       "       [ 61, 189, 193],\n",
       "       [ 66, 122, 104],\n",
       "       [186, 185,  91],\n",
       "       [  5,  41,   1],\n",
       "       [ 58,  51, 175],\n",
       "       [  4, 124,  69],\n",
       "       [ 16, 108,  34],\n",
       "       [118, 187, 134],\n",
       "       [103,   4, 163],\n",
       "       [112, 223, 115],\n",
       "       [124, 116,   0],\n",
       "       [ 45, 163, 141],\n",
       "       [191, 189,  52],\n",
       "       [179,  41,  38],\n",
       "       [ 48,  89,  42],\n",
       "       [ 65, 143,  41],\n",
       "       [221, 171, 181],\n",
       "       [191, 128,  87],\n",
       "       [204, 165,   0],\n",
       "       [ 24, 206,  63],\n",
       "       [ 33,  83, 161],\n",
       "       [133, 194, 118],\n",
       "       [118, 156, 172],\n",
       "       [104, 211, 188],\n",
       "       [150,  67,  66],\n",
       "       [119, 121, 171],\n",
       "       [218, 123, 113],\n",
       "       [153, 119, 147],\n",
       "       [ 70, 158, 138],\n",
       "       [ 24,  47,  61],\n",
       "       [113, 180,  63],\n",
       "       [183, 198, 188],\n",
       "       [ 40, 104,  99],\n",
       "       [ 69, 112, 126],\n",
       "       [218, 185,  34],\n",
       "       [122, 132,  22],\n",
       "       [ 88, 127, 111],\n",
       "       [ 17, 112,  28],\n",
       "       [ 14, 100, 149],\n",
       "       [221,  85, 187],\n",
       "       [ 71,  13,  80],\n",
       "       [ 15, 155,  89],\n",
       "       [196,  60, 190],\n",
       "       [215,  80, 154],\n",
       "       [ 13,  94,  89],\n",
       "       [111, 159, 192],\n",
       "       [214, 103,  99],\n",
       "       [210,   4, 138],\n",
       "       [222,  27, 157],\n",
       "       [113, 111,  55],\n",
       "       [187, 158, 109],\n",
       "       [176,  28,  25],\n",
       "       [129, 207, 124]])>"
      ]
     },
     "execution_count": 254,
     "metadata": {},
     "output_type": "execute_result"
    }
   ],
   "source": [
    "tf.math.argmin(ex_tensor3)"
   ]
  },
  {
   "cell_type": "code",
   "execution_count": 277,
   "id": "b5eec370-fd88-42ce-8ee7-0711543682bd",
   "metadata": {},
   "outputs": [
    {
     "data": {
      "text/plain": [
       "<tf.Tensor: shape=(), dtype=float32, numpy=0.99999654>"
      ]
     },
     "execution_count": 277,
     "metadata": {},
     "output_type": "execute_result"
    }
   ],
   "source": [
    "tf.reduce_max(ex_tensor3)"
   ]
  },
  {
   "cell_type": "code",
   "execution_count": 258,
   "id": "304c476e-ba0e-433a-acff-bba0779f5381",
   "metadata": {},
   "outputs": [
    {
     "data": {
      "text/plain": [
       "<tf.Tensor: shape=(224, 3), dtype=int64, numpy=\n",
       "array([[184,  72, 150],\n",
       "       [  6,  74,   4],\n",
       "       [ 47, 179,  11],\n",
       "       [ 85, 116,  58],\n",
       "       [198,  82, 128],\n",
       "       [192, 140, 157],\n",
       "       [ 11,  44,  93],\n",
       "       [ 43, 207,  56],\n",
       "       [164,  66, 126],\n",
       "       [ 53, 175, 196],\n",
       "       [133, 152, 201],\n",
       "       [140,  36,  27],\n",
       "       [171,   9, 222],\n",
       "       [ 43, 165, 124],\n",
       "       [ 76, 150, 171],\n",
       "       [187, 217,  97],\n",
       "       [ 82,   2, 121],\n",
       "       [211, 193, 128],\n",
       "       [200, 163,  21],\n",
       "       [206,  35,   6],\n",
       "       [220, 168,  85],\n",
       "       [107, 147,   3],\n",
       "       [161,  29,  52],\n",
       "       [223,  33, 207],\n",
       "       [138,  12, 113],\n",
       "       [139,  31, 148],\n",
       "       [156, 136,  18],\n",
       "       [ 61, 175, 106],\n",
       "       [ 96, 126,  71],\n",
       "       [ 19,  42,  36],\n",
       "       [174, 158, 140],\n",
       "       [178,   0,  57],\n",
       "       [ 44,  27, 154],\n",
       "       [163, 211, 154],\n",
       "       [133, 201, 128],\n",
       "       [136,  25, 124],\n",
       "       [196, 151,  96],\n",
       "       [102, 188,  71],\n",
       "       [ 38,  22, 129],\n",
       "       [184,  56,  73],\n",
       "       [104,   5,  15],\n",
       "       [  6,  40, 126],\n",
       "       [ 71,  39,  90],\n",
       "       [128, 203, 173],\n",
       "       [ 41,  87,  63],\n",
       "       [167,  48,  51],\n",
       "       [ 12, 206,  47],\n",
       "       [ 52, 180,  99],\n",
       "       [ 85,  46,  56],\n",
       "       [214,  43, 103],\n",
       "       [138,  33,  34],\n",
       "       [ 57, 112, 101],\n",
       "       [124, 115,  57],\n",
       "       [ 39, 102,  88],\n",
       "       [ 69, 135,  90],\n",
       "       [220, 148, 146],\n",
       "       [ 85, 128, 195],\n",
       "       [ 12, 154,  31],\n",
       "       [142,  79, 168],\n",
       "       [ 57,  70,  65],\n",
       "       [183, 157, 218],\n",
       "       [123, 184, 170],\n",
       "       [ 46,  74, 130],\n",
       "       [205, 176,  64],\n",
       "       [201,  32, 125],\n",
       "       [ 36,   4, 111],\n",
       "       [119,  70,  77],\n",
       "       [111,  99, 216],\n",
       "       [149, 203, 114],\n",
       "       [166,  50, 141],\n",
       "       [ 18,  60, 153],\n",
       "       [212, 192, 217],\n",
       "       [ 97,  85,  37],\n",
       "       [208, 125, 178],\n",
       "       [127,  15, 214],\n",
       "       [198, 120, 170],\n",
       "       [ 47, 179,  75],\n",
       "       [ 35, 216,  97],\n",
       "       [ 96, 120, 162],\n",
       "       [ 11,  62,   2],\n",
       "       [ 17,  43,  70],\n",
       "       [ 25, 139,  73],\n",
       "       [ 37, 128,  87],\n",
       "       [180, 174, 194],\n",
       "       [128,  22,  99],\n",
       "       [178,  70,  54],\n",
       "       [211,  23, 223],\n",
       "       [ 25, 217, 201],\n",
       "       [172, 177,   7],\n",
       "       [172,  33,  30],\n",
       "       [214, 176, 101],\n",
       "       [ 19,  10, 158],\n",
       "       [ 98, 211,  74],\n",
       "       [ 41,  83, 182],\n",
       "       [ 27, 185,  96],\n",
       "       [195, 138, 182],\n",
       "       [105, 129, 122],\n",
       "       [223,  71,  23],\n",
       "       [ 40,  14, 195],\n",
       "       [222, 179,  35],\n",
       "       [  7, 222, 125],\n",
       "       [206, 181,  84],\n",
       "       [105,  28,  13],\n",
       "       [223, 147, 114],\n",
       "       [110, 146,  78],\n",
       "       [174, 204, 167],\n",
       "       [ 21,  18,  57],\n",
       "       [ 66, 124, 197],\n",
       "       [183, 223,   6],\n",
       "       [ 63, 148,  99],\n",
       "       [110, 166, 148],\n",
       "       [  8, 213, 156],\n",
       "       [  1,  75, 111],\n",
       "       [ 24, 212, 120],\n",
       "       [ 14, 179,  52],\n",
       "       [179,  26, 171],\n",
       "       [ 37, 157, 136],\n",
       "       [202, 146,  47],\n",
       "       [210,  75, 167],\n",
       "       [ 45,  98, 113],\n",
       "       [156,  83, 162],\n",
       "       [ 10, 167, 206],\n",
       "       [222, 118,  44],\n",
       "       [141, 173,  39],\n",
       "       [192,  61,  78],\n",
       "       [179,  40,  14],\n",
       "       [ 81, 204, 203],\n",
       "       [ 64, 121, 128],\n",
       "       [ 13,  11,  98],\n",
       "       [135, 145, 161],\n",
       "       [150, 204,  11],\n",
       "       [ 31,   1, 203],\n",
       "       [104, 138,  33],\n",
       "       [ 30, 198, 162],\n",
       "       [180, 201,  18],\n",
       "       [191, 206,  49],\n",
       "       [177, 135,  91],\n",
       "       [ 86, 125, 193],\n",
       "       [ 15, 190,  45],\n",
       "       [ 28,  49,  55],\n",
       "       [192,  32,  73],\n",
       "       [179, 133, 142],\n",
       "       [141,   7, 115],\n",
       "       [ 41,  78,  24],\n",
       "       [ 40, 161,  55],\n",
       "       [207,  85,  80],\n",
       "       [181, 115,  47],\n",
       "       [166,  87,  31],\n",
       "       [ 22, 182,  31],\n",
       "       [166, 159, 188],\n",
       "       [  2, 153,   1],\n",
       "       [115, 198,  59],\n",
       "       [143,  74, 160],\n",
       "       [212, 133,  35],\n",
       "       [134,  28, 147],\n",
       "       [171, 118, 100],\n",
       "       [184, 143, 198],\n",
       "       [ 53, 195,  61],\n",
       "       [ 75,  29,   3],\n",
       "       [188,   7, 163],\n",
       "       [126,  57,  84],\n",
       "       [  5,  45,  46],\n",
       "       [101, 100,  84],\n",
       "       [  5, 196, 210],\n",
       "       [223, 186, 172],\n",
       "       [140, 162,  15],\n",
       "       [152, 210,  10],\n",
       "       [ 73,  49,  92],\n",
       "       [  0,  57,  10],\n",
       "       [159,  17, 117],\n",
       "       [176, 166, 202],\n",
       "       [129,  40,   9],\n",
       "       [217,  65, 130],\n",
       "       [116, 129, 184],\n",
       "       [ 50, 149,  74],\n",
       "       [ 86, 178, 186],\n",
       "       [  0, 213,  59],\n",
       "       [161,  58, 170],\n",
       "       [105,  14, 127],\n",
       "       [176, 196, 187],\n",
       "       [115, 102, 131],\n",
       "       [194,  95,  23],\n",
       "       [ 38, 213, 121],\n",
       "       [100, 152,  76],\n",
       "       [127,  96, 219],\n",
       "       [138, 164, 159],\n",
       "       [ 89,  85, 213],\n",
       "       [211, 151,   5],\n",
       "       [ 40,  77,  12],\n",
       "       [114, 111, 123],\n",
       "       [177, 154,  54],\n",
       "       [178, 143, 144],\n",
       "       [ 65,  90, 103],\n",
       "       [140, 120,  98],\n",
       "       [ 63,  38,  85],\n",
       "       [137, 108, 140],\n",
       "       [166, 172, 215],\n",
       "       [191, 158,   4],\n",
       "       [130, 134, 174],\n",
       "       [119, 136, 111],\n",
       "       [ 28, 194, 175],\n",
       "       [138,  56,  37],\n",
       "       [ 45, 223, 157],\n",
       "       [ 80, 202,  39],\n",
       "       [  6,  55,  42],\n",
       "       [116,  39, 220],\n",
       "       [215, 176,   2],\n",
       "       [ 32,  27,  46],\n",
       "       [ 77,   8,  35],\n",
       "       [189, 220,  41],\n",
       "       [124, 105, 158],\n",
       "       [ 35, 167, 178],\n",
       "       [175,  85,  52],\n",
       "       [152, 131, 164],\n",
       "       [ 83,  42, 199],\n",
       "       [107, 123, 121],\n",
       "       [ 41,  52,  40],\n",
       "       [ 26,  60, 205],\n",
       "       [214, 140, 221],\n",
       "       [150, 146,  15],\n",
       "       [ 60,  68, 221],\n",
       "       [188,  84, 172],\n",
       "       [200,  49, 128],\n",
       "       [101,  36,  31]])>"
      ]
     },
     "execution_count": 258,
     "metadata": {},
     "output_type": "execute_result"
    }
   ],
   "source": [
    "tf.math.argmax(ex_tensor3)"
   ]
  },
  {
   "cell_type": "markdown",
   "id": "4a7ae727-06b0-47c0-a8ee-e8c48822edb0",
   "metadata": {},
   "source": [
    "8. Created a tensor with random values of shape [1, 224, 224, 3] then squeeze it to change the shape to [224, 224, 3]."
   ]
  },
  {
   "cell_type": "code",
   "execution_count": 259,
   "id": "42fbe457-d5fe-4b4c-9070-ca936beb92cf",
   "metadata": {},
   "outputs": [],
   "source": [
    "ex_tensor4 = tf.random.uniform(shape = [1, 224, 224, 3])"
   ]
  },
  {
   "cell_type": "code",
   "execution_count": 260,
   "id": "d608477c-f603-4a0f-9060-4d5c03324959",
   "metadata": {},
   "outputs": [
    {
     "data": {
      "text/plain": [
       "<tf.Tensor: shape=(1, 224, 224, 3), dtype=float32, numpy=\n",
       "array([[[[0.02866328, 0.2507794 , 0.002689  ],\n",
       "         [0.19168532, 0.42840004, 0.2519921 ],\n",
       "         [0.4648975 , 0.59043145, 0.05508101],\n",
       "         ...,\n",
       "         [0.888669  , 0.83945537, 0.8281572 ],\n",
       "         [0.19150293, 0.893674  , 0.9514446 ],\n",
       "         [0.3176663 , 0.24304628, 0.04342258]],\n",
       "\n",
       "        [[0.3677417 , 0.51699364, 0.65426743],\n",
       "         [0.06444144, 0.7819259 , 0.52699375],\n",
       "         [0.21994984, 0.21415746, 0.6586517 ],\n",
       "         ...,\n",
       "         [0.46270788, 0.23782086, 0.58373606],\n",
       "         [0.7695863 , 0.93288875, 0.06555784],\n",
       "         [0.5962955 , 0.5740706 , 0.9934752 ]],\n",
       "\n",
       "        [[0.96053195, 0.30053437, 0.8458246 ],\n",
       "         [0.38486123, 0.6588348 , 0.08408225],\n",
       "         [0.19266343, 0.70268023, 0.21531463],\n",
       "         ...,\n",
       "         [0.1396352 , 0.84044325, 0.31729698],\n",
       "         [0.9671625 , 0.60597694, 0.9017806 ],\n",
       "         [0.6013273 , 0.60185575, 0.5133368 ]],\n",
       "\n",
       "        ...,\n",
       "\n",
       "        [[0.7982224 , 0.6527921 , 0.38077664],\n",
       "         [0.8779464 , 0.92010033, 0.1788739 ],\n",
       "         [0.5670512 , 0.68227124, 0.52028537],\n",
       "         ...,\n",
       "         [0.82711697, 0.06620979, 0.5770097 ],\n",
       "         [0.13744855, 0.49893665, 0.11202121],\n",
       "         [0.22369242, 0.52697456, 0.9027264 ]],\n",
       "\n",
       "        [[0.8919469 , 0.5289972 , 0.10196364],\n",
       "         [0.34175432, 0.79246783, 0.616403  ],\n",
       "         [0.55753005, 0.7361293 , 0.40873408],\n",
       "         ...,\n",
       "         [0.04283905, 0.09045386, 0.58817923],\n",
       "         [0.644341  , 0.7244284 , 0.5836141 ],\n",
       "         [0.6749538 , 0.73329914, 0.13873374]],\n",
       "\n",
       "        [[0.3576331 , 0.4040854 , 0.34437752],\n",
       "         [0.9672662 , 0.6286963 , 0.7436414 ],\n",
       "         [0.66993403, 0.25308597, 0.5132164 ],\n",
       "         ...,\n",
       "         [0.28196406, 0.93868864, 0.02246928],\n",
       "         [0.29387534, 0.23804319, 0.40798593],\n",
       "         [0.19349682, 0.2834338 , 0.18385553]]]], dtype=float32)>"
      ]
     },
     "execution_count": 260,
     "metadata": {},
     "output_type": "execute_result"
    }
   ],
   "source": [
    "ex_tensor4"
   ]
  },
  {
   "cell_type": "code",
   "execution_count": 261,
   "id": "51b9f950-8950-49be-868d-568e5cfa8d9e",
   "metadata": {},
   "outputs": [],
   "source": [
    "ex_tensor4_sq = tf.squeeze(ex_tensor4)"
   ]
  },
  {
   "cell_type": "code",
   "execution_count": 263,
   "id": "51a1992c-0635-4a61-a5f4-ac63cf7935a6",
   "metadata": {},
   "outputs": [
    {
     "data": {
      "text/plain": [
       "<tf.Tensor: shape=(224, 224, 3), dtype=float32, numpy=\n",
       "array([[[0.02866328, 0.2507794 , 0.002689  ],\n",
       "        [0.19168532, 0.42840004, 0.2519921 ],\n",
       "        [0.4648975 , 0.59043145, 0.05508101],\n",
       "        ...,\n",
       "        [0.888669  , 0.83945537, 0.8281572 ],\n",
       "        [0.19150293, 0.893674  , 0.9514446 ],\n",
       "        [0.3176663 , 0.24304628, 0.04342258]],\n",
       "\n",
       "       [[0.3677417 , 0.51699364, 0.65426743],\n",
       "        [0.06444144, 0.7819259 , 0.52699375],\n",
       "        [0.21994984, 0.21415746, 0.6586517 ],\n",
       "        ...,\n",
       "        [0.46270788, 0.23782086, 0.58373606],\n",
       "        [0.7695863 , 0.93288875, 0.06555784],\n",
       "        [0.5962955 , 0.5740706 , 0.9934752 ]],\n",
       "\n",
       "       [[0.96053195, 0.30053437, 0.8458246 ],\n",
       "        [0.38486123, 0.6588348 , 0.08408225],\n",
       "        [0.19266343, 0.70268023, 0.21531463],\n",
       "        ...,\n",
       "        [0.1396352 , 0.84044325, 0.31729698],\n",
       "        [0.9671625 , 0.60597694, 0.9017806 ],\n",
       "        [0.6013273 , 0.60185575, 0.5133368 ]],\n",
       "\n",
       "       ...,\n",
       "\n",
       "       [[0.7982224 , 0.6527921 , 0.38077664],\n",
       "        [0.8779464 , 0.92010033, 0.1788739 ],\n",
       "        [0.5670512 , 0.68227124, 0.52028537],\n",
       "        ...,\n",
       "        [0.82711697, 0.06620979, 0.5770097 ],\n",
       "        [0.13744855, 0.49893665, 0.11202121],\n",
       "        [0.22369242, 0.52697456, 0.9027264 ]],\n",
       "\n",
       "       [[0.8919469 , 0.5289972 , 0.10196364],\n",
       "        [0.34175432, 0.79246783, 0.616403  ],\n",
       "        [0.55753005, 0.7361293 , 0.40873408],\n",
       "        ...,\n",
       "        [0.04283905, 0.09045386, 0.58817923],\n",
       "        [0.644341  , 0.7244284 , 0.5836141 ],\n",
       "        [0.6749538 , 0.73329914, 0.13873374]],\n",
       "\n",
       "       [[0.3576331 , 0.4040854 , 0.34437752],\n",
       "        [0.9672662 , 0.6286963 , 0.7436414 ],\n",
       "        [0.66993403, 0.25308597, 0.5132164 ],\n",
       "        ...,\n",
       "        [0.28196406, 0.93868864, 0.02246928],\n",
       "        [0.29387534, 0.23804319, 0.40798593],\n",
       "        [0.19349682, 0.2834338 , 0.18385553]]], dtype=float32)>"
      ]
     },
     "execution_count": 263,
     "metadata": {},
     "output_type": "execute_result"
    }
   ],
   "source": [
    "ex_tensor4_sq"
   ]
  },
  {
   "cell_type": "markdown",
   "id": "313134d5-ad2a-48c7-97e9-d207f01edb2e",
   "metadata": {},
   "source": [
    "9. Create a tensor with shape [10] using your own choice of values, then find the index which has the maximum value."
   ]
  },
  {
   "cell_type": "code",
   "execution_count": 273,
   "id": "4ac95764-966f-4970-abd6-b9db0cdee9f4",
   "metadata": {},
   "outputs": [],
   "source": [
    "ex_tensor5 = tf.constant([8, 9, 0, 1, 2, 3, 4, 5, 6, 7])"
   ]
  },
  {
   "cell_type": "code",
   "execution_count": 274,
   "id": "a0d74312-d9f5-41e0-ad23-48a71824ac6f",
   "metadata": {},
   "outputs": [
    {
     "data": {
      "text/plain": [
       "<tf.Tensor: shape=(), dtype=int64, numpy=1>"
      ]
     },
     "execution_count": 274,
     "metadata": {},
     "output_type": "execute_result"
    }
   ],
   "source": [
    "tf.argmax(ex_tensor5)"
   ]
  },
  {
   "cell_type": "markdown",
   "id": "e86f169e-be86-4233-b6f5-30c97eb55f4a",
   "metadata": {},
   "source": [
    "10. One-hot encode the tensor you created in 9."
   ]
  },
  {
   "cell_type": "code",
   "execution_count": 275,
   "id": "95ac68e5-13a1-4dcb-a243-1e32910b55b3",
   "metadata": {},
   "outputs": [
    {
     "data": {
      "text/plain": [
       "<tf.Tensor: shape=(10, 10), dtype=float32, numpy=\n",
       "array([[0., 0., 0., 0., 0., 0., 0., 0., 1., 0.],\n",
       "       [0., 0., 0., 0., 0., 0., 0., 0., 0., 1.],\n",
       "       [1., 0., 0., 0., 0., 0., 0., 0., 0., 0.],\n",
       "       [0., 1., 0., 0., 0., 0., 0., 0., 0., 0.],\n",
       "       [0., 0., 1., 0., 0., 0., 0., 0., 0., 0.],\n",
       "       [0., 0., 0., 1., 0., 0., 0., 0., 0., 0.],\n",
       "       [0., 0., 0., 0., 1., 0., 0., 0., 0., 0.],\n",
       "       [0., 0., 0., 0., 0., 1., 0., 0., 0., 0.],\n",
       "       [0., 0., 0., 0., 0., 0., 1., 0., 0., 0.],\n",
       "       [0., 0., 0., 0., 0., 0., 0., 1., 0., 0.]], dtype=float32)>"
      ]
     },
     "execution_count": 275,
     "metadata": {},
     "output_type": "execute_result"
    }
   ],
   "source": [
    "tf.one_hot(ex_tensor5, depth = len(ex_tensor5))"
   ]
  }
 ],
 "metadata": {
  "kernelspec": {
   "display_name": "Python 3 (ipykernel)",
   "language": "python",
   "name": "python3"
  },
  "language_info": {
   "codemirror_mode": {
    "name": "ipython",
    "version": 3
   },
   "file_extension": ".py",
   "mimetype": "text/x-python",
   "name": "python",
   "nbconvert_exporter": "python",
   "pygments_lexer": "ipython3",
   "version": "3.9.19"
  }
 },
 "nbformat": 4,
 "nbformat_minor": 5
}
