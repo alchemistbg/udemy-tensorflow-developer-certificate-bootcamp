{
 "cells": [
  {
   "cell_type": "markdown",
   "id": "8f76aa6b-4133-44cc-aa8f-aba1850660d4",
   "metadata": {},
   "source": [
    "# **Introduction to TensorFlow**"
   ]
  },
  {
   "cell_type": "markdown",
   "id": "27953169-7241-4e3f-9326-abceceebedd2",
   "metadata": {},
   "source": [
    "## **Creating tensors**"
   ]
  },
  {
   "cell_type": "markdown",
   "id": "f0bb88d7-6cff-480c-8d8a-e7858a93cb6c",
   "metadata": {},
   "source": [
    "#### **Using tf.constant()**"
   ]
  },
  {
   "cell_type": "code",
   "execution_count": 1,
   "id": "e3e4cae3-a424-45b2-a756-a31756d50800",
   "metadata": {},
   "outputs": [
    {
     "name": "stderr",
     "output_type": "stream",
     "text": [
      "2024-06-30 18:30:58.384304: I tensorflow/stream_executor/platform/default/dso_loader.cc:49] Successfully opened dynamic library libcudart.so.10.1\n"
     ]
    },
    {
     "name": "stdout",
     "output_type": "stream",
     "text": [
      "2.4.1\n"
     ]
    }
   ],
   "source": [
    "import numpy as np\n",
    "import pandas as pd\n",
    "import tensorflow as tf\n",
    "print(tf.__version__)"
   ]
  },
  {
   "cell_type": "code",
   "execution_count": 2,
   "id": "2d46079e-ba75-4969-b15e-ccb1f36257b5",
   "metadata": {},
   "outputs": [
    {
     "name": "stderr",
     "output_type": "stream",
     "text": [
      "2024-06-30 18:30:59.783659: I tensorflow/compiler/jit/xla_cpu_device.cc:41] Not creating XLA devices, tf_xla_enable_xla_devices not set\n",
      "2024-06-30 18:30:59.785048: I tensorflow/stream_executor/platform/default/dso_loader.cc:49] Successfully opened dynamic library libcuda.so.1\n",
      "2024-06-30 18:30:59.976387: E tensorflow/stream_executor/cuda/cuda_gpu_executor.cc:927] could not open file to read NUMA node: /sys/bus/pci/devices/0000:01:00.0/numa_node\n",
      "Your kernel may have been built without NUMA support.\n",
      "2024-06-30 18:30:59.976496: I tensorflow/core/common_runtime/gpu/gpu_device.cc:1720] Found device 0 with properties: \n",
      "pciBusID: 0000:01:00.0 name: NVIDIA GeForce RTX 3060 computeCapability: 8.6\n",
      "coreClock: 1.837GHz coreCount: 28 deviceMemorySize: 12.00GiB deviceMemoryBandwidth: 335.32GiB/s\n",
      "2024-06-30 18:30:59.976526: I tensorflow/stream_executor/platform/default/dso_loader.cc:49] Successfully opened dynamic library libcudart.so.10.1\n",
      "2024-06-30 18:30:59.986429: I tensorflow/stream_executor/platform/default/dso_loader.cc:49] Successfully opened dynamic library libcublas.so.10\n",
      "2024-06-30 18:30:59.986464: I tensorflow/stream_executor/platform/default/dso_loader.cc:49] Successfully opened dynamic library libcublasLt.so.10\n",
      "2024-06-30 18:30:59.996009: I tensorflow/stream_executor/platform/default/dso_loader.cc:49] Successfully opened dynamic library libcufft.so.10\n",
      "2024-06-30 18:30:59.998337: I tensorflow/stream_executor/platform/default/dso_loader.cc:49] Successfully opened dynamic library libcurand.so.10\n",
      "2024-06-30 18:31:00.009991: I tensorflow/stream_executor/platform/default/dso_loader.cc:49] Successfully opened dynamic library libcusolver.so.10\n",
      "2024-06-30 18:31:00.013866: I tensorflow/stream_executor/platform/default/dso_loader.cc:49] Successfully opened dynamic library libcusparse.so.10\n",
      "2024-06-30 18:31:00.030960: I tensorflow/stream_executor/platform/default/dso_loader.cc:49] Successfully opened dynamic library libcudnn.so.7\n",
      "2024-06-30 18:31:00.031104: E tensorflow/stream_executor/cuda/cuda_gpu_executor.cc:927] could not open file to read NUMA node: /sys/bus/pci/devices/0000:01:00.0/numa_node\n",
      "Your kernel may have been built without NUMA support.\n",
      "2024-06-30 18:31:00.031140: E tensorflow/stream_executor/cuda/cuda_gpu_executor.cc:927] could not open file to read NUMA node: /sys/bus/pci/devices/0000:01:00.0/numa_node\n",
      "Your kernel may have been built without NUMA support.\n",
      "2024-06-30 18:31:00.031198: I tensorflow/core/common_runtime/gpu/gpu_device.cc:1862] Adding visible gpu devices: 0\n",
      "2024-06-30 18:31:00.032586: I tensorflow/core/platform/cpu_feature_guard.cc:142] This TensorFlow binary is optimized with oneAPI Deep Neural Network Library (oneDNN) to use the following CPU instructions in performance-critical operations:  SSE4.1 SSE4.2 AVX AVX2 AVX512F FMA\n",
      "To enable them in other operations, rebuild TensorFlow with the appropriate compiler flags.\n",
      "2024-06-30 18:31:00.033913: I tensorflow/compiler/jit/xla_gpu_device.cc:99] Not creating XLA devices, tf_xla_enable_xla_devices not set\n",
      "2024-06-30 18:31:00.034032: E tensorflow/stream_executor/cuda/cuda_gpu_executor.cc:927] could not open file to read NUMA node: /sys/bus/pci/devices/0000:01:00.0/numa_node\n",
      "Your kernel may have been built without NUMA support.\n",
      "2024-06-30 18:31:00.034050: I tensorflow/core/common_runtime/gpu/gpu_device.cc:1720] Found device 0 with properties: \n",
      "pciBusID: 0000:01:00.0 name: NVIDIA GeForce RTX 3060 computeCapability: 8.6\n",
      "coreClock: 1.837GHz coreCount: 28 deviceMemorySize: 12.00GiB deviceMemoryBandwidth: 335.32GiB/s\n",
      "2024-06-30 18:31:00.034069: I tensorflow/stream_executor/platform/default/dso_loader.cc:49] Successfully opened dynamic library libcudart.so.10.1\n",
      "2024-06-30 18:31:00.034082: I tensorflow/stream_executor/platform/default/dso_loader.cc:49] Successfully opened dynamic library libcublas.so.10\n",
      "2024-06-30 18:31:00.034088: I tensorflow/stream_executor/platform/default/dso_loader.cc:49] Successfully opened dynamic library libcublasLt.so.10\n",
      "2024-06-30 18:31:00.034093: I tensorflow/stream_executor/platform/default/dso_loader.cc:49] Successfully opened dynamic library libcufft.so.10\n",
      "2024-06-30 18:31:00.034098: I tensorflow/stream_executor/platform/default/dso_loader.cc:49] Successfully opened dynamic library libcurand.so.10\n",
      "2024-06-30 18:31:00.034103: I tensorflow/stream_executor/platform/default/dso_loader.cc:49] Successfully opened dynamic library libcusolver.so.10\n",
      "2024-06-30 18:31:00.034108: I tensorflow/stream_executor/platform/default/dso_loader.cc:49] Successfully opened dynamic library libcusparse.so.10\n",
      "2024-06-30 18:31:00.034113: I tensorflow/stream_executor/platform/default/dso_loader.cc:49] Successfully opened dynamic library libcudnn.so.7\n",
      "2024-06-30 18:31:00.034138: E tensorflow/stream_executor/cuda/cuda_gpu_executor.cc:927] could not open file to read NUMA node: /sys/bus/pci/devices/0000:01:00.0/numa_node\n",
      "Your kernel may have been built without NUMA support.\n",
      "2024-06-30 18:31:00.034157: E tensorflow/stream_executor/cuda/cuda_gpu_executor.cc:927] could not open file to read NUMA node: /sys/bus/pci/devices/0000:01:00.0/numa_node\n",
      "Your kernel may have been built without NUMA support.\n",
      "2024-06-30 18:31:00.034160: I tensorflow/core/common_runtime/gpu/gpu_device.cc:1862] Adding visible gpu devices: 0\n",
      "2024-06-30 18:31:00.034223: I tensorflow/stream_executor/platform/default/dso_loader.cc:49] Successfully opened dynamic library libcudart.so.10.1\n",
      "2024-06-30 18:31:01.867108: I tensorflow/core/common_runtime/gpu/gpu_device.cc:1261] Device interconnect StreamExecutor with strength 1 edge matrix:\n",
      "2024-06-30 18:31:01.867148: I tensorflow/core/common_runtime/gpu/gpu_device.cc:1267]      0 \n",
      "2024-06-30 18:31:01.867180: I tensorflow/core/common_runtime/gpu/gpu_device.cc:1280] 0:   N \n",
      "2024-06-30 18:31:01.867731: E tensorflow/stream_executor/cuda/cuda_gpu_executor.cc:927] could not open file to read NUMA node: /sys/bus/pci/devices/0000:01:00.0/numa_node\n",
      "Your kernel may have been built without NUMA support.\n",
      "2024-06-30 18:31:01.867745: I tensorflow/core/common_runtime/gpu/gpu_device.cc:1489] Could not identify NUMA node of platform GPU id 0, defaulting to 0.  Your kernel may not have been built with NUMA support.\n",
      "2024-06-30 18:31:01.867807: E tensorflow/stream_executor/cuda/cuda_gpu_executor.cc:927] could not open file to read NUMA node: /sys/bus/pci/devices/0000:01:00.0/numa_node\n",
      "Your kernel may have been built without NUMA support.\n",
      "2024-06-30 18:31:01.867871: E tensorflow/stream_executor/cuda/cuda_gpu_executor.cc:927] could not open file to read NUMA node: /sys/bus/pci/devices/0000:01:00.0/numa_node\n",
      "Your kernel may have been built without NUMA support.\n",
      "2024-06-30 18:31:01.867960: I tensorflow/core/common_runtime/gpu/gpu_device.cc:1406] Created TensorFlow device (/job:localhost/replica:0/task:0/device:GPU:0 with 10436 MB memory) -> physical GPU (device: 0, name: NVIDIA GeForce RTX 3060, pci bus id: 0000:01:00.0, compute capability: 8.6)\n"
     ]
    }
   ],
   "source": [
    "scalar = tf.constant(7)"
   ]
  },
  {
   "cell_type": "code",
   "execution_count": 3,
   "id": "1982b92e-b9f9-48aa-9fd3-bf59991bd5e7",
   "metadata": {},
   "outputs": [
    {
     "data": {
      "text/plain": [
       "<tf.Tensor: shape=(), dtype=int32, numpy=7>"
      ]
     },
     "execution_count": 3,
     "metadata": {},
     "output_type": "execute_result"
    }
   ],
   "source": [
    "scalar"
   ]
  },
  {
   "cell_type": "code",
   "execution_count": 4,
   "id": "6cad468f-bdfe-4d6a-b0db-e8c2b41e8ac0",
   "metadata": {},
   "outputs": [
    {
     "data": {
      "text/plain": [
       "0"
      ]
     },
     "execution_count": 4,
     "metadata": {},
     "output_type": "execute_result"
    }
   ],
   "source": [
    "scalar.ndim"
   ]
  },
  {
   "cell_type": "code",
   "execution_count": 5,
   "id": "527305a9-06e5-4cea-bf9b-14da30bf6e25",
   "metadata": {},
   "outputs": [],
   "source": [
    "vector = tf.constant([42, 42])"
   ]
  },
  {
   "cell_type": "code",
   "execution_count": 6,
   "id": "4db81bcf-9bee-44e8-9c81-03733fcbf938",
   "metadata": {},
   "outputs": [
    {
     "data": {
      "text/plain": [
       "<tf.Tensor: shape=(2,), dtype=int32, numpy=array([42, 42], dtype=int32)>"
      ]
     },
     "execution_count": 6,
     "metadata": {},
     "output_type": "execute_result"
    }
   ],
   "source": [
    "vector"
   ]
  },
  {
   "cell_type": "code",
   "execution_count": 7,
   "id": "1902cbad-e193-4c22-9ca5-5787aa275bb6",
   "metadata": {},
   "outputs": [
    {
     "data": {
      "text/plain": [
       "1"
      ]
     },
     "execution_count": 7,
     "metadata": {},
     "output_type": "execute_result"
    }
   ],
   "source": [
    "vector.ndim"
   ]
  },
  {
   "cell_type": "code",
   "execution_count": 8,
   "id": "31fdb5c0-6ece-4f7f-89ce-eaedcd720fef",
   "metadata": {},
   "outputs": [],
   "source": [
    "matrix = tf.constant([[42, 24],\n",
    "                      [42, 24]])"
   ]
  },
  {
   "cell_type": "code",
   "execution_count": 9,
   "id": "0e8ba204-64a6-4f0b-9eef-1ac4dcdcdfe5",
   "metadata": {},
   "outputs": [
    {
     "data": {
      "text/plain": [
       "<tf.Tensor: shape=(2, 2), dtype=int32, numpy=\n",
       "array([[42, 24],\n",
       "       [42, 24]], dtype=int32)>"
      ]
     },
     "execution_count": 9,
     "metadata": {},
     "output_type": "execute_result"
    }
   ],
   "source": [
    "matrix"
   ]
  },
  {
   "cell_type": "code",
   "execution_count": 10,
   "id": "07671768-9b0a-4e8d-9c3a-ba97b2d21ea6",
   "metadata": {},
   "outputs": [
    {
     "data": {
      "text/plain": [
       "2"
      ]
     },
     "execution_count": 10,
     "metadata": {},
     "output_type": "execute_result"
    }
   ],
   "source": [
    "matrix.ndim"
   ]
  },
  {
   "cell_type": "code",
   "execution_count": 11,
   "id": "06f592ac-f328-4069-8e41-1c8dc325e882",
   "metadata": {},
   "outputs": [],
   "source": [
    "matrix_2 = tf.constant([[42, 24],\n",
    "                        [42, 24],\n",
    "                        [12, 21]], dtype = tf.float16)"
   ]
  },
  {
   "cell_type": "code",
   "execution_count": 12,
   "id": "872e195d-7e30-41f1-a38e-7a43ce1064f8",
   "metadata": {},
   "outputs": [
    {
     "data": {
      "text/plain": [
       "<tf.Tensor: shape=(3, 2), dtype=float16, numpy=\n",
       "array([[42., 24.],\n",
       "       [42., 24.],\n",
       "       [12., 21.]], dtype=float16)>"
      ]
     },
     "execution_count": 12,
     "metadata": {},
     "output_type": "execute_result"
    }
   ],
   "source": [
    "matrix_2"
   ]
  },
  {
   "cell_type": "code",
   "execution_count": 13,
   "id": "fa363f28-cb7c-45f6-94ec-8ef3d9b0f2f4",
   "metadata": {},
   "outputs": [
    {
     "data": {
      "text/plain": [
       "2"
      ]
     },
     "execution_count": 13,
     "metadata": {},
     "output_type": "execute_result"
    }
   ],
   "source": [
    "matrix_2.ndim"
   ]
  },
  {
   "cell_type": "code",
   "execution_count": 14,
   "id": "70255187-3511-46ff-9ea4-81841ef4fe96",
   "metadata": {},
   "outputs": [],
   "source": [
    "tensor = tf.constant([[[1, 2], [3, 4]],\n",
    "                      [[5, 6], [7, 8]],\n",
    "                      [[9, 10], [11, 12]]])"
   ]
  },
  {
   "cell_type": "code",
   "execution_count": 15,
   "id": "22342c9a-c91c-4974-b7f9-dcf03956f13d",
   "metadata": {},
   "outputs": [
    {
     "data": {
      "text/plain": [
       "<tf.Tensor: shape=(3, 2, 2), dtype=int32, numpy=\n",
       "array([[[ 1,  2],\n",
       "        [ 3,  4]],\n",
       "\n",
       "       [[ 5,  6],\n",
       "        [ 7,  8]],\n",
       "\n",
       "       [[ 9, 10],\n",
       "        [11, 12]]], dtype=int32)>"
      ]
     },
     "execution_count": 15,
     "metadata": {},
     "output_type": "execute_result"
    }
   ],
   "source": [
    "tensor"
   ]
  },
  {
   "cell_type": "code",
   "execution_count": 16,
   "id": "4807fc3d-48d0-465c-955b-7fe0909c643b",
   "metadata": {},
   "outputs": [
    {
     "data": {
      "text/plain": [
       "3"
      ]
     },
     "execution_count": 16,
     "metadata": {},
     "output_type": "execute_result"
    }
   ],
   "source": [
    "tensor.ndim"
   ]
  },
  {
   "cell_type": "markdown",
   "id": "379a1b22-a4e4-4ecf-9470-8da1a0c72520",
   "metadata": {},
   "source": [
    "#### **Using tf.variable()**"
   ]
  },
  {
   "cell_type": "code",
   "execution_count": 17,
   "id": "f931d064-89ae-4f5c-9df7-06a91aa6d5b6",
   "metadata": {},
   "outputs": [
    {
     "data": {
      "text/plain": [
       "<tf.Variable 'Variable:0' shape=(2,) dtype=int32, numpy=array([42, 24], dtype=int32)>"
      ]
     },
     "execution_count": 17,
     "metadata": {},
     "output_type": "execute_result"
    }
   ],
   "source": [
    "changeable_tensor = tf.Variable([42, 24])\n",
    "changeable_tensor"
   ]
  },
  {
   "cell_type": "code",
   "execution_count": 18,
   "id": "3f5732d4-e40c-4990-851d-28ea89a4d7ae",
   "metadata": {},
   "outputs": [
    {
     "data": {
      "text/plain": [
       "<tf.Tensor: shape=(2,), dtype=int32, numpy=array([42, 24], dtype=int32)>"
      ]
     },
     "execution_count": 18,
     "metadata": {},
     "output_type": "execute_result"
    }
   ],
   "source": [
    "unchangeable_tensor = tf.constant([42, 24])\n",
    "unchangeable_tensor"
   ]
  },
  {
   "cell_type": "code",
   "execution_count": 19,
   "id": "d9ee6b40-b8ec-4c8a-bbee-8b7c385377e3",
   "metadata": {},
   "outputs": [
    {
     "data": {
      "text/plain": [
       "<tf.Tensor: shape=(), dtype=int32, numpy=42>"
      ]
     },
     "execution_count": 19,
     "metadata": {},
     "output_type": "execute_result"
    }
   ],
   "source": [
    "changeable_tensor[0]"
   ]
  },
  {
   "cell_type": "code",
   "execution_count": 20,
   "id": "6c2f62f3-9672-4e90-85d9-e4b05c440390",
   "metadata": {},
   "outputs": [
    {
     "ename": "TypeError",
     "evalue": "'ResourceVariable' object does not support item assignment",
     "output_type": "error",
     "traceback": [
      "\u001b[0;31m---------------------------------------------------------------------------\u001b[0m",
      "\u001b[0;31mTypeError\u001b[0m                                 Traceback (most recent call last)",
      "Cell \u001b[0;32mIn[20], line 1\u001b[0m\n\u001b[0;32m----> 1\u001b[0m changeable_tensor[\u001b[38;5;241m0\u001b[39m] \u001b[38;5;241m=\u001b[39m \u001b[38;5;241m24\u001b[39m\n",
      "\u001b[0;31mTypeError\u001b[0m: 'ResourceVariable' object does not support item assignment"
     ]
    }
   ],
   "source": [
    "changeable_tensor[0] = 24"
   ]
  },
  {
   "cell_type": "code",
   "execution_count": 21,
   "id": "77ed592f-564c-4473-942b-74e2105dc707",
   "metadata": {},
   "outputs": [
    {
     "data": {
      "text/plain": [
       "<tf.Variable 'UnreadVariable' shape=(2,) dtype=int32, numpy=array([24, 24], dtype=int32)>"
      ]
     },
     "execution_count": 21,
     "metadata": {},
     "output_type": "execute_result"
    }
   ],
   "source": [
    "changeable_tensor[0].assign(24)"
   ]
  },
  {
   "cell_type": "code",
   "execution_count": 22,
   "id": "f0cafa71-e1f1-4d65-b13a-a55e4da7f081",
   "metadata": {},
   "outputs": [
    {
     "data": {
      "text/plain": [
       "<tf.Variable 'Variable:0' shape=(2,) dtype=int32, numpy=array([24, 24], dtype=int32)>"
      ]
     },
     "execution_count": 22,
     "metadata": {},
     "output_type": "execute_result"
    }
   ],
   "source": [
    "changeable_tensor"
   ]
  },
  {
   "cell_type": "code",
   "execution_count": 23,
   "id": "c8b17895-07e0-4216-81e0-50c9eed8f6a6",
   "metadata": {},
   "outputs": [
    {
     "data": {
      "text/plain": [
       "<tf.Tensor: shape=(), dtype=int32, numpy=42>"
      ]
     },
     "execution_count": 23,
     "metadata": {},
     "output_type": "execute_result"
    }
   ],
   "source": [
    "unchangeable_tensor[0]"
   ]
  },
  {
   "cell_type": "code",
   "execution_count": 24,
   "id": "b7ffa3c6-1671-4495-b02f-6ad987987fd4",
   "metadata": {},
   "outputs": [
    {
     "ename": "TypeError",
     "evalue": "'tensorflow.python.framework.ops.EagerTensor' object does not support item assignment",
     "output_type": "error",
     "traceback": [
      "\u001b[0;31m---------------------------------------------------------------------------\u001b[0m",
      "\u001b[0;31mTypeError\u001b[0m                                 Traceback (most recent call last)",
      "Cell \u001b[0;32mIn[24], line 1\u001b[0m\n\u001b[0;32m----> 1\u001b[0m unchangeable_tensor[\u001b[38;5;241m0\u001b[39m] \u001b[38;5;241m=\u001b[39m \u001b[38;5;241m24\u001b[39m\n",
      "\u001b[0;31mTypeError\u001b[0m: 'tensorflow.python.framework.ops.EagerTensor' object does not support item assignment"
     ]
    }
   ],
   "source": [
    "unchangeable_tensor[0] = 24    "
   ]
  },
  {
   "cell_type": "code",
   "execution_count": 25,
   "id": "a4a70c5f-0994-468d-8c0a-523bc7e6fcea",
   "metadata": {},
   "outputs": [
    {
     "ename": "AttributeError",
     "evalue": "'tensorflow.python.framework.ops.EagerTensor' object has no attribute 'assign'",
     "output_type": "error",
     "traceback": [
      "\u001b[0;31m---------------------------------------------------------------------------\u001b[0m",
      "\u001b[0;31mAttributeError\u001b[0m                            Traceback (most recent call last)",
      "Cell \u001b[0;32mIn[25], line 1\u001b[0m\n\u001b[0;32m----> 1\u001b[0m \u001b[43munchangeable_tensor\u001b[49m\u001b[43m[\u001b[49m\u001b[38;5;241;43m0\u001b[39;49m\u001b[43m]\u001b[49m\u001b[38;5;241;43m.\u001b[39;49m\u001b[43massign\u001b[49m(\u001b[38;5;241m24\u001b[39m)\n",
      "\u001b[0;31mAttributeError\u001b[0m: 'tensorflow.python.framework.ops.EagerTensor' object has no attribute 'assign'"
     ]
    }
   ],
   "source": [
    "unchangeable_tensor[0].assign(24)"
   ]
  },
  {
   "cell_type": "markdown",
   "id": "bf3ad5dc-0760-4ba9-9e9c-5b2d9e33abae",
   "metadata": {},
   "source": [
    "#### **Creating random tensors**"
   ]
  },
  {
   "cell_type": "code",
   "execution_count": 27,
   "id": "6338f24a-34c9-4c17-b82f-4f6784d2ea95",
   "metadata": {},
   "outputs": [],
   "source": [
    "random_1 = tf.random.Generator.from_seed(42)"
   ]
  },
  {
   "cell_type": "code",
   "execution_count": 28,
   "id": "29109e63-4edd-4b8b-92f8-9c40b7b8627e",
   "metadata": {},
   "outputs": [
    {
     "data": {
      "text/plain": [
       "<tensorflow.python.ops.stateful_random_ops.Generator at 0x7f3102d8dca0>"
      ]
     },
     "execution_count": 28,
     "metadata": {},
     "output_type": "execute_result"
    }
   ],
   "source": [
    "random_1"
   ]
  },
  {
   "cell_type": "code",
   "execution_count": 29,
   "id": "b5ae73c1-e817-4044-834a-a156e4136a49",
   "metadata": {},
   "outputs": [],
   "source": [
    "random_1 = random_1.normal(shape = (3, 2))"
   ]
  },
  {
   "cell_type": "code",
   "execution_count": 30,
   "id": "29fca8dc-9da2-49db-8e28-82b3633ca8d1",
   "metadata": {},
   "outputs": [
    {
     "data": {
      "text/plain": [
       "<tf.Tensor: shape=(3, 2), dtype=float32, numpy=\n",
       "array([[-0.7565803 , -0.06854702],\n",
       "       [ 0.07595026, -1.2573844 ],\n",
       "       [-0.23193765, -1.8107855 ]], dtype=float32)>"
      ]
     },
     "execution_count": 30,
     "metadata": {},
     "output_type": "execute_result"
    }
   ],
   "source": [
    "random_1"
   ]
  },
  {
   "cell_type": "code",
   "execution_count": 31,
   "id": "d5dd2007-1e87-42b3-9523-240db2c7bb41",
   "metadata": {},
   "outputs": [],
   "source": [
    "random_2 = tf.random.Generator.from_seed(42)"
   ]
  },
  {
   "cell_type": "code",
   "execution_count": 32,
   "id": "a862f82f-c932-4361-8373-92b2a8f2ee00",
   "metadata": {},
   "outputs": [
    {
     "data": {
      "text/plain": [
       "<tensorflow.python.ops.stateful_random_ops.Generator at 0x7f3102d8d640>"
      ]
     },
     "execution_count": 32,
     "metadata": {},
     "output_type": "execute_result"
    }
   ],
   "source": [
    "random_2"
   ]
  },
  {
   "cell_type": "code",
   "execution_count": 33,
   "id": "d08e99a2-18fc-4917-8f06-508ccdd567c1",
   "metadata": {},
   "outputs": [],
   "source": [
    "random_2 = random_2.normal(shape = (3, 2))"
   ]
  },
  {
   "cell_type": "code",
   "execution_count": 34,
   "id": "0c530260-155a-4fb7-bb31-69d007948cf6",
   "metadata": {},
   "outputs": [
    {
     "data": {
      "text/plain": [
       "<tf.Tensor: shape=(3, 2), dtype=float32, numpy=\n",
       "array([[-0.7565803 , -0.06854702],\n",
       "       [ 0.07595026, -1.2573844 ],\n",
       "       [-0.23193765, -1.8107855 ]], dtype=float32)>"
      ]
     },
     "execution_count": 34,
     "metadata": {},
     "output_type": "execute_result"
    }
   ],
   "source": [
    "random_2"
   ]
  },
  {
   "cell_type": "code",
   "execution_count": 35,
   "id": "7e3708ec-75c3-435b-8d08-59708eb572a6",
   "metadata": {},
   "outputs": [
    {
     "data": {
      "text/plain": [
       "<tf.Tensor: shape=(3, 2), dtype=bool, numpy=\n",
       "array([[ True,  True],\n",
       "       [ True,  True],\n",
       "       [ True,  True]])>"
      ]
     },
     "execution_count": 35,
     "metadata": {},
     "output_type": "execute_result"
    }
   ],
   "source": [
    "random_1 == random_2"
   ]
  },
  {
   "cell_type": "code",
   "execution_count": 36,
   "id": "08e143de-9a62-4174-b964-f18389960831",
   "metadata": {},
   "outputs": [
    {
     "data": {
      "text/plain": [
       "<tf.Tensor: shape=(3, 2), dtype=float32, numpy=\n",
       "array([[-0.23193765, -1.8107855 ],\n",
       "       [-0.7565803 , -0.06854702],\n",
       "       [ 0.07595026, -1.2573844 ]], dtype=float32)>"
      ]
     },
     "execution_count": 36,
     "metadata": {},
     "output_type": "execute_result"
    }
   ],
   "source": [
    "tf.random.set_seed(42)\n",
    "tf.random.shuffle(random_1, seed = 24)"
   ]
  },
  {
   "cell_type": "markdown",
   "id": "cf689d3e-ec45-45a5-a377-1950daecf2f3",
   "metadata": {},
   "source": [
    "#### **Create tensors using numpy arrays and pandas dataframes**"
   ]
  },
  {
   "cell_type": "code",
   "execution_count": 37,
   "id": "fb644554-ec1b-4345-94cb-597139559b79",
   "metadata": {},
   "outputs": [
    {
     "data": {
      "text/plain": [
       "<tf.Tensor: shape=(4, 2), dtype=int32, numpy=\n",
       "array([[1, 1],\n",
       "       [1, 1],\n",
       "       [1, 1],\n",
       "       [1, 1]], dtype=int32)>"
      ]
     },
     "execution_count": 37,
     "metadata": {},
     "output_type": "execute_result"
    }
   ],
   "source": [
    "tf.ones(shape = (4, 2), dtype = 'int32')"
   ]
  },
  {
   "cell_type": "code",
   "execution_count": 38,
   "id": "a0e76de6-ba8f-473c-9f0b-d7c8b7e3f348",
   "metadata": {},
   "outputs": [
    {
     "data": {
      "text/plain": [
       "<tf.Tensor: shape=(4, 2), dtype=int32, numpy=\n",
       "array([[0, 0],\n",
       "       [0, 0],\n",
       "       [0, 0],\n",
       "       [0, 0]], dtype=int32)>"
      ]
     },
     "execution_count": 38,
     "metadata": {},
     "output_type": "execute_result"
    }
   ],
   "source": [
    "tf.zeros(shape = (4, 2), dtype = 'int32')"
   ]
  },
  {
   "cell_type": "code",
   "execution_count": 39,
   "id": "416d76c3-a182-4987-853f-d06a8d7d51db",
   "metadata": {},
   "outputs": [],
   "source": [
    "numpy_A = np.arange(1, 25, dtype = np.int32)"
   ]
  },
  {
   "cell_type": "code",
   "execution_count": 40,
   "id": "4bb78a8b-710e-44e9-9ef4-681fc158a988",
   "metadata": {},
   "outputs": [
    {
     "data": {
      "text/plain": [
       "array([ 1,  2,  3,  4,  5,  6,  7,  8,  9, 10, 11, 12, 13, 14, 15, 16, 17,\n",
       "       18, 19, 20, 21, 22, 23, 24], dtype=int32)"
      ]
     },
     "execution_count": 40,
     "metadata": {},
     "output_type": "execute_result"
    }
   ],
   "source": [
    "numpy_A"
   ]
  },
  {
   "cell_type": "code",
   "execution_count": 41,
   "id": "b2f8ba9c-f425-43e5-9e5f-3869c6ae2b93",
   "metadata": {},
   "outputs": [],
   "source": [
    "numpy_A = numpy_A.reshape((4, 6))"
   ]
  },
  {
   "cell_type": "code",
   "execution_count": 42,
   "id": "3e614c1e-b32a-460a-881f-8ea1a82392a4",
   "metadata": {},
   "outputs": [],
   "source": [
    "n_A = tf.constant(numpy_A)"
   ]
  },
  {
   "cell_type": "code",
   "execution_count": 43,
   "id": "6199afb4-d9c2-4d5d-9656-cd1ea6266691",
   "metadata": {},
   "outputs": [
    {
     "data": {
      "text/plain": [
       "<tf.Tensor: shape=(4, 6), dtype=int32, numpy=\n",
       "array([[ 1,  2,  3,  4,  5,  6],\n",
       "       [ 7,  8,  9, 10, 11, 12],\n",
       "       [13, 14, 15, 16, 17, 18],\n",
       "       [19, 20, 21, 22, 23, 24]], dtype=int32)>"
      ]
     },
     "execution_count": 43,
     "metadata": {},
     "output_type": "execute_result"
    }
   ],
   "source": [
    "n_A"
   ]
  },
  {
   "cell_type": "code",
   "execution_count": 44,
   "id": "30539bd0-f1bb-49af-8913-54511087debf",
   "metadata": {},
   "outputs": [],
   "source": [
    "n_B = tf.constant(numpy_A, shape = (2, 3, 4))"
   ]
  },
  {
   "cell_type": "code",
   "execution_count": 45,
   "id": "97ede666-943f-4a63-9d00-152169d0d1e2",
   "metadata": {},
   "outputs": [
    {
     "data": {
      "text/plain": [
       "<tf.Tensor: shape=(2, 3, 4), dtype=int32, numpy=\n",
       "array([[[ 1,  2,  3,  4],\n",
       "        [ 5,  6,  7,  8],\n",
       "        [ 9, 10, 11, 12]],\n",
       "\n",
       "       [[13, 14, 15, 16],\n",
       "        [17, 18, 19, 20],\n",
       "        [21, 22, 23, 24]]], dtype=int32)>"
      ]
     },
     "execution_count": 45,
     "metadata": {},
     "output_type": "execute_result"
    }
   ],
   "source": [
    "n_B"
   ]
  },
  {
   "cell_type": "code",
   "execution_count": 46,
   "id": "ca31689d-908c-4bb3-886f-5264a179f42d",
   "metadata": {},
   "outputs": [],
   "source": [
    "pandas_A = pd.DataFrame(numpy_A)"
   ]
  },
  {
   "cell_type": "code",
   "execution_count": 47,
   "id": "1538ea45-546d-467c-acda-d498620b6164",
   "metadata": {},
   "outputs": [
    {
     "data": {
      "text/html": [
       "<div>\n",
       "<style scoped>\n",
       "    .dataframe tbody tr th:only-of-type {\n",
       "        vertical-align: middle;\n",
       "    }\n",
       "\n",
       "    .dataframe tbody tr th {\n",
       "        vertical-align: top;\n",
       "    }\n",
       "\n",
       "    .dataframe thead th {\n",
       "        text-align: right;\n",
       "    }\n",
       "</style>\n",
       "<table border=\"1\" class=\"dataframe\">\n",
       "  <thead>\n",
       "    <tr style=\"text-align: right;\">\n",
       "      <th></th>\n",
       "      <th>0</th>\n",
       "      <th>1</th>\n",
       "      <th>2</th>\n",
       "      <th>3</th>\n",
       "      <th>4</th>\n",
       "      <th>5</th>\n",
       "    </tr>\n",
       "  </thead>\n",
       "  <tbody>\n",
       "    <tr>\n",
       "      <th>0</th>\n",
       "      <td>1</td>\n",
       "      <td>2</td>\n",
       "      <td>3</td>\n",
       "      <td>4</td>\n",
       "      <td>5</td>\n",
       "      <td>6</td>\n",
       "    </tr>\n",
       "    <tr>\n",
       "      <th>1</th>\n",
       "      <td>7</td>\n",
       "      <td>8</td>\n",
       "      <td>9</td>\n",
       "      <td>10</td>\n",
       "      <td>11</td>\n",
       "      <td>12</td>\n",
       "    </tr>\n",
       "    <tr>\n",
       "      <th>2</th>\n",
       "      <td>13</td>\n",
       "      <td>14</td>\n",
       "      <td>15</td>\n",
       "      <td>16</td>\n",
       "      <td>17</td>\n",
       "      <td>18</td>\n",
       "    </tr>\n",
       "    <tr>\n",
       "      <th>3</th>\n",
       "      <td>19</td>\n",
       "      <td>20</td>\n",
       "      <td>21</td>\n",
       "      <td>22</td>\n",
       "      <td>23</td>\n",
       "      <td>24</td>\n",
       "    </tr>\n",
       "  </tbody>\n",
       "</table>\n",
       "</div>"
      ],
      "text/plain": [
       "    0   1   2   3   4   5\n",
       "0   1   2   3   4   5   6\n",
       "1   7   8   9  10  11  12\n",
       "2  13  14  15  16  17  18\n",
       "3  19  20  21  22  23  24"
      ]
     },
     "execution_count": 47,
     "metadata": {},
     "output_type": "execute_result"
    }
   ],
   "source": [
    "pandas_A"
   ]
  },
  {
   "cell_type": "code",
   "execution_count": 48,
   "id": "cfd78f62-9b3b-4c4e-8ebd-391604071d63",
   "metadata": {},
   "outputs": [],
   "source": [
    "p_A = tf.constant(pandas_A)"
   ]
  },
  {
   "cell_type": "code",
   "execution_count": 49,
   "id": "e03b62ab-b784-4d65-859e-5c8d37917a6e",
   "metadata": {},
   "outputs": [
    {
     "data": {
      "text/plain": [
       "<tf.Tensor: shape=(4, 6), dtype=int32, numpy=\n",
       "array([[ 1,  2,  3,  4,  5,  6],\n",
       "       [ 7,  8,  9, 10, 11, 12],\n",
       "       [13, 14, 15, 16, 17, 18],\n",
       "       [19, 20, 21, 22, 23, 24]], dtype=int32)>"
      ]
     },
     "execution_count": 49,
     "metadata": {},
     "output_type": "execute_result"
    }
   ],
   "source": [
    "p_A"
   ]
  },
  {
   "cell_type": "code",
   "execution_count": 50,
   "id": "9c897ddc-aee8-4856-aa68-82425430302c",
   "metadata": {},
   "outputs": [],
   "source": [
    "p_B = tf.constant(pandas_A, shape = (2, 3, 4))"
   ]
  },
  {
   "cell_type": "code",
   "execution_count": 51,
   "id": "e413986c-a710-4c26-9376-f9c08a4a15da",
   "metadata": {},
   "outputs": [
    {
     "data": {
      "text/plain": [
       "<tf.Tensor: shape=(2, 3, 4), dtype=int32, numpy=\n",
       "array([[[ 1,  2,  3,  4],\n",
       "        [ 5,  6,  7,  8],\n",
       "        [ 9, 10, 11, 12]],\n",
       "\n",
       "       [[13, 14, 15, 16],\n",
       "        [17, 18, 19, 20],\n",
       "        [21, 22, 23, 24]]], dtype=int32)>"
      ]
     },
     "execution_count": 51,
     "metadata": {},
     "output_type": "execute_result"
    }
   ],
   "source": [
    "p_B"
   ]
  },
  {
   "cell_type": "code",
   "execution_count": 52,
   "id": "2eca5268-0b37-47a2-9351-6064e3163a31",
   "metadata": {},
   "outputs": [
    {
     "data": {
      "text/plain": [
       "3"
      ]
     },
     "execution_count": 52,
     "metadata": {},
     "output_type": "execute_result"
    }
   ],
   "source": [
    "p_B.ndim"
   ]
  },
  {
   "cell_type": "markdown",
   "id": "06ed910d-9177-42e0-b97c-494ffc9aab35",
   "metadata": {},
   "source": [
    "## **Getting information from tensors**"
   ]
  },
  {
   "cell_type": "code",
   "execution_count": 53,
   "id": "30d1bd4f-6253-400e-b8f9-556d0b7699a9",
   "metadata": {},
   "outputs": [
    {
     "name": "stdout",
     "output_type": "stream",
     "text": [
      "Shape: (4, 6), Rank: 2, Size: 24\n"
     ]
    }
   ],
   "source": [
    "print(f'Shape: {p_A.shape}, Rank: {p_A.ndim}, Size: {tf.size(p_A)}')"
   ]
  },
  {
   "cell_type": "code",
   "execution_count": 54,
   "id": "13a41203-bbe3-4b0f-a569-c4ce4908cebc",
   "metadata": {},
   "outputs": [],
   "source": [
    "import re\n",
    "def get_tensor_attributes(tensor):\n",
    "    shape = tensor.shape\n",
    "    rank = tensor.ndim\n",
    "    size = tf.size(tensor)\n",
    "    d_type = f'{tensor.dtype}'.split(':')[1]\n",
    "    d_type = re.sub(r'[\\W]', '', d_type)\n",
    "    \n",
    "    return shape, rank, size, d_type"
   ]
  },
  {
   "cell_type": "code",
   "execution_count": 55,
   "id": "d86c0ed9-4041-4595-94ac-60605d696941",
   "metadata": {},
   "outputs": [
    {
     "name": "stdout",
     "output_type": "stream",
     "text": [
      "Shape: (4, 6), Rank: 2, Size: 24, Datatype: int32\n"
     ]
    }
   ],
   "source": [
    "shape, rank, size, d_type = get_tensor_attributes(p_A)\n",
    "print(f'Shape: {shape}, Rank: {rank}, Size: {size}, Datatype: {d_type}')"
   ]
  },
  {
   "cell_type": "markdown",
   "id": "002ebded-6b37-4666-ab66-0cafd39f0daf",
   "metadata": {},
   "source": [
    "## **Indexing tensors**"
   ]
  },
  {
   "cell_type": "code",
   "execution_count": 56,
   "id": "590fa7ae-6de3-4af8-8506-5d813fc708cd",
   "metadata": {},
   "outputs": [],
   "source": [
    "rank_4_tensor = tf.constant(np.arange(1, 121), shape = (2, 3, 4, 5))"
   ]
  },
  {
   "cell_type": "code",
   "execution_count": 57,
   "id": "8583ee1d-5e17-422d-847f-3b2ac5be8eaf",
   "metadata": {},
   "outputs": [
    {
     "data": {
      "text/plain": [
       "<tf.Tensor: shape=(2, 3, 4, 5), dtype=int64, numpy=\n",
       "array([[[[  1,   2,   3,   4,   5],\n",
       "         [  6,   7,   8,   9,  10],\n",
       "         [ 11,  12,  13,  14,  15],\n",
       "         [ 16,  17,  18,  19,  20]],\n",
       "\n",
       "        [[ 21,  22,  23,  24,  25],\n",
       "         [ 26,  27,  28,  29,  30],\n",
       "         [ 31,  32,  33,  34,  35],\n",
       "         [ 36,  37,  38,  39,  40]],\n",
       "\n",
       "        [[ 41,  42,  43,  44,  45],\n",
       "         [ 46,  47,  48,  49,  50],\n",
       "         [ 51,  52,  53,  54,  55],\n",
       "         [ 56,  57,  58,  59,  60]]],\n",
       "\n",
       "\n",
       "       [[[ 61,  62,  63,  64,  65],\n",
       "         [ 66,  67,  68,  69,  70],\n",
       "         [ 71,  72,  73,  74,  75],\n",
       "         [ 76,  77,  78,  79,  80]],\n",
       "\n",
       "        [[ 81,  82,  83,  84,  85],\n",
       "         [ 86,  87,  88,  89,  90],\n",
       "         [ 91,  92,  93,  94,  95],\n",
       "         [ 96,  97,  98,  99, 100]],\n",
       "\n",
       "        [[101, 102, 103, 104, 105],\n",
       "         [106, 107, 108, 109, 110],\n",
       "         [111, 112, 113, 114, 115],\n",
       "         [116, 117, 118, 119, 120]]]])>"
      ]
     },
     "execution_count": 57,
     "metadata": {},
     "output_type": "execute_result"
    }
   ],
   "source": [
    "rank_4_tensor"
   ]
  },
  {
   "cell_type": "code",
   "execution_count": 58,
   "id": "1eb826f6-b114-40c4-93be-65c577e15f31",
   "metadata": {},
   "outputs": [
    {
     "data": {
      "text/plain": [
       "<tf.Tensor: shape=(2, 2, 2, 2), dtype=int64, numpy=\n",
       "array([[[[ 1,  2],\n",
       "         [ 6,  7]],\n",
       "\n",
       "        [[21, 22],\n",
       "         [26, 27]]],\n",
       "\n",
       "\n",
       "       [[[61, 62],\n",
       "         [66, 67]],\n",
       "\n",
       "        [[81, 82],\n",
       "         [86, 87]]]])>"
      ]
     },
     "execution_count": 58,
     "metadata": {},
     "output_type": "execute_result"
    }
   ],
   "source": [
    "rank_4_tensor[:2, :2, :2, :2]"
   ]
  },
  {
   "cell_type": "code",
   "execution_count": 59,
   "id": "5ba56723-649c-4a3a-868e-fb5f32a50fee",
   "metadata": {},
   "outputs": [
    {
     "data": {
      "text/plain": [
       "<tf.Tensor: shape=(1, 1, 1, 5), dtype=int64, numpy=array([[[[1, 2, 3, 4, 5]]]])>"
      ]
     },
     "execution_count": 59,
     "metadata": {},
     "output_type": "execute_result"
    }
   ],
   "source": [
    "rank_4_tensor[:1, :1, :1, :]"
   ]
  },
  {
   "cell_type": "code",
   "execution_count": 60,
   "id": "2e096470-2fdc-46c0-9c2a-3891933cf4e6",
   "metadata": {},
   "outputs": [
    {
     "data": {
      "text/plain": [
       "<tf.Tensor: shape=(1, 1, 4, 1), dtype=int64, numpy=\n",
       "array([[[[ 1],\n",
       "         [ 6],\n",
       "         [11],\n",
       "         [16]]]])>"
      ]
     },
     "execution_count": 60,
     "metadata": {},
     "output_type": "execute_result"
    }
   ],
   "source": [
    "rank_4_tensor[:1, :1, :, :1]"
   ]
  },
  {
   "cell_type": "code",
   "execution_count": 61,
   "id": "8ae6d3be-2b28-43b5-9fec-a5ee7f54567a",
   "metadata": {},
   "outputs": [
    {
     "data": {
      "text/plain": [
       "<tf.Tensor: shape=(1, 3, 1, 1), dtype=int64, numpy=\n",
       "array([[[[ 1]],\n",
       "\n",
       "        [[21]],\n",
       "\n",
       "        [[41]]]])>"
      ]
     },
     "execution_count": 61,
     "metadata": {},
     "output_type": "execute_result"
    }
   ],
   "source": [
    "rank_4_tensor[:1, :, :1, :1]"
   ]
  },
  {
   "cell_type": "code",
   "execution_count": 62,
   "id": "24206d1e-e80b-4ade-a817-c7612d7b1b8e",
   "metadata": {},
   "outputs": [
    {
     "data": {
      "text/plain": [
       "<tf.Tensor: shape=(2, 1, 1, 1), dtype=int64, numpy=\n",
       "array([[[[ 1]]],\n",
       "\n",
       "\n",
       "       [[[61]]]])>"
      ]
     },
     "execution_count": 62,
     "metadata": {},
     "output_type": "execute_result"
    }
   ],
   "source": [
    "rank_4_tensor[:, :1, :1, :1]"
   ]
  },
  {
   "cell_type": "code",
   "execution_count": 63,
   "id": "0d0df55c-ee3e-4b85-9313-6560bfd1ca48",
   "metadata": {},
   "outputs": [],
   "source": [
    "rank_2_tensor = tf.reshape(rank_4_tensor, shape = (8, 15))"
   ]
  },
  {
   "cell_type": "code",
   "execution_count": 64,
   "id": "c1566327-b385-4220-86bc-5c0eb2251350",
   "metadata": {},
   "outputs": [
    {
     "data": {
      "text/plain": [
       "<tf.Tensor: shape=(8, 15), dtype=int64, numpy=\n",
       "array([[  1,   2,   3,   4,   5,   6,   7,   8,   9,  10,  11,  12,  13,\n",
       "         14,  15],\n",
       "       [ 16,  17,  18,  19,  20,  21,  22,  23,  24,  25,  26,  27,  28,\n",
       "         29,  30],\n",
       "       [ 31,  32,  33,  34,  35,  36,  37,  38,  39,  40,  41,  42,  43,\n",
       "         44,  45],\n",
       "       [ 46,  47,  48,  49,  50,  51,  52,  53,  54,  55,  56,  57,  58,\n",
       "         59,  60],\n",
       "       [ 61,  62,  63,  64,  65,  66,  67,  68,  69,  70,  71,  72,  73,\n",
       "         74,  75],\n",
       "       [ 76,  77,  78,  79,  80,  81,  82,  83,  84,  85,  86,  87,  88,\n",
       "         89,  90],\n",
       "       [ 91,  92,  93,  94,  95,  96,  97,  98,  99, 100, 101, 102, 103,\n",
       "        104, 105],\n",
       "       [106, 107, 108, 109, 110, 111, 112, 113, 114, 115, 116, 117, 118,\n",
       "        119, 120]])>"
      ]
     },
     "execution_count": 64,
     "metadata": {},
     "output_type": "execute_result"
    }
   ],
   "source": [
    "rank_2_tensor"
   ]
  },
  {
   "cell_type": "code",
   "execution_count": 65,
   "id": "e6e3a25d-599d-48de-9ee6-c308e7d84251",
   "metadata": {},
   "outputs": [
    {
     "data": {
      "text/plain": [
       "<tf.Tensor: shape=(8, 5), dtype=int64, numpy=\n",
       "array([[  1,   2,   3,   4,   5],\n",
       "       [ 16,  17,  18,  19,  20],\n",
       "       [ 31,  32,  33,  34,  35],\n",
       "       [ 46,  47,  48,  49,  50],\n",
       "       [ 61,  62,  63,  64,  65],\n",
       "       [ 76,  77,  78,  79,  80],\n",
       "       [ 91,  92,  93,  94,  95],\n",
       "       [106, 107, 108, 109, 110]])>"
      ]
     },
     "execution_count": 65,
     "metadata": {},
     "output_type": "execute_result"
    }
   ],
   "source": [
    "rank_2_tensor[:, :5]"
   ]
  },
  {
   "cell_type": "code",
   "execution_count": 66,
   "id": "b0115552-b8dc-4580-89ea-5f47b6bf7523",
   "metadata": {},
   "outputs": [],
   "source": [
    "rank_2_tensor_1 = tf.constant([[42, 24], [21, 12]])"
   ]
  },
  {
   "cell_type": "code",
   "execution_count": 67,
   "id": "ced51a12-c06a-4f01-a0d4-04d256978900",
   "metadata": {},
   "outputs": [
    {
     "data": {
      "text/plain": [
       "<tf.Tensor: shape=(2, 2), dtype=int32, numpy=\n",
       "array([[42, 24],\n",
       "       [21, 12]], dtype=int32)>"
      ]
     },
     "execution_count": 67,
     "metadata": {},
     "output_type": "execute_result"
    }
   ],
   "source": [
    "rank_2_tensor_1"
   ]
  },
  {
   "cell_type": "code",
   "execution_count": 68,
   "id": "518f8600-aa5b-41b3-98dc-457d95ee3d3b",
   "metadata": {},
   "outputs": [
    {
     "data": {
      "text/plain": [
       "<tf.Tensor: shape=(2,), dtype=int32, numpy=array([24, 12], dtype=int32)>"
      ]
     },
     "execution_count": 68,
     "metadata": {},
     "output_type": "execute_result"
    }
   ],
   "source": [
    "rank_2_tensor_1[:, -1]"
   ]
  },
  {
   "cell_type": "code",
   "execution_count": 69,
   "id": "d51be9d8-9950-47d7-81e7-2ad4a8bc2ec3",
   "metadata": {},
   "outputs": [],
   "source": [
    "rank_3_tensor = rank_2_tensor_1[..., tf.newaxis]"
   ]
  },
  {
   "cell_type": "code",
   "execution_count": 70,
   "id": "0f141ba0-916d-4ce1-9e7e-2a34bc991d1d",
   "metadata": {},
   "outputs": [
    {
     "data": {
      "text/plain": [
       "<tf.Tensor: shape=(2, 2, 1), dtype=int32, numpy=\n",
       "array([[[42],\n",
       "        [24]],\n",
       "\n",
       "       [[21],\n",
       "        [12]]], dtype=int32)>"
      ]
     },
     "execution_count": 70,
     "metadata": {},
     "output_type": "execute_result"
    }
   ],
   "source": [
    "rank_3_tensor"
   ]
  },
  {
   "cell_type": "code",
   "execution_count": 71,
   "id": "45966aa3-0381-4275-bd35-af02298f4354",
   "metadata": {},
   "outputs": [
    {
     "data": {
      "text/plain": [
       "<tf.Tensor: shape=(2, 2, 1), dtype=int32, numpy=\n",
       "array([[[42],\n",
       "        [24]],\n",
       "\n",
       "       [[21],\n",
       "        [12]]], dtype=int32)>"
      ]
     },
     "execution_count": 71,
     "metadata": {},
     "output_type": "execute_result"
    }
   ],
   "source": [
    "tf.expand_dims(rank_2_tensor_1, axis = -1)"
   ]
  },
  {
   "cell_type": "markdown",
   "id": "96817879-143c-41c1-a9b3-49dcbec9cdba",
   "metadata": {},
   "source": [
    "## **Manupilating tensors**"
   ]
  },
  {
   "cell_type": "code",
   "execution_count": 72,
   "id": "ade6b4cf-69b2-4023-a4a2-510037c9ca87",
   "metadata": {},
   "outputs": [],
   "source": [
    "some_tensor = tf.constant([[42, 24], [21, 12]])"
   ]
  },
  {
   "cell_type": "code",
   "execution_count": 73,
   "id": "0f46166d-3deb-4939-a9b1-97a0f54afff6",
   "metadata": {},
   "outputs": [
    {
     "data": {
      "text/plain": [
       "<tf.Tensor: shape=(2, 2), dtype=int32, numpy=\n",
       "array([[42, 24],\n",
       "       [21, 12]], dtype=int32)>"
      ]
     },
     "execution_count": 73,
     "metadata": {},
     "output_type": "execute_result"
    }
   ],
   "source": [
    "some_tensor"
   ]
  },
  {
   "cell_type": "code",
   "execution_count": 74,
   "id": "82ca0cbd-6cf8-439f-84a1-af4bbdf6798e",
   "metadata": {},
   "outputs": [],
   "source": [
    "some_tensor = some_tensor + 42"
   ]
  },
  {
   "cell_type": "code",
   "execution_count": 75,
   "id": "997e6e9a-848d-47bf-a2b7-0fbeea505608",
   "metadata": {},
   "outputs": [
    {
     "data": {
      "text/plain": [
       "<tf.Tensor: shape=(2, 2), dtype=int32, numpy=\n",
       "array([[84, 66],\n",
       "       [63, 54]], dtype=int32)>"
      ]
     },
     "execution_count": 75,
     "metadata": {},
     "output_type": "execute_result"
    }
   ],
   "source": [
    "some_tensor"
   ]
  },
  {
   "cell_type": "code",
   "execution_count": 76,
   "id": "ac4080f3-5f53-4d52-884f-fc48f40ec05a",
   "metadata": {},
   "outputs": [],
   "source": [
    "some_tensor = some_tensor - 42"
   ]
  },
  {
   "cell_type": "code",
   "execution_count": 77,
   "id": "7332ae79-9570-404b-be6b-60eae40153fb",
   "metadata": {},
   "outputs": [
    {
     "data": {
      "text/plain": [
       "<tf.Tensor: shape=(2, 2), dtype=int32, numpy=\n",
       "array([[42, 24],\n",
       "       [21, 12]], dtype=int32)>"
      ]
     },
     "execution_count": 77,
     "metadata": {},
     "output_type": "execute_result"
    }
   ],
   "source": [
    "some_tensor"
   ]
  },
  {
   "cell_type": "code",
   "execution_count": 78,
   "id": "fada2859-036e-4ef0-8d75-e4780c656f2c",
   "metadata": {},
   "outputs": [],
   "source": [
    "some_tensor = some_tensor * 4"
   ]
  },
  {
   "cell_type": "code",
   "execution_count": 79,
   "id": "78e5e0b7-0360-41c1-9cc1-dde32eab8803",
   "metadata": {},
   "outputs": [
    {
     "data": {
      "text/plain": [
       "<tf.Tensor: shape=(2, 2), dtype=int32, numpy=\n",
       "array([[168,  96],\n",
       "       [ 84,  48]], dtype=int32)>"
      ]
     },
     "execution_count": 79,
     "metadata": {},
     "output_type": "execute_result"
    }
   ],
   "source": [
    "some_tensor"
   ]
  },
  {
   "cell_type": "code",
   "execution_count": 80,
   "id": "a26dcf1a-1f96-4b44-a8ba-ca97f457eed2",
   "metadata": {},
   "outputs": [],
   "source": [
    "some_tensor = some_tensor // 4"
   ]
  },
  {
   "cell_type": "code",
   "execution_count": 81,
   "id": "19024950-0c25-4768-b79e-f8b1f82fb217",
   "metadata": {},
   "outputs": [
    {
     "data": {
      "text/plain": [
       "<tf.Tensor: shape=(2, 2), dtype=int32, numpy=\n",
       "array([[42, 24],\n",
       "       [21, 12]], dtype=int32)>"
      ]
     },
     "execution_count": 81,
     "metadata": {},
     "output_type": "execute_result"
    }
   ],
   "source": [
    "some_tensor"
   ]
  },
  {
   "cell_type": "code",
   "execution_count": 82,
   "id": "72c1ba62-1486-4aff-bf79-ca20f405d960",
   "metadata": {},
   "outputs": [],
   "source": [
    "some_tensor = some_tensor / 2"
   ]
  },
  {
   "cell_type": "code",
   "execution_count": 83,
   "id": "e40a56a8-a9b4-490f-bbc4-635fa7dca36f",
   "metadata": {},
   "outputs": [
    {
     "data": {
      "text/plain": [
       "<tf.Tensor: shape=(2, 2), dtype=float64, numpy=\n",
       "array([[21. , 12. ],\n",
       "       [10.5,  6. ]])>"
      ]
     },
     "execution_count": 83,
     "metadata": {},
     "output_type": "execute_result"
    }
   ],
   "source": [
    "some_tensor"
   ]
  },
  {
   "cell_type": "code",
   "execution_count": 84,
   "id": "954f8cb6-c309-414c-b34e-f85174378456",
   "metadata": {},
   "outputs": [],
   "source": [
    "import numpy as np"
   ]
  },
  {
   "cell_type": "code",
   "execution_count": 85,
   "id": "c1533f3f-4e5c-470c-af4a-f60dc391b0e3",
   "metadata": {},
   "outputs": [],
   "source": [
    "some_tensor = np.sqrt(some_tensor)"
   ]
  },
  {
   "cell_type": "code",
   "execution_count": 86,
   "id": "ae81c216-f8ef-43a1-ab31-e13c5510ac36",
   "metadata": {},
   "outputs": [
    {
     "data": {
      "text/plain": [
       "array([[4.58257569, 3.46410162],\n",
       "       [3.24037035, 2.44948974]])"
      ]
     },
     "execution_count": 86,
     "metadata": {},
     "output_type": "execute_result"
    }
   ],
   "source": [
    "some_tensor"
   ]
  },
  {
   "cell_type": "code",
   "execution_count": 87,
   "id": "63ce59db-8b96-4724-be34-362872186f75",
   "metadata": {},
   "outputs": [],
   "source": [
    "some_tensor = pow(some_tensor, 2)"
   ]
  },
  {
   "cell_type": "code",
   "execution_count": 88,
   "id": "43739528-b75f-419e-b7b6-dffd48edd5c7",
   "metadata": {},
   "outputs": [
    {
     "data": {
      "text/plain": [
       "array([[21. , 12. ],\n",
       "       [10.5,  6. ]])"
      ]
     },
     "execution_count": 88,
     "metadata": {},
     "output_type": "execute_result"
    }
   ],
   "source": [
    "some_tensor"
   ]
  },
  {
   "cell_type": "code",
   "execution_count": 89,
   "id": "9efa06b9-c740-4bfe-a4fa-0daea8fd1d8a",
   "metadata": {},
   "outputs": [],
   "source": [
    "some_tensor = some_tensor * 2 "
   ]
  },
  {
   "cell_type": "code",
   "execution_count": 90,
   "id": "47e94b71-62df-4e0d-a7e0-9a562698b3e8",
   "metadata": {},
   "outputs": [
    {
     "data": {
      "text/plain": [
       "array([[42., 24.],\n",
       "       [21., 12.]])"
      ]
     },
     "execution_count": 90,
     "metadata": {},
     "output_type": "execute_result"
    }
   ],
   "source": [
    "some_tensor"
   ]
  },
  {
   "cell_type": "code",
   "execution_count": 91,
   "id": "8d59b66e-656e-4b33-b3da-46e469d765a5",
   "metadata": {},
   "outputs": [],
   "source": [
    "some_tensor = tf.cast(some_tensor, 'int32')"
   ]
  },
  {
   "cell_type": "code",
   "execution_count": 92,
   "id": "608cc8aa-2832-4f13-b0d3-b00968617e0c",
   "metadata": {},
   "outputs": [
    {
     "data": {
      "text/plain": [
       "<tf.Tensor: shape=(2, 2), dtype=int32, numpy=\n",
       "array([[42, 23],\n",
       "       [21, 11]], dtype=int32)>"
      ]
     },
     "execution_count": 92,
     "metadata": {},
     "output_type": "execute_result"
    }
   ],
   "source": [
    "some_tensor"
   ]
  },
  {
   "cell_type": "code",
   "execution_count": 93,
   "id": "09c49eff-dc35-40fe-bd25-a0d6bd7886ac",
   "metadata": {},
   "outputs": [
    {
     "data": {
      "text/plain": [
       "<tf.Tensor: shape=(2, 2), dtype=int32, numpy=\n",
       "array([[50, 31],\n",
       "       [29, 19]], dtype=int32)>"
      ]
     },
     "execution_count": 93,
     "metadata": {},
     "output_type": "execute_result"
    }
   ],
   "source": [
    "tf.math.add(some_tensor, 8)"
   ]
  },
  {
   "cell_type": "code",
   "execution_count": 94,
   "id": "ecf86685-d295-4a3b-8cf4-917c1f8764fe",
   "metadata": {},
   "outputs": [
    {
     "data": {
      "text/plain": [
       "<tf.Tensor: shape=(2, 2), dtype=int32, numpy=\n",
       "array([[29, 10],\n",
       "       [ 8, -2]], dtype=int32)>"
      ]
     },
     "execution_count": 94,
     "metadata": {},
     "output_type": "execute_result"
    }
   ],
   "source": [
    "tf.math.subtract(some_tensor, 13)"
   ]
  },
  {
   "cell_type": "code",
   "execution_count": 95,
   "id": "c9096b59-77a3-4aff-ba57-1f03a214b3ff",
   "metadata": {},
   "outputs": [
    {
     "data": {
      "text/plain": [
       "<tf.Tensor: shape=(2, 2), dtype=int32, numpy=\n",
       "array([[168,  92],\n",
       "       [ 84,  44]], dtype=int32)>"
      ]
     },
     "execution_count": 95,
     "metadata": {},
     "output_type": "execute_result"
    }
   ],
   "source": [
    "tf.math.multiply(some_tensor, 4)"
   ]
  },
  {
   "cell_type": "code",
   "execution_count": 96,
   "id": "f9b61579-7e69-4ac7-9758-6d6108f01ec0",
   "metadata": {},
   "outputs": [
    {
     "data": {
      "text/plain": [
       "<tf.Tensor: shape=(2, 2), dtype=float64, numpy=\n",
       "array([[14.        ,  7.66666667],\n",
       "       [ 7.        ,  3.66666667]])>"
      ]
     },
     "execution_count": 96,
     "metadata": {},
     "output_type": "execute_result"
    }
   ],
   "source": [
    "tf.math.divide(some_tensor, 3)"
   ]
  },
  {
   "cell_type": "markdown",
   "id": "856539a4-ce46-42f4-b6ef-872536eb6187",
   "metadata": {},
   "source": [
    "## **Matrix multiplication**"
   ]
  },
  {
   "cell_type": "code",
   "execution_count": 97,
   "id": "19d02bea-bfae-4652-b99a-9d63c6484497",
   "metadata": {},
   "outputs": [
    {
     "data": {
      "text/plain": [
       "<tf.Tensor: shape=(2, 2), dtype=int32, numpy=\n",
       "array([[42, 23],\n",
       "       [21, 11]], dtype=int32)>"
      ]
     },
     "execution_count": 97,
     "metadata": {},
     "output_type": "execute_result"
    }
   ],
   "source": [
    "some_tensor"
   ]
  },
  {
   "cell_type": "code",
   "execution_count": 98,
   "id": "c35db161-5c46-4f45-8813-5d7efe99702c",
   "metadata": {},
   "outputs": [],
   "source": [
    "some_tensor_t = tf.transpose(some_tensor)"
   ]
  },
  {
   "cell_type": "code",
   "execution_count": 99,
   "id": "d81985e6-8f41-4003-8389-e6a3f855842c",
   "metadata": {},
   "outputs": [
    {
     "data": {
      "text/plain": [
       "<tf.Tensor: shape=(2, 2), dtype=int32, numpy=\n",
       "array([[42, 21],\n",
       "       [23, 11]], dtype=int32)>"
      ]
     },
     "execution_count": 99,
     "metadata": {},
     "output_type": "execute_result"
    }
   ],
   "source": [
    "some_tensor_t"
   ]
  },
  {
   "cell_type": "code",
   "execution_count": 100,
   "id": "82065094-833b-44c0-beeb-87f974981292",
   "metadata": {},
   "outputs": [
    {
     "data": {
      "text/plain": [
       "<tf.Tensor: shape=(2, 2), dtype=int32, numpy=\n",
       "array([[1764,  483],\n",
       "       [ 483,  121]], dtype=int32)>"
      ]
     },
     "execution_count": 100,
     "metadata": {},
     "output_type": "execute_result"
    }
   ],
   "source": [
    "tf.math.multiply(some_tensor, some_tensor_t)"
   ]
  },
  {
   "cell_type": "code",
   "execution_count": 101,
   "id": "a42db989-f49c-4ed4-9f03-cf9c9bcbffd3",
   "metadata": {},
   "outputs": [
    {
     "data": {
      "text/plain": [
       "<tf.Tensor: shape=(2, 2), dtype=int32, numpy=\n",
       "array([[2293, 1135],\n",
       "       [1135,  562]], dtype=int32)>"
      ]
     },
     "execution_count": 101,
     "metadata": {},
     "output_type": "execute_result"
    }
   ],
   "source": [
    "tf.linalg.matmul(some_tensor, some_tensor_t)"
   ]
  },
  {
   "cell_type": "code",
   "execution_count": 102,
   "id": "68146488-a761-4d11-9ed9-e08084c12741",
   "metadata": {},
   "outputs": [],
   "source": [
    "matrix1 = tf.constant([\n",
    "    [1, 2, 3],\n",
    "    [4, 5, 6]\n",
    "])"
   ]
  },
  {
   "cell_type": "code",
   "execution_count": 103,
   "id": "82f5db23-20f1-4e50-ba18-730bdfd66736",
   "metadata": {},
   "outputs": [],
   "source": [
    "matrix2 = tf.constant([\n",
    "    [7, 8],\n",
    "    [10, 11],\n",
    "    [13, 14]\n",
    "])"
   ]
  },
  {
   "cell_type": "code",
   "execution_count": 104,
   "id": "c2433a12-50c2-456e-93a4-bd54bcc0db1f",
   "metadata": {},
   "outputs": [
    {
     "data": {
      "text/plain": [
       "<tf.Tensor: shape=(2, 2), dtype=int32, numpy=\n",
       "array([[ 66,  72],\n",
       "       [156, 171]], dtype=int32)>"
      ]
     },
     "execution_count": 104,
     "metadata": {},
     "output_type": "execute_result"
    }
   ],
   "source": [
    "tf.linalg.matmul(matrix1, matrix2)"
   ]
  },
  {
   "cell_type": "code",
   "execution_count": 105,
   "id": "76d4ced6-979d-4c54-bf90-4f8c89fa1308",
   "metadata": {},
   "outputs": [],
   "source": [
    "matrix3 = tf.constant(np.random.randint(1, 100, 12).reshape(3, 4))"
   ]
  },
  {
   "cell_type": "code",
   "execution_count": 106,
   "id": "a0b1cbb9-6478-4e34-88a1-e20bb57bae3c",
   "metadata": {},
   "outputs": [
    {
     "data": {
      "text/plain": [
       "<tf.Tensor: shape=(3, 4), dtype=int64, numpy=\n",
       "array([[34, 52, 34, 83],\n",
       "       [12, 29, 43, 71],\n",
       "       [40, 18,  1,  8]])>"
      ]
     },
     "execution_count": 106,
     "metadata": {},
     "output_type": "execute_result"
    }
   ],
   "source": [
    "matrix3"
   ]
  },
  {
   "cell_type": "code",
   "execution_count": 107,
   "id": "6827697c-a78d-4ee8-b959-bb09778e52b6",
   "metadata": {},
   "outputs": [],
   "source": [
    "matrix4 = tf.constant(np.random.randint(1, 100, 8).reshape(4, 2))"
   ]
  },
  {
   "cell_type": "code",
   "execution_count": 108,
   "id": "ec5d92fb-2ca7-4048-8a0b-e07457d998a7",
   "metadata": {},
   "outputs": [
    {
     "data": {
      "text/plain": [
       "<tf.Tensor: shape=(4, 2), dtype=int64, numpy=\n",
       "array([[82, 91],\n",
       "       [60, 31],\n",
       "       [61, 17],\n",
       "       [83, 90]])>"
      ]
     },
     "execution_count": 108,
     "metadata": {},
     "output_type": "execute_result"
    }
   ],
   "source": [
    "matrix4"
   ]
  },
  {
   "cell_type": "code",
   "execution_count": 109,
   "id": "6c35c531-a8ca-499b-a7d3-a384c695cdd4",
   "metadata": {},
   "outputs": [
    {
     "data": {
      "text/plain": [
       "<tf.Tensor: shape=(3, 2), dtype=int64, numpy=\n",
       "array([[14871, 12754],\n",
       "       [11240,  9112],\n",
       "       [ 5085,  4935]])>"
      ]
     },
     "execution_count": 109,
     "metadata": {},
     "output_type": "execute_result"
    }
   ],
   "source": [
    "tf.tensordot(matrix3, matrix4, axes = 1)"
   ]
  },
  {
   "cell_type": "code",
   "execution_count": 110,
   "id": "1c8f17db-d8de-444f-909c-96742abb0457",
   "metadata": {},
   "outputs": [
    {
     "data": {
      "text/plain": [
       "<tf.Tensor: shape=(3, 2), dtype=int64, numpy=\n",
       "array([[14871, 12754],\n",
       "       [11240,  9112],\n",
       "       [ 5085,  4935]])>"
      ]
     },
     "execution_count": 110,
     "metadata": {},
     "output_type": "execute_result"
    }
   ],
   "source": [
    "tf.matmul(matrix3, matrix4)"
   ]
  },
  {
   "cell_type": "markdown",
   "id": "9fd678ff-b106-483f-a652-2c0f0b282730",
   "metadata": {},
   "source": [
    "## **Changing tensors datatype**"
   ]
  },
  {
   "cell_type": "code",
   "execution_count": 125,
   "id": "e5ee0299-b536-4c2e-a3aa-c46f04d8f62f",
   "metadata": {},
   "outputs": [],
   "source": [
    "matrix3 = tf.cast(matrix3, dtype = tf.int32)"
   ]
  },
  {
   "cell_type": "code",
   "execution_count": 126,
   "id": "8d467cea-9064-4301-a4da-88401487258c",
   "metadata": {},
   "outputs": [],
   "source": [
    "matrix4 = tf.cast(matrix4, dtype = tf.int32)"
   ]
  },
  {
   "cell_type": "code",
   "execution_count": 127,
   "id": "cbddf252-7182-45fa-a873-6c29b178609e",
   "metadata": {},
   "outputs": [
    {
     "data": {
      "text/plain": [
       "<tf.Tensor: shape=(3, 2), dtype=int32, numpy=\n",
       "array([[14871, 12754],\n",
       "       [11240,  9112],\n",
       "       [ 5085,  4935]], dtype=int32)>"
      ]
     },
     "execution_count": 127,
     "metadata": {},
     "output_type": "execute_result"
    }
   ],
   "source": [
    "tf.matmul(matrix3, matrix4)"
   ]
  },
  {
   "cell_type": "code",
   "execution_count": null,
   "id": "426e39c5-4d40-4c23-ab07-7d04d6d513ff",
   "metadata": {},
   "outputs": [],
   "source": []
  }
 ],
 "metadata": {
  "kernelspec": {
   "display_name": "Python 3 (ipykernel)",
   "language": "python",
   "name": "python3"
  },
  "language_info": {
   "codemirror_mode": {
    "name": "ipython",
    "version": 3
   },
   "file_extension": ".py",
   "mimetype": "text/x-python",
   "name": "python",
   "nbconvert_exporter": "python",
   "pygments_lexer": "ipython3",
   "version": "3.9.19"
  }
 },
 "nbformat": 4,
 "nbformat_minor": 5
}
