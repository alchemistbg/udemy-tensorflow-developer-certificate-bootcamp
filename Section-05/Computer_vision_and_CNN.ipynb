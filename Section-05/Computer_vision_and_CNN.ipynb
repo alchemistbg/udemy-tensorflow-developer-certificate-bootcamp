{
 "cells": [
  {
   "cell_type": "markdown",
   "id": "8fbd18b0-3b52-4585-9860-f85cc6148813",
   "metadata": {},
   "source": [
    "# **Computer vision and convolutional neural networks in tensorflow**"
   ]
  },
  {
   "cell_type": "markdown",
   "id": "1a446ad0-322d-4910-affc-66915f5c692c",
   "metadata": {},
   "source": [
    "## **Inspect the data**"
   ]
  },
  {
   "cell_type": "markdown",
   "id": "a9e52d67-5251-4728-ad87-b6d6e49b0a6d",
   "metadata": {},
   "source": [
    "The data are downloaded locally. They are not loaded from the internet as is in the video."
   ]
  },
  {
   "cell_type": "markdown",
   "id": "7040e3ea-df29-4d31-a7e2-a0da12a7b122",
   "metadata": {},
   "source": [
    "### **Checking number of directories and files**"
   ]
  },
  {
   "cell_type": "code",
   "execution_count": 2,
   "id": "82b0c05a-befc-42de-b3f7-663e9400b48b",
   "metadata": {},
   "outputs": [
    {
     "name": "stdout",
     "output_type": "stream",
     "text": [
      "README.md   Section-03\tSection-05\t     command.txt\n",
      "Section-02  Section-04\tTest_Notebook.ipynb\n"
     ]
    }
   ],
   "source": [
    "!ls"
   ]
  },
  {
   "cell_type": "code",
   "execution_count": 4,
   "id": "4d3857ff-a4e9-4a48-8274-4349546e45c2",
   "metadata": {},
   "outputs": [
    {
     "name": "stdout",
     "output_type": "stream",
     "text": [
      "test  train\n"
     ]
    }
   ],
   "source": [
    "!ls Section-05/pizza_steak/"
   ]
  },
  {
   "cell_type": "code",
   "execution_count": 5,
   "id": "ec5ab689-7758-4b55-90ee-0baee4580488",
   "metadata": {},
   "outputs": [
    {
     "name": "stdout",
     "output_type": "stream",
     "text": [
      "ls: cannot access 'pizza_steak/train': No such file or directory\n"
     ]
    }
   ],
   "source": [
    "!ls pizza_steak/train"
   ]
  },
  {
   "cell_type": "code",
   "execution_count": 6,
   "id": "4d77ae90-70cc-4102-8147-7eaa42feaabd",
   "metadata": {},
   "outputs": [
    {
     "name": "stdout",
     "output_type": "stream",
     "text": [
      "ls: cannot access 'pizza_steak/train/pizza': No such file or directory\n"
     ]
    }
   ],
   "source": [
    "!ls pizza_steak/train/pizza"
   ]
  },
  {
   "cell_type": "code",
   "execution_count": 7,
   "id": "0cc3431f-1a4a-4c27-87a8-9a0320190863",
   "metadata": {},
   "outputs": [
    {
     "name": "stdout",
     "output_type": "stream",
     "text": [
      "ls: cannot access 'pizza_steak/train/steak': No such file or directory\n"
     ]
    }
   ],
   "source": [
    "!ls pizza_steak/train/steak"
   ]
  },
  {
   "cell_type": "code",
   "execution_count": 8,
   "id": "0710d19e-2c6c-4526-b319-c5f6c4b249ab",
   "metadata": {},
   "outputs": [
    {
     "ename": "FileNotFoundError",
     "evalue": "[Errno 2] No such file or directory: 'pizza_steak/train/pizza'",
     "output_type": "error",
     "traceback": [
      "\u001b[0;31m---------------------------------------------------------------------------\u001b[0m",
      "\u001b[0;31mFileNotFoundError\u001b[0m                         Traceback (most recent call last)",
      "Cell \u001b[0;32mIn[8], line 3\u001b[0m\n\u001b[1;32m      1\u001b[0m \u001b[38;5;28;01mimport\u001b[39;00m \u001b[38;5;21;01mos\u001b[39;00m\n\u001b[0;32m----> 3\u001b[0m \u001b[38;5;28mlen\u001b[39m(\u001b[43mos\u001b[49m\u001b[38;5;241;43m.\u001b[39;49m\u001b[43mlistdir\u001b[49m\u001b[43m(\u001b[49m\u001b[38;5;124;43m'\u001b[39;49m\u001b[38;5;124;43mpizza_steak/train/pizza\u001b[39;49m\u001b[38;5;124;43m'\u001b[39;49m\u001b[43m)\u001b[49m)\n",
      "\u001b[0;31mFileNotFoundError\u001b[0m: [Errno 2] No such file or directory: 'pizza_steak/train/pizza'"
     ]
    }
   ],
   "source": [
    "import os\n",
    "\n",
    "len(os.listdir('pizza_steak/train/pizza'))"
   ]
  },
  {
   "cell_type": "code",
   "execution_count": 9,
   "id": "7436525a-41e5-47b9-8103-a83650979cf7",
   "metadata": {},
   "outputs": [],
   "source": [
    "for dirpath, dirnames, filenames in os.walk('pizza_steak/'):\n",
    "    print(f\"There are {len(dirnames)} direcrtories and {len(filenames)} images in {dirpath}\")"
   ]
  },
  {
   "cell_type": "markdown",
   "id": "d9ac1dfc-4279-441e-b410-486b15d7734c",
   "metadata": {},
   "source": [
    "### **Visualising images**"
   ]
  },
  {
   "cell_type": "markdown",
   "id": "d56273cb-1fc1-4039-b4bf-b3bf815f6118",
   "metadata": {},
   "source": [
    "#### Getting class names programmaticaly - First approach"
   ]
  },
  {
   "cell_type": "code",
   "execution_count": 12,
   "id": "732d8fa5-87e0-44cc-a1b0-965f163abc87",
   "metadata": {},
   "outputs": [
    {
     "name": "stdout",
     "output_type": "stream",
     "text": [
      "['pizza' 'steak']\n"
     ]
    }
   ],
   "source": [
    "import pathlib\n",
    "import numpy as np\n",
    "\n",
    "data_lib = pathlib.Path('Section-05/pizza_steak/train')\n",
    "classes_1st = np.array(sorted([item.name for item in data_lib.glob(\"*\")]))\n",
    "print(classes_1st)"
   ]
  },
  {
   "cell_type": "markdown",
   "id": "3b35fc3c-cbe2-49cd-b249-e91e9e720eee",
   "metadata": {},
   "source": [
    "#### Getting class names programmaticaly - Second approach"
   ]
  },
  {
   "cell_type": "code",
   "execution_count": 14,
   "id": "84261360-b55f-43be-aeee-b2a5e9241d92",
   "metadata": {},
   "outputs": [
    {
     "name": "stdout",
     "output_type": "stream",
     "text": [
      "['pizza', 'steak']\n"
     ]
    }
   ],
   "source": [
    "classes_2nd = os.listdir('Section-05/pizza_steak/train/')\n",
    "print(classes_2nd)"
   ]
  },
  {
   "cell_type": "markdown",
   "id": "c9aa8ab3-a489-47eb-a34b-075f70708519",
   "metadata": {},
   "source": [
    "#### Coding the visualisation"
   ]
  },
  {
   "cell_type": "code",
   "execution_count": 15,
   "id": "34f322a5-ccdd-4f6c-9bf0-a3398e926e50",
   "metadata": {},
   "outputs": [],
   "source": [
    "import random\n",
    "import matplotlib.pyplot as plt\n",
    "import matplotlib.image as mpimg"
   ]
  },
  {
   "cell_type": "code",
   "execution_count": 16,
   "id": "3d132b87-b98d-43b3-98f0-aa3ff29ec40f",
   "metadata": {},
   "outputs": [],
   "source": [
    "def view_random_image(target_dir, target_class):\n",
    "    target_folder = target_dir + '/' + target_class\n",
    "\n",
    "    random_image = random.sample(os.listdir(target_folder), 1)[0]\n",
    "\n",
    "    img = mpimg.imread(target_folder + '/' + random_image)\n",
    "    plt.imshow(img)\n",
    "    plt.title(f'{target_class} ({random_image})')\n",
    "    plt.axis('off')\n",
    "\n",
    "    return img"
   ]
  },
  {
   "cell_type": "code",
   "execution_count": 17,
   "id": "cf9754a7-7a0c-4ebb-a71e-0fa7e5c8bafa",
   "metadata": {},
   "outputs": [
    {
     "ename": "FileNotFoundError",
     "evalue": "[Errno 2] No such file or directory: 'pizza_steak/train/pizza'",
     "output_type": "error",
     "traceback": [
      "\u001b[0;31m---------------------------------------------------------------------------\u001b[0m",
      "\u001b[0;31mFileNotFoundError\u001b[0m                         Traceback (most recent call last)",
      "Cell \u001b[0;32mIn[17], line 1\u001b[0m\n\u001b[0;32m----> 1\u001b[0m img \u001b[38;5;241m=\u001b[39m \u001b[43mview_random_image\u001b[49m\u001b[43m(\u001b[49m\u001b[38;5;124;43m'\u001b[39;49m\u001b[38;5;124;43mpizza_steak/train\u001b[39;49m\u001b[38;5;124;43m'\u001b[39;49m\u001b[43m,\u001b[49m\u001b[43m \u001b[49m\u001b[38;5;124;43m'\u001b[39;49m\u001b[38;5;124;43mpizza\u001b[39;49m\u001b[38;5;124;43m'\u001b[39;49m\u001b[43m)\u001b[49m\n\u001b[1;32m      2\u001b[0m \u001b[38;5;28mprint\u001b[39m(img\u001b[38;5;241m.\u001b[39mshape)\n",
      "Cell \u001b[0;32mIn[16], line 4\u001b[0m, in \u001b[0;36mview_random_image\u001b[0;34m(target_dir, target_class)\u001b[0m\n\u001b[1;32m      1\u001b[0m \u001b[38;5;28;01mdef\u001b[39;00m \u001b[38;5;21mview_random_image\u001b[39m(target_dir, target_class):\n\u001b[1;32m      2\u001b[0m     target_folder \u001b[38;5;241m=\u001b[39m target_dir \u001b[38;5;241m+\u001b[39m \u001b[38;5;124m'\u001b[39m\u001b[38;5;124m/\u001b[39m\u001b[38;5;124m'\u001b[39m \u001b[38;5;241m+\u001b[39m target_class\n\u001b[0;32m----> 4\u001b[0m     random_image \u001b[38;5;241m=\u001b[39m random\u001b[38;5;241m.\u001b[39msample(\u001b[43mos\u001b[49m\u001b[38;5;241;43m.\u001b[39;49m\u001b[43mlistdir\u001b[49m\u001b[43m(\u001b[49m\u001b[43mtarget_folder\u001b[49m\u001b[43m)\u001b[49m, \u001b[38;5;241m1\u001b[39m)[\u001b[38;5;241m0\u001b[39m]\n\u001b[1;32m      6\u001b[0m     img \u001b[38;5;241m=\u001b[39m mpimg\u001b[38;5;241m.\u001b[39mimread(target_folder \u001b[38;5;241m+\u001b[39m \u001b[38;5;124m'\u001b[39m\u001b[38;5;124m/\u001b[39m\u001b[38;5;124m'\u001b[39m \u001b[38;5;241m+\u001b[39m random_image)\n\u001b[1;32m      7\u001b[0m     plt\u001b[38;5;241m.\u001b[39mimshow(img)\n",
      "\u001b[0;31mFileNotFoundError\u001b[0m: [Errno 2] No such file or directory: 'pizza_steak/train/pizza'"
     ]
    }
   ],
   "source": [
    "img = view_random_image('pizza_steak/train', 'pizza')\n",
    "print(img.shape)"
   ]
  },
  {
   "cell_type": "markdown",
   "id": "92bc903a-ebb3-4561-a94a-66b888f37fcb",
   "metadata": {},
   "source": [
    "#### Converting an image to a tensor"
   ]
  },
  {
   "cell_type": "code",
   "execution_count": 18,
   "id": "7e4e2ae2-7ed4-4d56-a755-0c10f8d45a5d",
   "metadata": {},
   "outputs": [],
   "source": [
    "import tensorflow as tf"
   ]
  },
  {
   "cell_type": "code",
   "execution_count": 19,
   "id": "67b9707d-440a-4c54-bdec-44939267e833",
   "metadata": {},
   "outputs": [],
   "source": [
    "# img_tensor = tf.constant(img)\n",
    "# img_tensor"
   ]
  },
  {
   "cell_type": "code",
   "execution_count": 20,
   "id": "b53b5035-edb2-41de-8067-4da6dd538a8d",
   "metadata": {},
   "outputs": [],
   "source": [
    "# Normalizing the tensor (Get all the pixel values between 0 & 1)\n",
    "# img_tensor/255"
   ]
  },
  {
   "cell_type": "markdown",
   "id": "afde4049-cf20-438f-8adf-18194b5de521",
   "metadata": {},
   "source": [
    "## **Creating the initial convolutional network model**"
   ]
  },
  {
   "cell_type": "markdown",
   "id": "b1a2cbe6-168d-45a6-a827-f071ec90ec2c",
   "metadata": {},
   "source": [
    "### Prepare the data"
   ]
  },
  {
   "cell_type": "code",
   "execution_count": 21,
   "id": "98e391f2-06cf-4bdb-9b89-a4510a1909dd",
   "metadata": {},
   "outputs": [],
   "source": [
    "import tensorflow as tf\n",
    "from tensorflow.keras.preprocessing.image import ImageDataGenerator\n",
    "\n",
    "gpus = tf.config.list_physical_devices('GPU')\n",
    "if gpus:\n",
    "    try:\n",
    "        for gpu in gpus:\n",
    "            tf.config.experimental.set_memory_growth(gpu, True)\n",
    "    except RuntimeError as e:\n",
    "        print(e)"
   ]
  },
  {
   "cell_type": "code",
   "execution_count": 22,
   "id": "de75dcf6-633e-4a69-9965-3c0c1313bdee",
   "metadata": {},
   "outputs": [],
   "source": [
    "tf.random.set_seed(42)"
   ]
  },
  {
   "cell_type": "code",
   "execution_count": 23,
   "id": "f0e36202-cdde-4f69-8e63-d1118b77f643",
   "metadata": {},
   "outputs": [],
   "source": [
    "train_datagen = ImageDataGenerator(rescale = 1/255)\n",
    "test_datagen = ImageDataGenerator(rescale = 1/255)"
   ]
  },
  {
   "cell_type": "code",
   "execution_count": 25,
   "id": "02c39068-eded-473e-9696-47a5433403c8",
   "metadata": {},
   "outputs": [],
   "source": [
    "train_data_dir = 'Section-05/pizza_steak/train'\n",
    "test_data_dir = 'Section-05/pizza_steak/test'"
   ]
  },
  {
   "cell_type": "code",
   "execution_count": 26,
   "id": "56998238-dbe5-4ea4-b98a-8fe8385ee9bf",
   "metadata": {},
   "outputs": [
    {
     "name": "stdout",
     "output_type": "stream",
     "text": [
      "Found 1500 images belonging to 2 classes.\n"
     ]
    }
   ],
   "source": [
    "train_data = train_datagen.flow_from_directory(\n",
    "    directory = train_data_dir,\n",
    "    batch_size = 8,\n",
    "    target_size = (224, 224),\n",
    "    class_mode = 'binary',\n",
    "    seed = 42,\n",
    "    shuffle=False\n",
    ")"
   ]
  },
  {
   "cell_type": "code",
   "execution_count": 27,
   "id": "9c36efcd-213a-407c-b2b9-4a42d8a4031f",
   "metadata": {},
   "outputs": [
    {
     "name": "stdout",
     "output_type": "stream",
     "text": [
      "Found 500 images belonging to 2 classes.\n"
     ]
    }
   ],
   "source": [
    "test_data = test_datagen.flow_from_directory(\n",
    "    directory = test_data_dir,\n",
    "    batch_size = 4,\n",
    "    target_size = (224, 224),\n",
    "    class_mode = 'binary',\n",
    "    seed = 42,\n",
    "    shuffle=False\n",
    ")"
   ]
  },
  {
   "cell_type": "markdown",
   "id": "52d2aea9-ab55-449c-828d-6580722d2429",
   "metadata": {},
   "source": [
    "### Define the model"
   ]
  },
  {
   "cell_type": "code",
   "execution_count": 28,
   "id": "4a29f00a-9a00-4f71-830c-7811da68215e",
   "metadata": {},
   "outputs": [
    {
     "name": "stderr",
     "output_type": "stream",
     "text": [
      "2025-05-14 09:11:12.462711: I tensorflow/core/platform/cpu_feature_guard.cc:142] This TensorFlow binary is optimized with oneAPI Deep Neural Network Library (oneDNN) to use the following CPU instructions in performance-critical operations:  SSE4.1 SSE4.2 AVX AVX2 AVX512F FMA\n",
      "To enable them in other operations, rebuild TensorFlow with the appropriate compiler flags.\n",
      "2025-05-14 09:11:12.465216: I tensorflow/compiler/jit/xla_gpu_device.cc:99] Not creating XLA devices, tf_xla_enable_xla_devices not set\n",
      "2025-05-14 09:11:12.465502: E tensorflow/stream_executor/cuda/cuda_gpu_executor.cc:927] could not open file to read NUMA node: /sys/bus/pci/devices/0000:01:00.0/numa_node\n",
      "Your kernel may have been built without NUMA support.\n",
      "2025-05-14 09:11:12.465533: I tensorflow/core/common_runtime/gpu/gpu_device.cc:1720] Found device 0 with properties: \n",
      "pciBusID: 0000:01:00.0 name: NVIDIA GeForce RTX 3060 computeCapability: 8.6\n",
      "coreClock: 1.837GHz coreCount: 28 deviceMemorySize: 12.00GiB deviceMemoryBandwidth: 335.32GiB/s\n",
      "2025-05-14 09:11:12.465559: I tensorflow/stream_executor/platform/default/dso_loader.cc:49] Successfully opened dynamic library libcudart.so.10.1\n",
      "2025-05-14 09:11:12.465586: I tensorflow/stream_executor/platform/default/dso_loader.cc:49] Successfully opened dynamic library libcublas.so.10\n",
      "2025-05-14 09:11:12.465594: I tensorflow/stream_executor/platform/default/dso_loader.cc:49] Successfully opened dynamic library libcublasLt.so.10\n",
      "2025-05-14 09:11:12.465603: I tensorflow/stream_executor/platform/default/dso_loader.cc:49] Successfully opened dynamic library libcufft.so.10\n",
      "2025-05-14 09:11:12.465611: I tensorflow/stream_executor/platform/default/dso_loader.cc:49] Successfully opened dynamic library libcurand.so.10\n",
      "2025-05-14 09:11:12.465620: I tensorflow/stream_executor/platform/default/dso_loader.cc:49] Successfully opened dynamic library libcusolver.so.10\n",
      "2025-05-14 09:11:12.465628: I tensorflow/stream_executor/platform/default/dso_loader.cc:49] Successfully opened dynamic library libcusparse.so.10\n",
      "2025-05-14 09:11:12.465636: I tensorflow/stream_executor/platform/default/dso_loader.cc:49] Successfully opened dynamic library libcudnn.so.7\n",
      "2025-05-14 09:11:12.465674: E tensorflow/stream_executor/cuda/cuda_gpu_executor.cc:927] could not open file to read NUMA node: /sys/bus/pci/devices/0000:01:00.0/numa_node\n",
      "Your kernel may have been built without NUMA support.\n",
      "2025-05-14 09:11:12.465706: E tensorflow/stream_executor/cuda/cuda_gpu_executor.cc:927] could not open file to read NUMA node: /sys/bus/pci/devices/0000:01:00.0/numa_node\n",
      "Your kernel may have been built without NUMA support.\n",
      "2025-05-14 09:11:12.465713: I tensorflow/core/common_runtime/gpu/gpu_device.cc:1862] Adding visible gpu devices: 0\n",
      "2025-05-14 09:11:12.466244: I tensorflow/stream_executor/platform/default/dso_loader.cc:49] Successfully opened dynamic library libcudart.so.10.1\n",
      "2025-05-14 09:11:55.211359: I tensorflow/core/common_runtime/gpu/gpu_device.cc:1261] Device interconnect StreamExecutor with strength 1 edge matrix:\n",
      "2025-05-14 09:11:55.211375: I tensorflow/core/common_runtime/gpu/gpu_device.cc:1267]      0 \n",
      "2025-05-14 09:11:55.211379: I tensorflow/core/common_runtime/gpu/gpu_device.cc:1280] 0:   N \n",
      "2025-05-14 09:11:55.212138: E tensorflow/stream_executor/cuda/cuda_gpu_executor.cc:927] could not open file to read NUMA node: /sys/bus/pci/devices/0000:01:00.0/numa_node\n",
      "Your kernel may have been built without NUMA support.\n",
      "2025-05-14 09:11:55.212151: I tensorflow/core/common_runtime/gpu/gpu_device.cc:1489] Could not identify NUMA node of platform GPU id 0, defaulting to 0.  Your kernel may not have been built with NUMA support.\n",
      "2025-05-14 09:11:55.212183: E tensorflow/stream_executor/cuda/cuda_gpu_executor.cc:927] could not open file to read NUMA node: /sys/bus/pci/devices/0000:01:00.0/numa_node\n",
      "Your kernel may have been built without NUMA support.\n",
      "2025-05-14 09:11:55.212233: E tensorflow/stream_executor/cuda/cuda_gpu_executor.cc:927] could not open file to read NUMA node: /sys/bus/pci/devices/0000:01:00.0/numa_node\n",
      "Your kernel may have been built without NUMA support.\n",
      "2025-05-14 09:11:55.212258: I tensorflow/core/common_runtime/gpu/gpu_device.cc:1406] Created TensorFlow device (/job:localhost/replica:0/task:0/device:GPU:0 with 10436 MB memory) -> physical GPU (device: 0, name: NVIDIA GeForce RTX 3060, pci bus id: 0000:01:00.0, compute capability: 8.6)\n"
     ]
    }
   ],
   "source": [
    "model_1 = tf.keras.models.Sequential([\n",
    "    tf.keras.layers.Conv2D(\n",
    "        filters = 10,\n",
    "        kernel_size = 3,\n",
    "        activation = 'relu',\n",
    "        input_shape = (224, 224, 3)\n",
    "    ),\n",
    "    tf.keras.layers.Conv2D(\n",
    "        filters = 10,\n",
    "        kernel_size = 3,\n",
    "        activation = 'relu'\n",
    "    ),\n",
    "    tf.keras.layers.MaxPool2D(\n",
    "        pool_size = 2,\n",
    "        padding = 'valid'\n",
    "    ),\n",
    "    # tf.keras.layers.Conv2D(\n",
    "    #     filters = 10,\n",
    "    #     kernel_size = 3,\n",
    "    #     activation = 'relu'\n",
    "    # ),\n",
    "    # tf.keras.layers.Conv2D(\n",
    "    #     filters = 10,\n",
    "    #     kernel_size = 3,\n",
    "    #     activation = 'relu'\n",
    "    # ),\n",
    "    # tf.keras.layers.MaxPool2D(\n",
    "    #     pool_size = 2\n",
    "    # ),\n",
    "    tf.keras.layers.Flatten(),\n",
    "    tf.keras.layers.Dense(1, activation = 'sigmoid')\n",
    "])"
   ]
  },
  {
   "cell_type": "code",
   "execution_count": 29,
   "id": "fab712ca-5f45-4e6f-a007-7b794eb6b8ee",
   "metadata": {},
   "outputs": [],
   "source": [
    "model_1.compile(\n",
    "    loss = 'binary_crossentropy',\n",
    "    optimizer = tf.keras.optimizers.Adam(),\n",
    "    metrics = ['accuracy']\n",
    ")"
   ]
  },
  {
   "cell_type": "markdown",
   "id": "06816c9d-5d92-4df7-bd99-c12da47c405d",
   "metadata": {},
   "source": [
    "### Fit the model"
   ]
  },
  {
   "cell_type": "code",
   "execution_count": 30,
   "id": "f10eb6ad-d089-4aa1-ac7c-aff3d6484357",
   "metadata": {},
   "outputs": [
    {
     "name": "stderr",
     "output_type": "stream",
     "text": [
      "2025-05-14 09:11:55.441594: I tensorflow/compiler/mlir/mlir_graph_optimization_pass.cc:116] None of the MLIR optimization passes are enabled (registered 2)\n",
      "2025-05-14 09:11:55.443849: I tensorflow/core/platform/profile_utils/cpu_utils.cc:112] CPU Frequency: 4699905000 Hz\n",
      "2025-05-14 09:11:55.622287: I tensorflow/stream_executor/platform/default/dso_loader.cc:49] Successfully opened dynamic library libcublas.so.10\n"
     ]
    },
    {
     "name": "stdout",
     "output_type": "stream",
     "text": [
      "Epoch 1/5\n"
     ]
    },
    {
     "name": "stderr",
     "output_type": "stream",
     "text": [
      "2025-05-14 09:11:56.215888: I tensorflow/stream_executor/platform/default/dso_loader.cc:49] Successfully opened dynamic library libcudnn.so.7\n",
      "2025-05-14 09:13:21.313741: W tensorflow/stream_executor/gpu/asm_compiler.cc:63] Running ptxas --version returned 256\n",
      "2025-05-14 09:13:21.375127: W tensorflow/stream_executor/gpu/redzone_allocator.cc:314] Internal: ptxas exited with non-zero error code 256, output: \n",
      "Relying on driver to perform ptx compilation. \n",
      "Modify $PATH to customize ptxas location.\n",
      "This message will be only logged once.\n"
     ]
    },
    {
     "name": "stdout",
     "output_type": "stream",
     "text": [
      "188/188 [==============================] - 105s 78ms/step - loss: nan - accuracy: 0.5367 - val_loss: nan - val_accuracy: 0.5000\n",
      "Epoch 2/5\n",
      "188/188 [==============================] - 9s 49ms/step - loss: nan - accuracy: 0.5193 - val_loss: nan - val_accuracy: 0.5000\n",
      "Epoch 3/5\n",
      "188/188 [==============================] - 9s 49ms/step - loss: nan - accuracy: 0.5304 - val_loss: nan - val_accuracy: 0.5000\n",
      "Epoch 4/5\n",
      "188/188 [==============================] - 9s 48ms/step - loss: nan - accuracy: 0.5579 - val_loss: nan - val_accuracy: 0.5000\n",
      "Epoch 5/5\n",
      "188/188 [==============================] - 9s 48ms/step - loss: nan - accuracy: 0.4908 - val_loss: nan - val_accuracy: 0.5000\n"
     ]
    }
   ],
   "source": [
    "history_1 = model_1.fit(\n",
    "    train_data,\n",
    "    epochs = 5,\n",
    "    steps_per_epoch = len(train_data),\n",
    "    validation_data = test_data,\n",
    "    validation_steps = len(test_data)\n",
    ")"
   ]
  },
  {
   "cell_type": "code",
   "execution_count": null,
   "id": "3431393b",
   "metadata": {},
   "outputs": [],
   "source": []
  },
  {
   "cell_type": "code",
   "execution_count": 1,
   "id": "28b3c318-8dff-4627-9c14-e1e89d3d2734",
   "metadata": {},
   "outputs": [
    {
     "name": "stderr",
     "output_type": "stream",
     "text": [
      "2025-05-14 09:08:49.920287: I tensorflow/stream_executor/platform/default/dso_loader.cc:49] Successfully opened dynamic library libcudart.so.10.1\n"
     ]
    },
    {
     "name": "stdout",
     "output_type": "stream",
     "text": [
      "TensorFlow version: 2.4.1\n",
      "GPU available: [PhysicalDevice(name='/physical_device:GPU:0', device_type='GPU')]\n"
     ]
    },
    {
     "name": "stderr",
     "output_type": "stream",
     "text": [
      "2025-05-14 09:08:52.162067: I tensorflow/compiler/jit/xla_cpu_device.cc:41] Not creating XLA devices, tf_xla_enable_xla_devices not set\n",
      "2025-05-14 09:08:52.167439: I tensorflow/stream_executor/platform/default/dso_loader.cc:49] Successfully opened dynamic library libcuda.so.1\n",
      "2025-05-14 09:08:52.597098: E tensorflow/stream_executor/cuda/cuda_gpu_executor.cc:927] could not open file to read NUMA node: /sys/bus/pci/devices/0000:01:00.0/numa_node\n",
      "Your kernel may have been built without NUMA support.\n",
      "2025-05-14 09:08:52.597153: I tensorflow/core/common_runtime/gpu/gpu_device.cc:1720] Found device 0 with properties: \n",
      "pciBusID: 0000:01:00.0 name: NVIDIA GeForce RTX 3060 computeCapability: 8.6\n",
      "coreClock: 1.837GHz coreCount: 28 deviceMemorySize: 12.00GiB deviceMemoryBandwidth: 335.32GiB/s\n",
      "2025-05-14 09:08:52.597177: I tensorflow/stream_executor/platform/default/dso_loader.cc:49] Successfully opened dynamic library libcudart.so.10.1\n",
      "2025-05-14 09:08:52.631466: I tensorflow/stream_executor/platform/default/dso_loader.cc:49] Successfully opened dynamic library libcublas.so.10\n",
      "2025-05-14 09:08:52.631519: I tensorflow/stream_executor/platform/default/dso_loader.cc:49] Successfully opened dynamic library libcublasLt.so.10\n",
      "2025-05-14 09:08:52.650821: I tensorflow/stream_executor/platform/default/dso_loader.cc:49] Successfully opened dynamic library libcufft.so.10\n",
      "2025-05-14 09:08:52.655801: I tensorflow/stream_executor/platform/default/dso_loader.cc:49] Successfully opened dynamic library libcurand.so.10\n",
      "2025-05-14 09:08:52.688631: I tensorflow/stream_executor/platform/default/dso_loader.cc:49] Successfully opened dynamic library libcusolver.so.10\n",
      "2025-05-14 09:08:52.693522: I tensorflow/stream_executor/platform/default/dso_loader.cc:49] Successfully opened dynamic library libcusparse.so.10\n",
      "2025-05-14 09:08:52.749623: I tensorflow/stream_executor/platform/default/dso_loader.cc:49] Successfully opened dynamic library libcudnn.so.7\n",
      "2025-05-14 09:08:52.749803: E tensorflow/stream_executor/cuda/cuda_gpu_executor.cc:927] could not open file to read NUMA node: /sys/bus/pci/devices/0000:01:00.0/numa_node\n",
      "Your kernel may have been built without NUMA support.\n",
      "2025-05-14 09:08:52.749834: E tensorflow/stream_executor/cuda/cuda_gpu_executor.cc:927] could not open file to read NUMA node: /sys/bus/pci/devices/0000:01:00.0/numa_node\n",
      "Your kernel may have been built without NUMA support.\n",
      "2025-05-14 09:08:52.749841: I tensorflow/core/common_runtime/gpu/gpu_device.cc:1862] Adding visible gpu devices: 0\n"
     ]
    }
   ],
   "source": [
    "import tensorflow as tf\n",
    "print(\"TensorFlow version:\", tf.__version__)\n",
    "print(\"GPU available:\", tf.config.list_physical_devices('GPU'))"
   ]
  },
  {
   "cell_type": "code",
   "execution_count": null,
   "id": "fb7fc6a6-3cd8-4983-beb5-5f9ab9afe043",
   "metadata": {},
   "outputs": [],
   "source": []
  }
 ],
 "metadata": {
  "kernelspec": {
   "display_name": "Python 3 (ipykernel)",
   "language": "python",
   "name": "python3"
  },
  "language_info": {
   "codemirror_mode": {
    "name": "ipython",
    "version": 3
   },
   "file_extension": ".py",
   "mimetype": "text/x-python",
   "name": "python",
   "nbconvert_exporter": "python",
   "pygments_lexer": "ipython3",
   "version": "3.9.19"
  }
 },
 "nbformat": 4,
 "nbformat_minor": 5
}
